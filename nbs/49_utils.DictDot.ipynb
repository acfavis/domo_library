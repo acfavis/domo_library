{
 "cells": [
  {
   "cell_type": "raw",
   "metadata": {},
   "source": [
    "---\n",
    "description: Default description (change me)\n",
    "output-file: utils.dictdot.html\n",
    "title: Default Title (change me)\n",
    "\n",
    "---\n",
    "\n"
   ]
  },
  {
   "cell_type": "code",
   "execution_count": null,
   "metadata": {},
   "outputs": [],
   "source": [
    "#| default_exp utils.DictDot"
   ]
  },
  {
   "cell_type": "code",
   "execution_count": null,
   "metadata": {},
   "outputs": [],
   "source": [
    "#| export\n",
    "from types import SimpleNamespace"
   ]
  },
  {
   "cell_type": "code",
   "execution_count": null,
   "metadata": {},
   "outputs": [],
   "source": [
    "#| export\n",
    "class DictDot(SimpleNamespace):\n",
    "    def __init__(self, dictionary, **kwargs):\n",
    "        super().__init__(**kwargs)\n",
    "\n",
    "        for key, value in dictionary.items():\n",
    "            if isinstance(value, dict):\n",
    "                self.__setattr__(key, DictDot(value))\n",
    "            elif isinstance(value, list):\n",
    "                new_list = []\n",
    "                for item in value:\n",
    "                    if isinstance(item, dict):\n",
    "                        new_list.append(DictDot(item))\n",
    "                    else:\n",
    "                        new_list.append(item)\n",
    "                self.__setattr__(key, new_list)\n",
    "            else:\n",
    "                self.__setattr__(key, value)\n",
    "\n",
    "    def __getattr__(self, item):\n",
    "        return None"
   ]
  }
 ],
 "metadata": {
  "jupytext": {
   "split_at_heading": true
  },
  "kernelspec": {
   "display_name": "Python 3",
   "language": "python",
   "name": "python3"
  }
 },
 "nbformat": 4,
 "nbformat_minor": 4
}
