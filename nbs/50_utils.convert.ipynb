{
 "cells": [
  {
   "cell_type": "raw",
   "metadata": {},
   "source": [
    "---\n",
    "description: Default description (change me)\n",
    "output-file: utils.convert.html\n",
    "title: Default Title (change me)\n",
    "\n",
    "---\n",
    "\n"
   ]
  },
  {
   "cell_type": "code",
   "execution_count": null,
   "metadata": {},
   "outputs": [],
   "source": [
    "#| default_exp utils.convert"
   ]
  },
  {
   "cell_type": "code",
   "execution_count": null,
   "metadata": {},
   "outputs": [],
   "source": [
    "#| export\n",
    "import datetime as dt"
   ]
  },
  {
   "cell_type": "code",
   "execution_count": null,
   "metadata": {},
   "outputs": [],
   "source": [
    "#| export\n",
    "def convert_epoch_millisecond_to_datetime(epoch: int):\n",
    "    '''convert Epoch time with miliseconds to Date time'''\n",
    "    return dt.datetime.fromtimestamp(epoch / 1000.0)"
   ]
  },
  {
   "cell_type": "code",
   "execution_count": null,
   "metadata": {},
   "outputs": [],
   "source": [
    "#| export\n",
    "def convert_datetime_to_epoch_millisecond(datetime: dt.datetime):\n",
    "    '''convert DateTime to Epoch time with Miliseconds'''\n",
    "    return int(datetime.timestamp() * 1000)"
   ]
  },
  {
   "cell_type": "code",
   "execution_count": null,
   "metadata": {},
   "outputs": [],
   "source": [
    "#| export\n",
    "def convert_snake_to_pascal(str):\n",
    "    clean_str = str.replace(\"_\", \" \").title().replace(\" \", \"\")\n",
    "    return clean_str[0].lower()+clean_str[1:]"
   ]
  }
 ],
 "metadata": {
  "jupytext": {
   "split_at_heading": true
  },
  "kernelspec": {
   "display_name": "Python 3",
   "language": "python",
   "name": "python3"
  }
 },
 "nbformat": 4,
 "nbformat_minor": 4
}
