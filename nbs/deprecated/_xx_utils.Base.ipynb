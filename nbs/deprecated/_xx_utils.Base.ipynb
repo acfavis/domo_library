{
 "cells": [
  {
   "cell_type": "raw",
   "metadata": {},
   "source": [
    "---\n",
    "description: Default description (change me)\n",
    "output-file: utils.base.html\n",
    "title: Default Title (change me)\n",
    "\n",
    "---\n",
    "\n"
   ]
  },
  {
   "cell_type": "code",
   "execution_count": null,
   "metadata": {},
   "outputs": [],
   "source": [
    "#| default_exp utils.Base"
   ]
  },
  {
   "cell_type": "code",
   "execution_count": null,
   "metadata": {},
   "outputs": [],
   "source": [
    "#| export\n",
    "import json\n",
    "from pprint import pprint"
   ]
  },
  {
   "cell_type": "code",
   "execution_count": null,
   "metadata": {},
   "outputs": [],
   "source": [
    "#| export\n",
    "class Base:\n",
    "    def __init__(self):\n",
    "        pass\n",
    "\n",
    "    def print(self, is_pretty: bool = False, exclude: list[str] = None):\n",
    "\n",
    "        if is_pretty:\n",
    "            print_obj = vars(self)\n",
    "            if exclude:\n",
    "                for ex in exclude:\n",
    "                    print_obj.pop(ex, None)\n",
    "\n",
    "            pprint(print_obj)\n",
    "        else:\n",
    "            print(vars(self))\n",
    "\n",
    "    def write_to_disk(self, data, file_name):\n",
    "        with open(file_name, 'w') as f:\n",
    "            json.dump(data, f)"
   ]
  },
  {
   "cell_type": "code",
   "execution_count": null,
   "metadata": {},
   "outputs": [],
   "source": [
    "# import os\n",
    "# print(os.environ['DOMO_DOJO'])\n",
    "\n",
    "# import json\n",
    "# json.loads(os.environ['DOMO_DOJO'])\n"
   ]
  },
  {
   "cell_type": "code",
   "execution_count": null,
   "metadata": {},
   "outputs": [],
   "source": [
    "\n"
   ]
  }
 ],
 "metadata": {
  "jupytext": {
   "split_at_heading": true
  },
  "kernelspec": {
   "display_name": "Python 3",
   "language": "python",
   "name": "python3"
  }
 },
 "nbformat": 4,
 "nbformat_minor": 4
}
