{
 "cells": [
  {
   "attachments": {},
   "cell_type": "raw",
   "id": "b8e196a9",
   "metadata": {},
   "source": [
    "---\n",
    "title: Creating and UPSERTing custom roles with DomoLibrary\n",
    "output-file: custom_roles.html\n",
    "---"
   ]
  },
  {
   "attachments": {},
   "cell_type": "markdown",
   "id": "377efe9e-0917-41e7-ba9a-ca8fda8d04a9",
   "metadata": {},
   "source": [
    "a short post on using DomoLibrary to create and update custom roles with new grant lists and auto assign users to that role\n",
    "\n",
    "# Project Configuration\n",
    "## ⚙️ configure environment variables\n",
    "\n",
    "This script assumes the use of a dotenv file (in this example `sample_config.txt`)"
   ]
  },
  {
   "cell_type": "code",
   "execution_count": null,
   "id": "019ac9c0",
   "metadata": {},
   "outputs": [],
   "source": [
    "# pip install python-dotenv"
   ]
  },
  {
   "cell_type": "code",
   "execution_count": null,
   "id": "bee25774",
   "metadata": {},
   "outputs": [
    {
     "data": {
      "text/plain": [
       "OrderedDict([('ROLE_NAME', 'dl_department_admin'),\n",
       "             ('ROLE_DESCRIPTION', 'deployed via domo_library script'),\n",
       "             ('ROLE_GRANTS',\n",
       "              'alert.edit, alert.actions, content.card.embed, content.export, content.variable.edit, audit, datastore.create, dataset.manage, dataset.export, publish.subscribers.manage, user.invite, group.edit, certifiedcontent.admin, certifiedcontent.request'),\n",
       "             ('ROLE_EMAILS', 'test1@test.com, test2@test.com'),\n",
       "             ('ROLE_NAME2', 'dl_test'),\n",
       "             ('ROLE_DESCRIPTION2', 'deployed via domo_library script'),\n",
       "             ('ROLE_GRANTS2', 'alert.edit, alert.actions, content.card.embed'),\n",
       "             ('ROLE_EMAILS2',\n",
       "              'test3@test.com, test3@test.com, test4@test.com')])"
      ]
     },
     "execution_count": null,
     "metadata": {},
     "output_type": "execute_result"
    }
   ],
   "source": [
    "from dotenv import dotenv_values\n",
    "\n",
    "env = dotenv_values(\"sample_config.txt\")\n",
    "env"
   ]
  },
  {
   "attachments": {},
   "cell_type": "markdown",
   "id": "c71e359c-96de-4cfe-bdd1-875b649a72d0",
   "metadata": {},
   "source": [
    "## ⚙️ Creds config and roles to create\n",
    "\n",
    "the domolibrary features a class based and function based approach to interacting with domo entities.\n",
    "\n",
    "use the `domolibrary.client.DomoAuth` objects to handle api authentication \n",
    "\n",
    "access_tokens can be configured in Domo > Auth > Security > Access Token and have the benefit of not requiring direct signon access in environments that are using SSO"
   ]
  },
  {
   "cell_type": "code",
   "execution_count": null,
   "id": "55994590",
   "metadata": {},
   "outputs": [],
   "source": [
    "# pip install domolibrary --upgrade"
   ]
  },
  {
   "cell_type": "code",
   "execution_count": null,
   "id": "6f15b2ce-f8c5-4c61-bede-8976f3682561",
   "metadata": {},
   "outputs": [],
   "source": [
    "import domolibrary.client.DomoAuth as dmda\n",
    "import os\n",
    "\n",
    "token_auth = dmda.DomoTokenAuth(domo_instance = 'domo-dojo', domo_access_token= os.environ['DOMO_DOJO_ACCESS_TOKEN'])\n",
    "\n",
    "await token_auth.get_auth_token()\n",
    "\n",
    "assert isinstance(token_auth.token, str)"
   ]
  },
  {
   "attachments": {},
   "cell_type": "markdown",
   "id": "af01f4fc",
   "metadata": {},
   "source": [
    "## Templatize user input with classes\n",
    "\n",
    "The custom `EnvRole` class allows users to define configuration in the `.env` file; however ensures conformity and reduces code redundancy by templatizing the required input."
   ]
  },
  {
   "cell_type": "code",
   "execution_count": null,
   "id": "5360e5dc-f9dc-4514-9c6b-dd82f2a6830e",
   "metadata": {},
   "outputs": [
    {
     "name": "stdout",
     "output_type": "stream",
     "text": [
      "[EnvRole(name='dl_department_admin',\n",
      "         description='deployed via domo_library script',\n",
      "         grant_ls=[DomoGrant(id='alert.edit',\n",
      "                             display_group=None,\n",
      "                             title=None,\n",
      "                             depends_on_ls=None,\n",
      "                             description=None,\n",
      "                             role_membership_ls=None),\n",
      "                   DomoGrant(id='alert.actions',\n",
      "                             display_group=None,\n",
      "                             title=None,\n",
      "                             depends_on_ls=None,\n",
      "                             description=None,\n",
      "                             role_membership_ls=None),\n",
      "                   DomoGrant(id='content.card.embed',\n",
      "                             display_group=None,\n",
      "                             title=None,\n",
      "                             depends_on_ls=None,\n",
      "                             description=None,\n",
      "                             role_membership_ls=None),\n",
      "                   DomoGrant(id='content.export',\n",
      "                             display_group=None,\n",
      "                             title=None,\n",
      "                             depends_on_ls=None,\n",
      "                             description=None,\n",
      "                             role_membership_ls=None),\n",
      "                   DomoGrant(id='content.variable.edit',\n",
      "                             display_group=None,\n",
      "                             title=None,\n",
      "                             depends_on_ls=None,\n",
      "                             description=None,\n",
      "                             role_membership_ls=None),\n",
      "                   DomoGrant(id='audit',\n",
      "                             display_group=None,\n",
      "                             title=None,\n",
      "                             depends_on_ls=None,\n",
      "                             description=None,\n",
      "                             role_membership_ls=None),\n",
      "                   DomoGrant(id='datastore.create',\n",
      "                             display_group=None,\n",
      "                             title=None,\n",
      "                             depends_on_ls=None,\n",
      "                             description=None,\n",
      "                             role_membership_ls=None),\n",
      "                   DomoGrant(id='dataset.manage',\n",
      "                             display_group=None,\n",
      "                             title=None,\n",
      "                             depends_on_ls=None,\n",
      "                             description=None,\n",
      "                             role_membership_ls=None),\n",
      "                   DomoGrant(id='dataset.export',\n",
      "                             display_group=None,\n",
      "                             title=None,\n",
      "                             depends_on_ls=None,\n",
      "                             description=None,\n",
      "                             role_membership_ls=None),\n",
      "                   DomoGrant(id='publish.subscribers.manage',\n",
      "                             display_group=None,\n",
      "                             title=None,\n",
      "                             depends_on_ls=None,\n",
      "                             description=None,\n",
      "                             role_membership_ls=None),\n",
      "                   DomoGrant(id='user.invite',\n",
      "                             display_group=None,\n",
      "                             title=None,\n",
      "                             depends_on_ls=None,\n",
      "                             description=None,\n",
      "                             role_membership_ls=None),\n",
      "                   DomoGrant(id='group.edit',\n",
      "                             display_group=None,\n",
      "                             title=None,\n",
      "                             depends_on_ls=None,\n",
      "                             description=None,\n",
      "                             role_membership_ls=None),\n",
      "                   DomoGrant(id='certifiedcontent.admin',\n",
      "                             display_group=None,\n",
      "                             title=None,\n",
      "                             depends_on_ls=None,\n",
      "                             description=None,\n",
      "                             role_membership_ls=None),\n",
      "                   DomoGrant(id='certifiedcontent.request',\n",
      "                             display_group=None,\n",
      "                             title=None,\n",
      "                             depends_on_ls=None,\n",
      "                             description=None,\n",
      "                             role_membership_ls=None)],\n",
      "         user_ls=['test1@test.com', 'test2@test.com']),\n",
      " EnvRole(name='dl_test',\n",
      "         description='deployed via domo_library script',\n",
      "         grant_ls=[DomoGrant(id='alert.edit',\n",
      "                             display_group=None,\n",
      "                             title=None,\n",
      "                             depends_on_ls=None,\n",
      "                             description=None,\n",
      "                             role_membership_ls=None),\n",
      "                   DomoGrant(id='alert.actions',\n",
      "                             display_group=None,\n",
      "                             title=None,\n",
      "                             depends_on_ls=None,\n",
      "                             description=None,\n",
      "                             role_membership_ls=None),\n",
      "                   DomoGrant(id='content.card.embed',\n",
      "                             display_group=None,\n",
      "                             title=None,\n",
      "                             depends_on_ls=None,\n",
      "                             description=None,\n",
      "                             role_membership_ls=None)],\n",
      "         user_ls=['test3@test.com', 'test3@test.com', 'test4@test.com'])]\n"
     ]
    }
   ],
   "source": [
    "\n",
    "from pprint import pprint\n",
    "from dataclasses import dataclass\n",
    "import domolibrary.classes.DomoGrant as dmg\n",
    "\n",
    "@dataclass\n",
    "class EnvRole:\n",
    "    name: str\n",
    "    description: str\n",
    "    grant_ls : [dmg.DomoGrant] # grants are consistent across domo instances so can be defined on initialization\n",
    "    user_ls : [str] # each instance would have a diferent user_id associated with each instance so should be handled on a per instance basis (DomoUsers expect a set user id)\n",
    "\n",
    "    \"\"\"custom class for templatizing roles to create\"\"\"\n",
    "\n",
    "    def __init__(self, name: str,\n",
    "                 description: str,\n",
    "                 grants_str: str,  # comma separated string of grant_ids\n",
    "                 user_str: [str]\n",
    "                 ):\n",
    "        self.name = name\n",
    "        self.description = description\n",
    "        self.grant_ls = [dmg.DomoGrant(id = grant.strip()) for grant in grants_str.split(',')]\n",
    "        self.user_ls = [user.strip() for user in user_str.split(',')]\n",
    "\n",
    "\n",
    "        # List of roles that will be created\n",
    "roles_to_create = [EnvRole(name=env['ROLE_NAME'],\n",
    "                           description=env['ROLE_DESCRIPTION'],\n",
    "                           grants_str=env['ROLE_GRANTS'],\n",
    "                           user_str = env['ROLE_EMAILS']\n",
    "                           ),\n",
    "\n",
    "                   EnvRole(name=env['ROLE_NAME2'],\n",
    "                           description=env['ROLE_DESCRIPTION2'],\n",
    "                           grants_str=env['ROLE_GRANTS2'],\n",
    "                           user_str = env['ROLE_EMAILS2']\n",
    "                           ),\n",
    "                ]\n",
    "\n",
    "pprint(roles_to_create)\n"
   ]
  },
  {
   "attachments": {},
   "cell_type": "markdown",
   "id": "31e58907",
   "metadata": {},
   "source": [
    "## Define Functions that bridge the EnvRole with `domolibrary` classes\n",
    "\n",
    "In the examples below, the functions are very simple and just call the API with passthrough parameters; however, more customization could be added for example defining a default role_description if one wasn't provided.\n",
    "\n",
    "Notice how `upsert_super_admin` doesn't even accept a list of grants and instead pulls a list of all available grants from that Domo Instance.\n",
    "\n",
    "This might be necessary because Domo by default doesn't grant all grants to the Admin role."
   ]
  },
  {
   "cell_type": "code",
   "execution_count": null,
   "id": "134a7d04",
   "metadata": {},
   "outputs": [],
   "source": [
    "import domolibrary.classes.DomoRole as dmr\n",
    "import domolibrary.client.DomoAuth as dmda\n",
    "\n",
    "\n",
    "async def upsert_role(auth: dmda.DomoAuth,\n",
    "                      role_name: str,\n",
    "                      role_description: str,\n",
    "                      grant_ls: [dmg.DomoGrant],\n",
    "                      debug_api: bool = False, debug_prn: bool = False):\n",
    "\n",
    "    return await dmr.DomoRoles.upsert_role(auth=auth,\n",
    "                                           name=role_name,\n",
    "                                           description=role_description,\n",
    "                                           grant_ls=grant_ls)\n"
   ]
  },
  {
   "attachments": {},
   "cell_type": "markdown",
   "id": "9661ab78",
   "metadata": {},
   "source": [
    "#### sample implementation of upsert_role"
   ]
  },
  {
   "cell_type": "code",
   "execution_count": null,
   "id": "48088448",
   "metadata": {},
   "outputs": [
    {
     "data": {
      "text/plain": [
       "DomoRole(id=1563101750, name='dl_department_admin', description='deployed via domo_library script - updated 2023-03-17', is_system_role=0, grant_ls=[DomoGrant(id='alert.edit', display_group=None, title=None, depends_on_ls=None, description=None, role_membership_ls=None), DomoGrant(id='dataset.manage', display_group=None, title=None, depends_on_ls=None, description=None, role_membership_ls=None), DomoGrant(id='content.card.embed', display_group=None, title=None, depends_on_ls=None, description=None, role_membership_ls=None), DomoGrant(id='certifiedcontent.admin', display_group=None, title=None, depends_on_ls=None, description=None, role_membership_ls=None), DomoGrant(id='datastore.create', display_group=None, title=None, depends_on_ls=None, description=None, role_membership_ls=None), DomoGrant(id='group.edit', display_group=None, title=None, depends_on_ls=None, description=None, role_membership_ls=None), DomoGrant(id='publish.subscribers.manage', display_group=None, title=None, depends_on_ls=None, description=None, role_membership_ls=None), DomoGrant(id='certifiedcontent.request', display_group=None, title=None, depends_on_ls=None, description=None, role_membership_ls=None), DomoGrant(id='alert.actions', display_group=None, title=None, depends_on_ls=None, description=None, role_membership_ls=None), DomoGrant(id='content.export', display_group=None, title=None, depends_on_ls=None, description=None, role_membership_ls=None), DomoGrant(id='audit', display_group=None, title=None, depends_on_ls=None, description=None, role_membership_ls=None), DomoGrant(id='dataset.export', display_group=None, title=None, depends_on_ls=None, description=None, role_membership_ls=None), DomoGrant(id='user.invite', display_group=None, title=None, depends_on_ls=None, description=None, role_membership_ls=None), DomoGrant(id='content.variable.edit', display_group=None, title=None, depends_on_ls=None, description=None, role_membership_ls=None)], membership_ls=[])"
      ]
     },
     "execution_count": null,
     "metadata": {},
     "output_type": "execute_result"
    }
   ],
   "source": [
    "import datetime as dt\n",
    "\n",
    "role = roles_to_create[0]\n",
    "\n",
    "await upsert_role(auth=token_auth,\n",
    "                  role_name=role.name,\n",
    "                  role_description = f\"{role.description} - updated {dt.date.today()}\",\n",
    "                  grant_ls = role.grant_ls,\n",
    "                  debug_prn=True)\n"
   ]
  },
  {
   "cell_type": "code",
   "execution_count": null,
   "id": "f0ad0885",
   "metadata": {},
   "outputs": [],
   "source": [
    "import datetime as dt\n",
    "import domolibrary.classes.DomoInstanceConfig as dmic\n",
    "\n",
    "# grants for super admin role are getting directly from instance using get_all_instance_grants\n",
    "async def upsert_super_admin(auth: dmda.DomoAuth,\n",
    "                             role_name: str,\n",
    "                             role_description=f'all grants - updated on {dt.date.today()}',\n",
    "                             debug_api: bool = False,\n",
    "                             debug_prn: bool = False):\n",
    "\n",
    "    domo_instance = dmic.DomoInstanceConfig(auth = auth)\n",
    "    all_grants = await domo_instance.get_grants()\n",
    "\n",
    "\n",
    "    sa_role = await dmr.DomoRoles.upsert_role(name=role_name,\n",
    "                                              description=role_description,\n",
    "                                              auth=auth,\n",
    "                                              debug_api=debug_api,\n",
    "                                              grant_ls = all_grants\n",
    "                                              )\n",
    "\n",
    "    return sa_role\n"
   ]
  },
  {
   "attachments": {},
   "cell_type": "markdown",
   "id": "804bced5",
   "metadata": {},
   "source": [
    "#### sample implementation of creating a super_admin role"
   ]
  },
  {
   "cell_type": "code",
   "execution_count": null,
   "id": "76c820a0",
   "metadata": {},
   "outputs": [
    {
     "data": {
      "text/plain": [
       "DomoRole(id=810756122, name='super_admin', description='last updated - 2023-03-17', is_system_role=0, grant_ls=[DomoGrant(id='versions.deployment.manage', display_group=None, title=None, depends_on_ls=None, description=None, role_membership_ls=None), DomoGrant(id='buzz.admin', display_group=None, title=None, depends_on_ls=None, description=None, role_membership_ls=None), DomoGrant(id='dataflow.admin', display_group=None, title=None, depends_on_ls=None, description=None, role_membership_ls=None), DomoGrant(id='goal.admin', display_group=None, title=None, depends_on_ls=None, description=None, role_membership_ls=None), DomoGrant(id='dataset.admin', display_group=None, title=None, depends_on_ls=None, description=None, role_membership_ls=None), DomoGrant(id='workflow.admin', display_group=None, title=None, depends_on_ls=None, description=None, role_membership_ls=None), DomoGrant(id='account.view.all', display_group=None, title=None, depends_on_ls=None, description=None, role_membership_ls=None), DomoGrant(id='profile.achieve.assign', display_group=None, title=None, depends_on_ls=None, description=None, role_membership_ls=None), DomoGrant(id='datascience.notebooks.admin', display_group=None, title=None, depends_on_ls=None, description=None, role_membership_ls=None), DomoGrant(id='content.dataapp.edit', display_group=None, title=None, depends_on_ls=None, description=None, role_membership_ls=None), DomoGrant(id='dataset.export', display_group=None, title=None, depends_on_ls=None, description=None, role_membership_ls=None), DomoGrant(id='user.invite', display_group=None, title=None, depends_on_ls=None, description=None, role_membership_ls=None), DomoGrant(id='connector.admin', display_group=None, title=None, depends_on_ls=None, description=None, role_membership_ls=None), DomoGrant(id='content.card.analyzerview', display_group=None, title=None, depends_on_ls=None, description=None, role_membership_ls=None), DomoGrant(id='fileshare.create', display_group=None, title=None, depends_on_ls=None, description=None, role_membership_ls=None), DomoGrant(id='customer.edit', display_group=None, title=None, depends_on_ls=None, description=None, role_membership_ls=None), DomoGrant(id='content.variable.edit', display_group=None, title=None, depends_on_ls=None, description=None, role_membership_ls=None), DomoGrant(id='pipeline.executor.job.admin', display_group=None, title=None, depends_on_ls=None, description=None, role_membership_ls=None), DomoGrant(id='cloud.admin', display_group=None, title=None, depends_on_ls=None, description=None, role_membership_ls=None), DomoGrant(id='versions.repository.admin', display_group=None, title=None, depends_on_ls=None, description=None, role_membership_ls=None), DomoGrant(id='codeengine.package.manage', display_group=None, title=None, depends_on_ls=None, description=None, role_membership_ls=None), DomoGrant(id='appstore.admin', display_group=None, title=None, depends_on_ls=None, description=None, role_membership_ls=None), DomoGrant(id='datastore.admin', display_group=None, title=None, depends_on_ls=None, description=None, role_membership_ls=None), DomoGrant(id='certifiedcontent.admin', display_group=None, title=None, depends_on_ls=None, description=None, role_membership_ls=None), DomoGrant(id='group.admin', display_group=None, title=None, depends_on_ls=None, description=None, role_membership_ls=None), DomoGrant(id='tasks.admin', display_group=None, title=None, depends_on_ls=None, description=None, role_membership_ls=None), DomoGrant(id='group.edit', display_group=None, title=None, depends_on_ls=None, description=None, role_membership_ls=None), DomoGrant(id='app.ddx', display_group=None, title=None, depends_on_ls=None, description=None, role_membership_ls=None), DomoGrant(id='queue.create', display_group=None, title=None, depends_on_ls=None, description=None, role_membership_ls=None), DomoGrant(id='workbench.enterprise.edit', display_group=None, title=None, depends_on_ls=None, description=None, role_membership_ls=None), DomoGrant(id='domoapps.edit', display_group=None, title=None, depends_on_ls=None, description=None, role_membership_ls=None), DomoGrant(id='content.export', display_group=None, title=None, depends_on_ls=None, description=None, role_membership_ls=None), DomoGrant(id='codeengine.package.admin', display_group=None, title=None, depends_on_ls=None, description=None, role_membership_ls=None), DomoGrant(id='domo.system.messages', display_group=None, title=None, depends_on_ls=None, description=None, role_membership_ls=None), DomoGrant(id='dataset.account.create.big.query', display_group=None, title=None, depends_on_ls=None, description=None, role_membership_ls=None), DomoGrant(id='publish.space.admin', display_group=None, title=None, depends_on_ls=None, description=None, role_membership_ls=None), DomoGrant(id='authorization.roles', display_group=None, title=None, depends_on_ls=None, description=None, role_membership_ls=None), DomoGrant(id='dataset.manage', display_group=None, title=None, depends_on_ls=None, description=None, role_membership_ls=None), DomoGrant(id='goal.distribute', display_group=None, title=None, depends_on_ls=None, description=None, role_membership_ls=None), DomoGrant(id='appstore.read', display_group=None, title=None, depends_on_ls=None, description=None, role_membership_ls=None), DomoGrant(id='content.card.embed', display_group=None, title=None, depends_on_ls=None, description=None, role_membership_ls=None), DomoGrant(id='content.admin', display_group=None, title=None, depends_on_ls=None, description=None, role_membership_ls=None), DomoGrant(id='user.session.edit', display_group=None, title=None, depends_on_ls=None, description=None, role_membership_ls=None), DomoGrant(id='workbench.enterprise.admin', display_group=None, title=None, depends_on_ls=None, description=None, role_membership_ls=None), DomoGrant(id='cloud.override', display_group=None, title=None, depends_on_ls=None, description=None, role_membership_ls=None), DomoGrant(id='datastore.create', display_group=None, title=None, depends_on_ls=None, description=None, role_membership_ls=None), DomoGrant(id='user.edit', display_group=None, title=None, depends_on_ls=None, description=None, role_membership_ls=None), DomoGrant(id='account.admin', display_group=None, title=None, depends_on_ls=None, description=None, role_membership_ls=None), DomoGrant(id='content.card.edit', display_group=None, title=None, depends_on_ls=None, description=None, role_membership_ls=None), DomoGrant(id='saasaas.edit', display_group=None, title=None, depends_on_ls=None, description=None, role_membership_ls=None), DomoGrant(id='developer.token.manage', display_group=None, title=None, depends_on_ls=None, description=None, role_membership_ls=None), DomoGrant(id='publish.subscribers.manage', display_group=None, title=None, depends_on_ls=None, description=None, role_membership_ls=None), DomoGrant(id='certifiedcontent.request', display_group=None, title=None, depends_on_ls=None, description=None, role_membership_ls=None), DomoGrant(id='content.page.edit', display_group=None, title=None, depends_on_ls=None, description=None, role_membership_ls=None), DomoGrant(id='alert.actions', display_group=None, title=None, depends_on_ls=None, description=None, role_membership_ls=None), DomoGrant(id='ml.execute', display_group=None, title=None, depends_on_ls=None, description=None, role_membership_ls=None), DomoGrant(id='audit', display_group=None, title=None, depends_on_ls=None, description=None, role_membership_ls=None), DomoGrant(id='domoapps.read', display_group=None, title=None, depends_on_ls=None, description=None, role_membership_ls=None), DomoGrant(id='tasks.private.admin', display_group=None, title=None, depends_on_ls=None, description=None, role_membership_ls=None), DomoGrant(id='content.card.narrative.edit', display_group=None, title=None, depends_on_ls=None, description=None, role_membership_ls=None), DomoGrant(id='approvalcenter.admin', display_group=None, title=None, depends_on_ls=None, description=None, role_membership_ls=None), DomoGrant(id='workbench.enterprise.view', display_group=None, title=None, depends_on_ls=None, description=None, role_membership_ls=None), DomoGrant(id='datascience.notebooks.create', display_group=None, title=None, depends_on_ls=None, description=None, role_membership_ls=None), DomoGrant(id='dataset.account.create.federated.oauth', display_group=None, title=None, depends_on_ls=None, description=None, role_membership_ls=None), DomoGrant(id='form.admin', display_group=None, title=None, depends_on_ls=None, description=None, role_membership_ls=None), DomoGrant(id='pipeline.executor.job.create', display_group=None, title=None, depends_on_ls=None, description=None, role_membership_ls=None), DomoGrant(id='alert.edit', display_group=None, title=None, depends_on_ls=None, description=None, role_membership_ls=None), DomoGrant(id='fileshare.admin', display_group=None, title=None, depends_on_ls=None, description=None, role_membership_ls=None), DomoGrant(id='appstore.payments.manage', display_group=None, title=None, depends_on_ls=None, description=None, role_membership_ls=None), DomoGrant(id='publish.publication.create', display_group=None, title=None, depends_on_ls=None, description=None, role_membership_ls=None), DomoGrant(id='dataflow.adrenaline', display_group=None, title=None, depends_on_ls=None, description=None, role_membership_ls=None), DomoGrant(id='workbench.download', display_group=None, title=None, depends_on_ls=None, description=None, role_membership_ls=None), DomoGrant(id='dataset.account.create', display_group=None, title=None, depends_on_ls=None, description=None, role_membership_ls=None), DomoGrant(id='usage.reports.view', display_group=None, title=None, depends_on_ls=None, description=None, role_membership_ls=None), DomoGrant(id='goal.edit', display_group=None, title=None, depends_on_ls=None, description=None, role_membership_ls=None), DomoGrant(id='versions.repository.create', display_group=None, title=None, depends_on_ls=None, description=None, role_membership_ls=None), DomoGrant(id='app.admin', display_group=None, title=None, depends_on_ls=None, description=None, role_membership_ls=None), DomoGrant(id='dataflow.magic', display_group=None, title=None, depends_on_ls=None, description=None, role_membership_ls=None), DomoGrant(id='dataflow.manage', display_group=None, title=None, depends_on_ls=None, description=None, role_membership_ls=None), DomoGrant(id='workflow.create', display_group=None, title=None, depends_on_ls=None, description=None, role_membership_ls=None), DomoGrant(id='form.create', display_group=None, title=None, depends_on_ls=None, description=None, role_membership_ls=None), DomoGrant(id='queue.admin', display_group=None, title=None, depends_on_ls=None, description=None, role_membership_ls=None), DomoGrant(id='alert.admin', display_group=None, title=None, depends_on_ls=None, description=None, role_membership_ls=None), DomoGrant(id='appstore.edit', display_group=None, title=None, depends_on_ls=None, description=None, role_membership_ls=None)], membership_ls=[])"
      ]
     },
     "execution_count": null,
     "metadata": {},
     "output_type": "execute_result"
    }
   ],
   "source": [
    "await upsert_super_admin(auth = token_auth, role_name = 'super_admin')"
   ]
  },
  {
   "attachments": {},
   "cell_type": "markdown",
   "id": "199c463b-5ebe-4ebd-9c69-8526ebbd02f9",
   "metadata": {},
   "source": [
    "## create user\n",
    "\n",
    "At code execution, it is possible that a user may need to be a specific role, but that user and the role haven't been deployed to the instance yet.\n",
    "\n",
    "The proper order of operations would be to create a role and then assign the user to that role.  You cannot create a user without defining their role membership"
   ]
  },
  {
   "cell_type": "code",
   "execution_count": null,
   "id": "7dfc31a3-6b6c-4cec-9f61-e2d8ab9fe9fc",
   "metadata": {},
   "outputs": [],
   "source": [
    "import domolibrary.classes.DomoUser as dmu\n",
    "\n",
    "\n",
    "async def upsert_user(auth: dmda.DomoAuth,\n",
    "                      email_address: str,\n",
    "                      role_id: str,\n",
    "                      debug_api: bool = False,\n",
    "                      ):\n",
    "\n",
    "    return await dmu.DomoUsers.upsert_user(email_address=email_address,\n",
    "                                        role_id=role_id,\n",
    "                                        auth=auth,\n",
    "                                        debug_api=debug_api)\n"
   ]
  },
  {
   "attachments": {},
   "cell_type": "markdown",
   "id": "bfb40ebd",
   "metadata": {},
   "source": [
    "#### sample implementation of upsert_user"
   ]
  },
  {
   "cell_type": "code",
   "execution_count": null,
   "id": "e0f37801",
   "metadata": {},
   "outputs": [
    {
     "data": {
      "text/plain": [
       "ResponseGetData(status=200, response={'attributes': [{'key': 'id', 'values': [1802840904]}, {'key': 'displayName', 'values': ['test23@test.com - via dl 2023-03-16']}, {'key': 'userName', 'values': ['test23@test.com']}, {'key': 'emailAddress', 'values': ['test23@test.com']}, {'key': 'modified', 'values': [1679013796403]}, {'key': 'created', 'values': [1679010842000]}, {'key': 'roleId', 'values': [4]}, {'key': 'isAnonymous', 'values': [True]}, {'key': 'isSystemUser', 'values': [False]}, {'key': 'isPending', 'values': [True]}, {'key': 'isActive', 'values': [True]}, {'key': 'invitorUserId', 'values': [1893952720]}, {'key': 'avatarKey', 'values': ['/api/content/v1/avatar/USER/1802840904']}], 'id': 1802840904, 'displayName': 'test23@test.com - via dl 2023-03-16', 'roleId': 4, 'userName': 'test23@test.com', 'emailAddress': 'test23@test.com'}, is_success=True)"
      ]
     },
     "execution_count": null,
     "metadata": {},
     "output_type": "execute_result"
    }
   ],
   "source": [
    "role = roles_to_create[0]\n",
    "await upsert_user( auth = token_auth, role_id = 4, email_address = 'test23@test.com')"
   ]
  },
  {
   "attachments": {},
   "cell_type": "markdown",
   "id": "ad4b034e",
   "metadata": {},
   "source": [
    "# Main Implementation\n",
    "With one function, `create_role` which calls upsert_role` and `upsert_user` we can quickly map over the `EnvRole` class and rapidly deploy a consistent set of roles to one or many domo instances just by swapping out the `DomoAuth` object.\n",
    "\n",
    "Notice the intentional use of `asyncio` to execute code asynchronously where appropriate.  We must deploy a role before deploying users, but we could configure multiple roles simultaneously because they are not dependent."
   ]
  },
  {
   "cell_type": "code",
   "execution_count": null,
   "id": "95dc3398-ac80-4502-a1d1-581f7e14eec4",
   "metadata": {},
   "outputs": [
    {
     "data": {
      "text/plain": [
       "[[ResponseGetData(status=200, response={'attributes': [{'key': 'id', 'values': [308783524]}, {'key': 'displayName', 'values': ['test1']}, {'key': 'userName', 'values': ['test1@test.com']}, {'key': 'emailAddress', 'values': ['test1@test.com']}, {'key': 'modified', 'values': [1679013798291]}, {'key': 'created', 'values': [1664931963000]}, {'key': 'roleId', 'values': [1563101750]}, {'key': 'isAnonymous', 'values': [True]}, {'key': 'isSystemUser', 'values': [False]}, {'key': 'isPending', 'values': [True]}, {'key': 'isActive', 'values': [True]}, {'key': 'invitorUserId', 'values': [1893952720]}, {'key': 'avatarKey', 'values': ['/api/content/v1/avatar/USER/308783524']}], 'id': 308783524, 'displayName': 'test1', 'roleId': 1563101750, 'userName': 'test1@test.com', 'emailAddress': 'test1@test.com'}, is_success=True),\n",
       "  ResponseGetData(status=200, response={'attributes': [{'key': 'id', 'values': [894540685]}, {'key': 'displayName', 'values': ['test2@test.com - via dl 2023-03-16']}, {'key': 'userName', 'values': ['test2@test.com']}, {'key': 'emailAddress', 'values': ['test2@test.com']}, {'key': 'modified', 'values': [1679013798236]}, {'key': 'created', 'values': [1679011012000]}, {'key': 'roleId', 'values': [1563101750]}, {'key': 'isAnonymous', 'values': [True]}, {'key': 'isSystemUser', 'values': [False]}, {'key': 'isPending', 'values': [True]}, {'key': 'isActive', 'values': [True]}, {'key': 'invitorUserId', 'values': [1893952720]}, {'key': 'avatarKey', 'values': ['/api/content/v1/avatar/USER/894540685']}], 'id': 894540685, 'displayName': 'test2@test.com - via dl 2023-03-16', 'roleId': 1563101750, 'userName': 'test2@test.com', 'emailAddress': 'test2@test.com'}, is_success=True)],\n",
       " [ResponseGetData(status=200, response={'attributes': [{'key': 'id', 'values': [1681443709]}, {'key': 'displayName', 'values': ['test 3']}, {'key': 'userName', 'values': ['test3@test.com']}, {'key': 'emailAddress', 'values': ['test3@test.com']}, {'key': 'modified', 'values': [1679013798153]}, {'key': 'created', 'values': [1664936244000]}, {'key': 'roleId', 'values': [1662852841]}, {'key': 'isAnonymous', 'values': [True]}, {'key': 'isSystemUser', 'values': [False]}, {'key': 'isPending', 'values': [True]}, {'key': 'isActive', 'values': [True]}, {'key': 'invitorUserId', 'values': [1893952720]}, {'key': 'avatarKey', 'values': ['/api/content/v1/avatar/USER/1681443709']}], 'id': 1681443709, 'displayName': 'test 3', 'roleId': 1662852841, 'userName': 'test3@test.com', 'emailAddress': 'test3@test.com'}, is_success=True),\n",
       "  ResponseGetData(status=200, response={'attributes': [{'key': 'id', 'values': [1681443709]}, {'key': 'displayName', 'values': ['test 3']}, {'key': 'userName', 'values': ['test3@test.com']}, {'key': 'emailAddress', 'values': ['test3@test.com']}, {'key': 'modified', 'values': [1679013798153]}, {'key': 'created', 'values': [1664936244000]}, {'key': 'roleId', 'values': [1662852841]}, {'key': 'isAnonymous', 'values': [True]}, {'key': 'isSystemUser', 'values': [False]}, {'key': 'isPending', 'values': [True]}, {'key': 'isActive', 'values': [True]}, {'key': 'invitorUserId', 'values': [1893952720]}, {'key': 'avatarKey', 'values': ['/api/content/v1/avatar/USER/1681443709']}], 'id': 1681443709, 'displayName': 'test 3', 'roleId': 1662852841, 'userName': 'test3@test.com', 'emailAddress': 'test3@test.com'}, is_success=True),\n",
       "  ResponseGetData(status=200, response={'attributes': [{'key': 'id', 'values': [663516735]}, {'key': 'displayName', 'values': ['test - updated via dl 2023-03-17']}, {'key': 'userName', 'values': ['test4@test.com']}, {'key': 'emailAddress', 'values': ['test4@test.com']}, {'key': 'modified', 'values': [1679013798149]}, {'key': 'created', 'values': [1679007751000]}, {'key': 'roleId', 'values': [1662852841]}, {'key': 'isAnonymous', 'values': [True]}, {'key': 'isSystemUser', 'values': [False]}, {'key': 'isPending', 'values': [True]}, {'key': 'isActive', 'values': [True]}, {'key': 'invitorUserId', 'values': [1893952720]}, {'key': 'avatarKey', 'values': ['/api/content/v1/avatar/USER/663516735']}], 'id': 663516735, 'displayName': 'test - updated via dl 2023-03-17', 'roleId': 1662852841, 'userName': 'test4@test.com', 'emailAddress': 'test4@test.com'}, is_success=True)]]"
      ]
     },
     "execution_count": null,
     "metadata": {},
     "output_type": "execute_result"
    }
   ],
   "source": [
    "import datetime as dt\n",
    "import asyncio\n",
    "\n",
    "\n",
    "async def create_role(role_name, role_description, grant_ls, email_ls, auth, debug_prn:bool = False):\n",
    "    if debug_prn:\n",
    "        pprint({'name': role_name, 'description' : role_description, 'grant_ls' : grant_ls, 'email_ls': email_ls})\n",
    "\n",
    "    domo_role = await upsert_role(auth=auth,\n",
    "                                  role_name=role_name,\n",
    "                                  role_description=f\"{role_description} - updated {dt.date.today()}\",\n",
    "                                  grant_ls=grant_ls,\n",
    "                                  )\n",
    "\n",
    "\n",
    "    return await asyncio.gather(*[upsert_user(auth=auth,\n",
    "                                       role_id=domo_role.id,\n",
    "                                       email_address=email_address) for email_address in email_ls])\n"
   ]
  },
  {
   "attachments": {},
   "cell_type": "markdown",
   "id": "cf2f0d4c",
   "metadata": {},
   "source": [
    "#### sample implementation of create_role"
   ]
  },
  {
   "cell_type": "code",
   "execution_count": null,
   "id": "6ec4522b",
   "metadata": {},
   "outputs": [
    {
     "data": {
      "text/plain": [
       "[[ResponseGetData(status=200, response={'attributes': [{'key': 'id', 'values': [308783524]}, {'key': 'displayName', 'values': ['test1']}, {'key': 'userName', 'values': ['test1@test.com']}, {'key': 'emailAddress', 'values': ['test1@test.com']}, {'key': 'modified', 'values': [1679014750556]}, {'key': 'created', 'values': [1664931963000]}, {'key': 'roleId', 'values': [1563101750]}, {'key': 'isAnonymous', 'values': [True]}, {'key': 'isSystemUser', 'values': [False]}, {'key': 'isPending', 'values': [True]}, {'key': 'isActive', 'values': [True]}, {'key': 'invitorUserId', 'values': [1893952720]}, {'key': 'avatarKey', 'values': ['/api/content/v1/avatar/USER/308783524']}], 'id': 308783524, 'displayName': 'test1', 'roleId': 1563101750, 'userName': 'test1@test.com', 'emailAddress': 'test1@test.com'}, is_success=True),\n",
       "  ResponseGetData(status=200, response={'attributes': [{'key': 'id', 'values': [894540685]}, {'key': 'displayName', 'values': ['test2@test.com - via dl 2023-03-16']}, {'key': 'userName', 'values': ['test2@test.com']}, {'key': 'emailAddress', 'values': ['test2@test.com']}, {'key': 'modified', 'values': [1679014750590]}, {'key': 'created', 'values': [1679011012000]}, {'key': 'roleId', 'values': [1563101750]}, {'key': 'isAnonymous', 'values': [True]}, {'key': 'isSystemUser', 'values': [False]}, {'key': 'isPending', 'values': [True]}, {'key': 'isActive', 'values': [True]}, {'key': 'invitorUserId', 'values': [1893952720]}, {'key': 'avatarKey', 'values': ['/api/content/v1/avatar/USER/894540685']}], 'id': 894540685, 'displayName': 'test2@test.com - via dl 2023-03-16', 'roleId': 1563101750, 'userName': 'test2@test.com', 'emailAddress': 'test2@test.com'}, is_success=True)],\n",
       " [ResponseGetData(status=200, response={'attributes': [{'key': 'id', 'values': [1681443709]}, {'key': 'displayName', 'values': ['test 3']}, {'key': 'userName', 'values': ['test3@test.com']}, {'key': 'emailAddress', 'values': ['test3@test.com']}, {'key': 'modified', 'values': [1679014750528]}, {'key': 'created', 'values': [1664936244000]}, {'key': 'roleId', 'values': [1662852841]}, {'key': 'isAnonymous', 'values': [True]}, {'key': 'isSystemUser', 'values': [False]}, {'key': 'isPending', 'values': [True]}, {'key': 'isActive', 'values': [True]}, {'key': 'invitorUserId', 'values': [1893952720]}, {'key': 'avatarKey', 'values': ['/api/content/v1/avatar/USER/1681443709']}], 'id': 1681443709, 'displayName': 'test 3', 'roleId': 1662852841, 'userName': 'test3@test.com', 'emailAddress': 'test3@test.com'}, is_success=True),\n",
       "  ResponseGetData(status=200, response={'attributes': [{'key': 'id', 'values': [1681443709]}, {'key': 'displayName', 'values': ['test 3']}, {'key': 'userName', 'values': ['test3@test.com']}, {'key': 'emailAddress', 'values': ['test3@test.com']}, {'key': 'modified', 'values': [1679014750528]}, {'key': 'created', 'values': [1664936244000]}, {'key': 'roleId', 'values': [1662852841]}, {'key': 'isAnonymous', 'values': [True]}, {'key': 'isSystemUser', 'values': [False]}, {'key': 'isPending', 'values': [True]}, {'key': 'isActive', 'values': [True]}, {'key': 'invitorUserId', 'values': [1893952720]}, {'key': 'avatarKey', 'values': ['/api/content/v1/avatar/USER/1681443709']}], 'id': 1681443709, 'displayName': 'test 3', 'roleId': 1662852841, 'userName': 'test3@test.com', 'emailAddress': 'test3@test.com'}, is_success=True),\n",
       "  ResponseGetData(status=200, response={'attributes': [{'key': 'id', 'values': [663516735]}, {'key': 'displayName', 'values': ['test - updated via dl 2023-03-17']}, {'key': 'userName', 'values': ['test4@test.com']}, {'key': 'emailAddress', 'values': ['test4@test.com']}, {'key': 'modified', 'values': [1679014750530]}, {'key': 'created', 'values': [1679007751000]}, {'key': 'roleId', 'values': [1662852841]}, {'key': 'isAnonymous', 'values': [True]}, {'key': 'isSystemUser', 'values': [False]}, {'key': 'isPending', 'values': [True]}, {'key': 'isActive', 'values': [True]}, {'key': 'invitorUserId', 'values': [1893952720]}, {'key': 'avatarKey', 'values': ['/api/content/v1/avatar/USER/663516735']}], 'id': 663516735, 'displayName': 'test - updated via dl 2023-03-17', 'roleId': 1662852841, 'userName': 'test4@test.com', 'emailAddress': 'test4@test.com'}, is_success=True)]]"
      ]
     },
     "execution_count": null,
     "metadata": {},
     "output_type": "execute_result"
    }
   ],
   "source": [
    "await asyncio.gather(*[create_role(role_name=role.name,\n",
    "                                   role_description=role.description,\n",
    "                                   grant_ls=role.grant_ls,\n",
    "                                   email_ls=role.user_ls,\n",
    "                                   auth=token_auth) for role in roles_to_create])\n"
   ]
  }
 ],
 "metadata": {
  "kernelspec": {
   "display_name": "Python 3",
   "language": "python",
   "name": "python3"
  }
 },
 "nbformat": 4,
 "nbformat_minor": 5
}
