{
 "cells": [
  {
   "cell_type": "raw",
   "metadata": {},
   "source": [
    "---\n",
    "description: Default description (change me)\n",
    "output-file: domo_github.domoactivitylog.html\n",
    "title: Default Title (change me)\n",
    "\n",
    "---\n",
    "\n"
   ]
  },
  {
   "cell_type": "code",
   "execution_count": null,
   "metadata": {},
   "outputs": [],
   "source": [
    "#| default_exp domo_github.DomoActivityLog"
   ]
  },
  {
   "cell_type": "code",
   "execution_count": null,
   "metadata": {},
   "outputs": [],
   "source": [
    "#| export\n",
    "import aiohttp\n",
    "import datetime as dt\n",
    "import pandas as pd\n",
    "from pprint import pprint\n",
    "\n",
    "from .DomoAuth import DomoFullAuth\n",
    "from .DomoDataset import DomoDataset\n",
    "from .routes import activity_log_routes\n",
    "from ..utils import convert\n",
    "from ..utils.DictDot import DictDot"
   ]
  },
  {
   "cell_type": "code",
   "execution_count": null,
   "metadata": {},
   "outputs": [],
   "source": [
    "#| export\n",
    "class DomoActivityLog:\n",
    "\n",
    "    @classmethod\n",
    "    async def get_activity_log(cls, full_auth: DomoFullAuth,\n",
    "                               start_time: dt.datetime,\n",
    "                               end_time: dt.datetime,\n",
    "                               maximum: int = 1000000,\n",
    "                               object_type: str = None,\n",
    "                               session: aiohttp.ClientSession = None,\n",
    "                               debug: bool = False,\n",
    "                               convert_to_class_dictdot: bool = False) -> list[DictDot]:\n",
    "\n",
    "        start_time_epoch = convert.convert_datetime_to_epoch_millisecond(\n",
    "            start_time)\n",
    "        end_time_epoch = convert.convert_datetime_to_epoch_millisecond(\n",
    "            end_time)\n",
    "\n",
    "        is_close_session = False\n",
    "\n",
    "        if not session:\n",
    "            session = aiohttp.ClientSession()\n",
    "            is_close_session = True\n",
    "\n",
    "        res_activity_log = await activity_log_routes.search_activity_log(full_auth=full_auth,\n",
    "                                                                         start_time=start_time_epoch,\n",
    "                                                                         end_time=end_time_epoch,\n",
    "                                                                         maximum=maximum,\n",
    "                                                                         object_type=object_type,\n",
    "                                                                         session=session,\n",
    "                                                                         debug=debug\n",
    "                                                                         )\n",
    "        if is_close_session:\n",
    "            await session.close()\n",
    "\n",
    "        if res_activity_log:\n",
    "            if convert_to_class_dictdot:\n",
    "                return [DictDot(al) for al in res_activity_log]\n",
    "            else:\n",
    "                df = pd.DataFrame(res_activity_log)\n",
    "                df[\"time_dt\"] = df[\"time\"].apply(\n",
    "                    lambda x: convert.convert_epoch_millisecond_to_datetime(x))\n",
    "                df[\"instance\"] = f'{full_auth.domo_instance}.domo.com'\n",
    "                df[\"date\"] = df[\"time_dt\"].apply(lambda x: x.date())\n",
    "\n",
    "            return df\n",
    "\n",
    "        return None"
   ]
  }
 ],
 "metadata": {
  "jupytext": {
   "split_at_heading": true
  },
  "kernelspec": {
   "display_name": "Python 3",
   "language": "python",
   "name": "python3"
  }
 },
 "nbformat": 4,
 "nbformat_minor": 4
}
