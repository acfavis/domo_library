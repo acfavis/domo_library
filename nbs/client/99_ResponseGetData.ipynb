{
 "cells": [
  {
   "attachments": {},
   "cell_type": "markdown",
   "metadata": {},
   "source": [
    "# ResponseGetData\n",
    "\n",
    "> preferred response class for all API requests\n"
   ]
  },
  {
   "cell_type": "code",
   "execution_count": null,
   "metadata": {},
   "outputs": [],
   "source": [
    "# | default_exp client.ResponseGetData"
   ]
  },
  {
   "cell_type": "code",
   "execution_count": null,
   "metadata": {},
   "outputs": [],
   "source": [
    "# | exporti\n",
    "# pylint: disable=no-member\n",
    "\n",
    "from dataclasses import dataclass, field\n",
    "from typing import Optional\n",
    "\n",
    "import orjson\n",
    "\n",
    "import asyncio\n",
    "import requests\n",
    "import httpx\n",
    "import aiohttp\n",
    "\n",
    "from fastcore.utils import patch_to"
   ]
  },
  {
   "cell_type": "code",
   "execution_count": null,
   "metadata": {},
   "outputs": [],
   "source": [
    "# | hide\n",
    "from nbdev.showdoc import *\n",
    "from fastcore.test import test_eq"
   ]
  },
  {
   "cell_type": "code",
   "execution_count": null,
   "metadata": {},
   "outputs": [],
   "source": [
    "# | export\n",
    "API_Response = any\n",
    "\n",
    "\n",
    "@dataclass\n",
    "class ResponseGetData:\n",
    "    \"\"\"preferred response class for all API Requests\"\"\"\n",
    "\n",
    "    status: int\n",
    "    response: API_Response\n",
    "    is_success: bool\n",
    "    auth: dict = field(repr = False, default=None)\n",
    "\n",
    "    def set_response(self, response):\n",
    "        self.response = response"
   ]
  },
  {
   "cell_type": "code",
   "execution_count": null,
   "metadata": {},
   "outputs": [
    {
     "data": {
      "text/plain": [
       "ResponseGetData(status=200, response='test', is_success=True)"
      ]
     },
     "execution_count": null,
     "metadata": {},
     "output_type": "execute_result"
    }
   ],
   "source": [
    "rgd = ResponseGetData(status=200, response=\"test\", is_success=True)\n",
    "rgd"
   ]
  },
  {
   "cell_type": "code",
   "execution_count": null,
   "metadata": {},
   "outputs": [],
   "source": [
    "# | hide\n",
    "test_eq(rgd.is_success, True)"
   ]
  },
  {
   "attachments": {},
   "cell_type": "markdown",
   "metadata": {},
   "source": [
    "# Classmethods from Response objects by library\n",
    "\n",
    "This code base supports two API request libraries, `requests.request` (synchronous) and `aiohttp.ClientRequest` (asynchronous) this can be extended as new libraries emerge with different performance characteristics.\n"
   ]
  },
  {
   "cell_type": "code",
   "execution_count": null,
   "metadata": {},
   "outputs": [],
   "source": [
    "# | export\n",
    "@patch_to(ResponseGetData, cls_method=True)\n",
    "def _from_requests_response(\n",
    "    cls, res: requests.Response  # requests response object\n",
    ") -> ResponseGetData:\n",
    "    \"\"\"returns ResponseGetData\"\"\"\n",
    "\n",
    "    # JSON responses\n",
    "    if res.ok and \"application/json\" in res.headers.get(\"Content-Type\", {}):\n",
    "        return cls(status=res.status_code, response=res.json(), is_success=True)\n",
    "\n",
    "    # default text responses\n",
    "    elif res.ok:\n",
    "        return cls(status=res.status_code, response=res.text, is_success=True)\n",
    "\n",
    "    # errors\n",
    "    return cls(status=res.status_code, response=res.reason, is_success=False)"
   ]
  },
  {
   "cell_type": "code",
   "execution_count": null,
   "metadata": {},
   "outputs": [
    {
     "data": {
      "text/markdown": [
       "---\n",
       "\n",
       "[source](https://github.com/jaewilson07/domo_library/blob/main/domolibrary/client/ResponseGetData.py#L39){target=\"_blank\" style=\"float:right; font-size:smaller\"}\n",
       "\n",
       "### ResponseGetData._from_requests_response\n",
       "\n",
       ">      ResponseGetData._from_requests_response (res:requests.models.Response)\n",
       "\n",
       "returns ResponseGetData\n",
       "\n",
       "|    | **Type** | **Details** |\n",
       "| -- | -------- | ----------- |\n",
       "| res | Response | requests response object |\n",
       "| **Returns** | **ResponseGetData** |  |"
      ],
      "text/plain": [
       "---\n",
       "\n",
       "[source](https://github.com/jaewilson07/domo_library/blob/main/domolibrary/client/ResponseGetData.py#L39){target=\"_blank\" style=\"float:right; font-size:smaller\"}\n",
       "\n",
       "### ResponseGetData._from_requests_response\n",
       "\n",
       ">      ResponseGetData._from_requests_response (res:requests.models.Response)\n",
       "\n",
       "returns ResponseGetData\n",
       "\n",
       "|    | **Type** | **Details** |\n",
       "| -- | -------- | ----------- |\n",
       "| res | Response | requests response object |\n",
       "| **Returns** | **ResponseGetData** |  |"
      ]
     },
     "execution_count": null,
     "metadata": {},
     "output_type": "execute_result"
    }
   ],
   "source": [
    "show_doc(ResponseGetData._from_requests_response)\n"
   ]
  },
  {
   "cell_type": "code",
   "execution_count": null,
   "metadata": {},
   "outputs": [
    {
     "name": "stdout",
     "output_type": "stream",
     "text": [
      "200\n"
     ]
    },
    {
     "data": {
      "text/plain": [
       "dict_keys(['status', 'response', 'is_success', 'auth'])"
      ]
     },
     "execution_count": null,
     "metadata": {},
     "output_type": "execute_result"
    }
   ],
   "source": [
    "# test _from_requests_response returns ResponseGetData class\n",
    "import os\n",
    "import requests\n",
    "\n",
    "url = f\"https://domo-dojo.domo.com/api/content/v2/authentication\"\n",
    "\n",
    "tokenHeaders = {\"Content-Type\": \"application/json\"}\n",
    "\n",
    "body = {\n",
    "    \"method\": \"password\",\n",
    "    \"emailAddress\": \"jae@onyxreporting.com\",\n",
    "    \"password\": os.environ[\"DOJO_PASSWORD\"],\n",
    "}\n",
    "\n",
    "res = requests.request(method=\"POST\", url=url, json=body, headers=tokenHeaders)\n",
    "\n",
    "print(res.status_code)\n",
    "\n",
    "test_res = ResponseGetData._from_requests_response(res)\n",
    "test_res.__dict__.keys()"
   ]
  },
  {
   "cell_type": "code",
   "execution_count": null,
   "metadata": {},
   "outputs": [],
   "source": [
    "# | hide\n",
    "test_eq(isinstance(test_res, ResponseGetData), True)"
   ]
  },
  {
   "cell_type": "code",
   "execution_count": null,
   "metadata": {},
   "outputs": [],
   "source": [
    "# | export\n",
    "@patch_to(ResponseGetData, cls_method=True)\n",
    "def _from_httpx_response(\n",
    "    cls, res: requests.Response,  # requests response object\n",
    "    auth : Optional[any] = None,\n",
    "    debug_api : bool = False\n",
    ") -> ResponseGetData:\n",
    "    \"\"\"returns ResponseGetData\"\"\"\n",
    "\n",
    "    # JSON responses\n",
    "    ok = True if res.status_code <= 299 and res.status_code >= 200 else False\n",
    "    \n",
    "    if ok and \"application/json\" in res.headers.get(\"Content-Type\", {}):\n",
    "        return cls(status=res.status_code, response=res.json(), is_success=True, auth = auth)\n",
    "\n",
    "    # default text responses\n",
    "    elif ok:\n",
    "        return cls(status=res.status_code, response=res.text, is_success=True, auth = auth)\n",
    "\n",
    "    # errors\n",
    "    return cls(status=res.status_code, response=res.reason_phrase, is_success=False, auth=auth)\n"
   ]
  },
  {
   "cell_type": "code",
   "execution_count": null,
   "metadata": {},
   "outputs": [
    {
     "data": {
      "text/plain": [
       "dict_keys(['status', 'response', 'is_success', 'auth'])"
      ]
     },
     "execution_count": null,
     "metadata": {},
     "output_type": "execute_result"
    }
   ],
   "source": [
    "# test _from_aiohttp_response returns ResponseGetData class\n",
    "\n",
    "import os\n",
    "import httpx\n",
    "\n",
    "url = f\"https://domo-dojo.domo.com/api/content/v2/authentication\"\n",
    "\n",
    "body = {\n",
    "    \"method\": \"password\",\n",
    "    \"emailAddress\": \"jae@onyxreporting.com\",\n",
    "    \"password\": os.environ['DOJO_PASSWORD']\n",
    "}\n",
    "\n",
    "headers = {\"Content-Type\": \"application/json\"}\n",
    "\n",
    "session = httpx.AsyncClient()\n",
    "res = await session.request(method=\"POST\", url=url, json=body, headers=headers)\n",
    "await session.aclose()\n",
    "\n",
    "test_res = ResponseGetData._from_httpx_response(res)\n",
    "test_res.__dict__.keys()\n"
   ]
  },
  {
   "attachments": {},
   "cell_type": "markdown",
   "metadata": {},
   "source": [
    "## Asyncio Response Handling"
   ]
  },
  {
   "cell_type": "code",
   "execution_count": null,
   "metadata": {},
   "outputs": [],
   "source": [
    "# | export\n",
    "STREAM_FILE_PATH = '__large-file.json'\n",
    "\n",
    "async def _write_stream(res: httpx.Response,\n",
    "                        file_name: str = STREAM_FILE_PATH,\n",
    "                        stream_chunks=10):\n",
    "    \n",
    "    print(type(res), type(res.content), stream_chunks)\n",
    "\n",
    "    index = 0\n",
    "    with open(file_name, 'wb') as fd:\n",
    "        async for chunk in res.content.iter_chunked(1024):\n",
    "            index +=1\n",
    "            print(f\"writing chunk - {index}\")\n",
    "            fd.write(chunk)\n",
    "\n",
    "            print(res.content.at_eof())\n",
    "        \n",
    "    print('done writing stream')\n",
    "    \n",
    "    return None\n",
    "\n",
    "\n",
    "async def _read_stream(file_name : str = STREAM_FILE_PATH):\n",
    "    with open(STREAM_FILE_PATH, \"rb\") as f:\n",
    "        return f.read()\n"
   ]
  },
  {
   "cell_type": "code",
   "execution_count": null,
   "metadata": {},
   "outputs": [],
   "source": [
    "# | export\n",
    "@patch_to(ResponseGetData, cls_method=True)\n",
    "async def _from_aiohttp_response(\n",
    "    cls: ResponseGetData, \n",
    "    res: aiohttp.ClientResponse,  # requests response object\n",
    "    auth : Optional[any] = None,\n",
    "    process_stream: bool = False,\n",
    "    stream_chunks : int = 10,\n",
    "    debug_api : bool = False\n",
    ") -> ResponseGetData:\n",
    "\n",
    "    \"\"\"async method returns ResponseGetData\"\"\"\n",
    "    if debug_api:\n",
    "        print( f\"ResponseGetData: res.ok = {res.ok} , res.status = {res.status}\" )\n",
    "    \n",
    "\n",
    "    try:\n",
    "        data = None\n",
    "\n",
    "        if process_stream:\n",
    "            await _write_stream(res = res, stream_chunks = stream_chunks)\n",
    "            data =await _read_stream()\n",
    "        \n",
    "        else:        \n",
    "            data = await res.text()\n",
    "    \n",
    "        if debug_api:\n",
    "            print('converting to text complete')\n",
    "    \n",
    "    except asyncio.TimeoutError as e:\n",
    "        print(f\"ResponseGetDataError: {str(e)} , trying content.read\")\n",
    "\n",
    "        data = await res.content.read()\n",
    "\n",
    "    if res.ok and \"application/json\" in res.headers.get(\"Content-Type\", {}):\n",
    "        return cls(status=res.status, response= orjson.loads(data), is_success=True, auth = auth)\n",
    "\n",
    "    elif res.ok:\n",
    "        return cls(status=res.status, response= data, is_success=True, auth = auth)\n",
    "\n",
    "    # response is error\n",
    "    else:\n",
    "        return cls(status=res.status, response=res.reason, is_success=False, auth = auth)"
   ]
  },
  {
   "cell_type": "code",
   "execution_count": null,
   "metadata": {},
   "outputs": [
    {
     "data": {
      "text/markdown": [
       "---\n",
       "\n",
       "[source](https://github.com/jaewilson07/domo_library/blob/main/domolibrary/client/ResponseGetData.py#L108){target=\"_blank\" style=\"float:right; font-size:smaller\"}\n",
       "\n",
       "### ResponseGetData._from_aiohttp_response\n",
       "\n",
       ">      ResponseGetData._from_aiohttp_response\n",
       ">                                              (res:aiohttp.client_reqrep.Client\n",
       ">                                              Response, auth:Optional[<built-\n",
       ">                                              infunctionany>]=None,\n",
       ">                                              process_stream:bool=False,\n",
       ">                                              stream_chunks:int=10,\n",
       ">                                              debug_api:bool=False)\n",
       "\n",
       "async method returns ResponseGetData"
      ],
      "text/plain": [
       "---\n",
       "\n",
       "[source](https://github.com/jaewilson07/domo_library/blob/main/domolibrary/client/ResponseGetData.py#L108){target=\"_blank\" style=\"float:right; font-size:smaller\"}\n",
       "\n",
       "### ResponseGetData._from_aiohttp_response\n",
       "\n",
       ">      ResponseGetData._from_aiohttp_response\n",
       ">                                              (res:aiohttp.client_reqrep.Client\n",
       ">                                              Response, auth:Optional[<built-\n",
       ">                                              infunctionany>]=None,\n",
       ">                                              process_stream:bool=False,\n",
       ">                                              stream_chunks:int=10,\n",
       ">                                              debug_api:bool=False)\n",
       "\n",
       "async method returns ResponseGetData"
      ]
     },
     "execution_count": null,
     "metadata": {},
     "output_type": "execute_result"
    }
   ],
   "source": [
    "show_doc(ResponseGetData._from_aiohttp_response)"
   ]
  },
  {
   "cell_type": "code",
   "execution_count": null,
   "metadata": {},
   "outputs": [
    {
     "name": "stdout",
     "output_type": "stream",
     "text": [
      "200\n"
     ]
    },
    {
     "data": {
      "text/plain": [
       "dict_keys(['status', 'response', 'is_success', 'auth'])"
      ]
     },
     "execution_count": null,
     "metadata": {},
     "output_type": "execute_result"
    }
   ],
   "source": [
    "# test _from_aiohttp_response returns ResponseGetData class\n",
    "\n",
    "import os\n",
    "import requests\n",
    "\n",
    "url = f\"https://domo-dojo.domo.com/api/content/v2/authentication\"\n",
    "\n",
    "body = {\n",
    "    \"method\": \"password\",\n",
    "    \"emailAddress\": \"jae@onyxreporting.com\",\n",
    "    \"password\": os.environ[\"DOJO_PASSWORD\"],\n",
    "}\n",
    "\n",
    "session = aiohttp.ClientSession()\n",
    "res = await session.post(url=url, json=body)\n",
    "await session.close()\n",
    "\n",
    "print(res.status)\n",
    "\n",
    "test_res = await ResponseGetData._from_aiohttp_response(res)\n",
    "test_res.__dict__.keys()"
   ]
  },
  {
   "cell_type": "code",
   "execution_count": null,
   "metadata": {},
   "outputs": [],
   "source": [
    "# | hide\n",
    "test_eq(isinstance(test_res, ResponseGetData), True)"
   ]
  },
  {
   "cell_type": "code",
   "execution_count": null,
   "metadata": {},
   "outputs": [],
   "source": [
    "# | export\n",
    "@patch_to(ResponseGetData, cls_method=True)\n",
    "async def _from_looper(cls: ResponseGetData,\n",
    "                       res: ResponseGetData,  # requests response object\n",
    "                       array: list\n",
    "                       ) -> ResponseGetData:\n",
    "\n",
    "    \"\"\"async method returns ResponseGetData\"\"\"\n",
    "\n",
    "    if res.is_success:\n",
    "        res.response = array\n",
    "        return res\n",
    "\n",
    "    # response is error\n",
    "    else:\n",
    "        return res\n"
   ]
  },
  {
   "cell_type": "code",
   "execution_count": null,
   "metadata": {},
   "outputs": [],
   "source": [
    "# | hide\n",
    "import nbdev\n",
    "\n",
    "nbdev.nbdev_export()"
   ]
  }
 ],
 "metadata": {
  "kernelspec": {
   "display_name": "Python 3",
   "language": "python",
   "name": "python3"
  },
  "language_info": {
   "name": "python",
   "version": "3.10.4 (main, Jan 25 2023, 00:13:50) [GCC 9.4.0]"
  },
  "vscode": {
   "interpreter": {
    "hash": "3ad933181bd8a04b432d3370b9dc3b0662ad032c4dfaa4e4f1596c548f763858"
   }
  }
 },
 "nbformat": 4,
 "nbformat_minor": 4
}
