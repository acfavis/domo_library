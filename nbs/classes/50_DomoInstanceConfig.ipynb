{
 "cells": [
  {
   "cell_type": "raw",
   "metadata": {},
   "source": [
    "# DomoInstanceConfig\n",
    "> a class based approach to configuring your domo instance"
   ]
  },
  {
   "cell_type": "raw",
   "metadata": {},
   "source": [
    "---\n",
    "output-file: domoinstanceconfig_class.html\n",
    "---"
   ]
  },
  {
   "cell_type": "code",
   "execution_count": null,
   "metadata": {
    "vscode": {
     "languageId": "python"
    }
   },
   "outputs": [],
   "source": [
    "#| default_exp classes.DomoInstanceConfig"
   ]
  },
  {
   "cell_type": "code",
   "execution_count": null,
   "metadata": {
    "vscode": {
     "languageId": "python"
    }
   },
   "outputs": [],
   "source": [
    "#| exporti\n",
    "import httpx\n",
    "import datetime as dt\n",
    "import asyncio\n",
    "from fastcore.basics import patch_to\n",
    "\n",
    "\n",
    "from dataclasses import dataclass, field\n",
    "from typing import List\n",
    "\n",
    "import domolibrary.client.DomoAuth as dmda\n",
    "import domolibrary.client.ResponseGetData as rgd\n",
    "import domolibrary.routes.instance_config as instance_config_routes\n",
    "\n",
    "# import Library.utils.convert as cd\n",
    "# from .DomoAuth import DomoAuth\n",
    "# from .DomoGrant import DomoGrant\n",
    "# from .DomoRole import DomoRole\n",
    "# from .DomoApplication import DomoApplication\n",
    "# import Library.DomoClasses.DomoPublish as dmpb\n",
    "\n",
    "\n",
    "# import domolibrary.utils.convert as cd\n",
    "# import domolibrary.utils.DictDot as util_dd\n",
    "# import domolibrary.client.DomoError as de\n"
   ]
  },
  {
   "cell_type": "code",
   "execution_count": null,
   "metadata": {
    "vscode": {
     "languageId": "python"
    }
   },
   "outputs": [],
   "source": [
    "# | export\n",
    "@dataclass\n",
    "class DomoInstanceConfig:\n",
    "    \"\"\"utility class that absorbs many of the domo instance configuration methods\"\"\"\n",
    "    \n",
    "    auth: dmda.DomoAuth\n",
    "    allowlist : list[str] = field(default_factory = list)"
   ]
  },
  {
   "cell_type": "code",
   "execution_count": null,
   "metadata": {
    "vscode": {
     "languageId": "python"
    }
   },
   "outputs": [],
   "source": [
    "# | export\n",
    "@patch_to(DomoInstanceConfig)\n",
    "async def get_allowlist(self: DomoInstanceConfig, \n",
    "                        auth: dmda.DomoFullAuth = None, # get_allowlist requires full authentication\n",
    "                        session: httpx.AsyncClient = None, \n",
    "                        return_raw : bool = False,\n",
    "                        debug_api: bool = False) -> list[str]:\n",
    "    \"\"\"retrieves the allowlist for an instance\"\"\"\n",
    "\n",
    "    auth = auth or self.auth\n",
    "\n",
    "    res =  await instance_config_routes.get_allowlist(auth=auth,  debug_api=debug_api, session = session)\n",
    "\n",
    "    if return_raw:\n",
    "        return res\n",
    "\n",
    "    if not res.is_success:\n",
    "        return None\n",
    "\n",
    "    allowlist = res.response.get('addresses')\n",
    "\n",
    "    self.allowlist = allowlist\n",
    "\n",
    "    return allowlist\n"
   ]
  },
  {
   "attachments": {},
   "cell_type": "markdown",
   "metadata": {},
   "source": [
    "#### sample implementation of get_allowlist"
   ]
  },
  {
   "cell_type": "code",
   "execution_count": null,
   "metadata": {
    "vscode": {
     "languageId": "python"
    }
   },
   "outputs": [
    {
     "data": {
      "text/plain": [
       "['0.0.0.0/0', '20.171.66.146']"
      ]
     },
     "execution_count": null,
     "metadata": {},
     "output_type": "execute_result"
    }
   ],
   "source": [
    "import os\n",
    "\n",
    "## this route requires full auth\n",
    "# auth = dmda.DomoTokenAuth(domo_instance = 'domo-dojo', domo_access_token=os.environ['DOMO_DOJO_ACCESS_TOKEN'])\n",
    "\n",
    "auth = dmda.DomoFullAuth(domo_instance= 'domo-dojo', domo_username= 'jae@onyxreporting.com', domo_password= os.environ['DOJO_PASSWORD'])\n",
    "\n",
    "dmicnfg = DomoInstanceConfig(auth = auth)\n",
    "\n",
    "await dmicnfg.get_allowlist(auth=auth)\n"
   ]
  },
  {
   "attachments": {},
   "cell_type": "markdown",
   "metadata": {},
   "source": [
    "## ALTER the allowlist\n",
    "\n",
    "- The updating the allowlist will automatically include the IP Address that submits the set_allowlist request.  This prevents users from accidentally locking themselves out of domo.\n",
    "- the set_allowlist API always does a SET command, by default there is no UPDATE or INSERT option.  This class-based implementation uses a combination of get_allowlist, MERGE and set_allowlist to perform an UPSERT equivalent.\n"
   ]
  },
  {
   "cell_type": "code",
   "execution_count": null,
   "metadata": {
    "vscode": {
     "languageId": "python"
    }
   },
   "outputs": [],
   "source": [
    "# |export\n",
    "@patch_to(DomoInstanceConfig)\n",
    "async def set_allowlist(self : DomoInstanceConfig,\n",
    "                        ip_address_ls: list[str],\n",
    "                        debug_api: bool = False,\n",
    "                        auth: dmda.DomoFullAuth = None,\n",
    "                        session: httpx.AsyncClient = None\n",
    "                        ):\n",
    "                        \n",
    "    auth = auth or self.auth\n",
    "\n",
    "    await instance_config_routes.set_allowlist(auth=auth,\n",
    "                                               ip_address_ls=ip_address_ls,\n",
    "                                               debug_api=debug_api, session=session)\n",
    "\n",
    "    return await self.get_allowlist(auth=auth, debug_api=debug_api, session=session)\n",
    "\n",
    "\n",
    "@patch_to(DomoInstanceConfig, )\n",
    "async def upsert_allowlist(self : DomoInstanceConfig,\n",
    "                           ip_address_ls: list[str],\n",
    "                           debug_api: bool = False,\n",
    "                           session: httpx.AsyncClient = None,\n",
    "                           auth: dmda.DomoAuth = None,\n",
    "                           ):\n",
    "\n",
    "    exist_ip_address_ls = await self.get_allowlist(auth=auth, debug_api=debug_api, session=session)\n",
    "    ip_address_ls += exist_ip_address_ls\n",
    "\n",
    "    return await self.set_allowlist(auth=auth,\n",
    "                                   ip_address_ls=list(set(ip_address_ls)),\n",
    "                                   debug_api=debug_api, session=session)\n"
   ]
  },
  {
   "attachments": {},
   "cell_type": "markdown",
   "metadata": {},
   "source": [
    "#### sample implementation of set and upsert allowlist"
   ]
  },
  {
   "cell_type": "code",
   "execution_count": null,
   "metadata": {
    "vscode": {
     "languageId": "python"
    }
   },
   "outputs": [
    {
     "data": {
      "text/plain": [
       "['0.0.0.0/0', '20.171.66.146']"
      ]
     },
     "execution_count": null,
     "metadata": {},
     "output_type": "execute_result"
    }
   ],
   "source": [
    "import os\n",
    "\n",
    "# this route requires full auth\n",
    "# auth = dmda.DomoTokenAuth(domo_instance = 'domo-dojo', domo_access_token=os.environ['DOMO_DOJO_ACCESS_TOKEN'])\n",
    "\n",
    "auth = dmda.DomoFullAuth(domo_instance='domo-dojo',\n",
    "                         domo_username='jae@onyxreporting.com', domo_password=os.environ['DOJO_PASSWORD'])\n",
    "\n",
    "dmicnfg = DomoInstanceConfig(auth = auth)\n",
    "\n",
    "await dmicnfg.set_allowlist(auth=auth, ip_address_ls=['0.0.0.0/0'])\n"
   ]
  },
  {
   "cell_type": "code",
   "execution_count": null,
   "metadata": {
    "vscode": {
     "languageId": "python"
    }
   },
   "outputs": [
    {
     "data": {
      "text/plain": [
       "['0.0.0.0/0', '192.168.0.1', '20.171.66.146']"
      ]
     },
     "execution_count": null,
     "metadata": {},
     "output_type": "execute_result"
    }
   ],
   "source": [
    "import os\n",
    "\n",
    "# this route requires full auth\n",
    "# auth = dmda.DomoTokenAuth(domo_instance = 'domo-dojo', domo_access_token=os.environ['DOMO_DOJO_ACCESS_TOKEN'])\n",
    "\n",
    "auth = dmda.DomoFullAuth(domo_instance='domo-dojo',\n",
    "                         domo_username='jae@onyxreporting.com', domo_password=os.environ['DOJO_PASSWORD'])\n",
    "\n",
    "dmicnfg = DomoInstanceConfig(auth = auth)\n",
    "\n",
    "await dmicnfg.upsert_allowlist(auth=auth, ip_address_ls=['192.168.0.1'])\n"
   ]
  },
  {
   "cell_type": "code",
   "execution_count": null,
   "metadata": {
    "vscode": {
     "languageId": "python"
    }
   },
   "outputs": [],
   "source": [
    "# #| export\n",
    "# @dataclass\n",
    "# class DomoConnector:\n",
    "#     id: str\n",
    "#     label: str\n",
    "#     title: str\n",
    "#     sub_title: str\n",
    "#     description: str\n",
    "#     create_date: dt.datetime\n",
    "#     last_modified: dt.datetime\n",
    "#     publisher_name: str\n",
    "#     writeback_enabled: bool\n",
    "#     tags: list[str] = field(default_factory=list)\n",
    "#     capabilities: list[str] = field(default_factory=list)\n",
    "\n",
    "#     @classmethod\n",
    "#     def _from_str(cls, obj):\n",
    "#         dd = DictDot(obj)\n",
    "\n",
    "#         return cls(\n",
    "#             id=dd.databaseId,\n",
    "#             label=dd.label,\n",
    "#             title=dd.title,\n",
    "#             sub_title=dd.subTitle,\n",
    "#             description=dd.description,\n",
    "#             create_date=cd.convert_epoch_millisecond_to_datetime(\n",
    "#                 dd.createDate),\n",
    "#             last_modified=cd.convert_epoch_millisecond_to_datetime(\n",
    "#                 dd.lastModified),\n",
    "#             publisher_name=dd.publisherName,\n",
    "#             writeback_enabled=dd.writebackEnabled,\n",
    "#             tags=dd.tags,\n",
    "#             capabilities=dd.capabilities\n",
    "#         )"
   ]
  },
  {
   "cell_type": "code",
   "execution_count": null,
   "metadata": {
    "vscode": {
     "languageId": "python"
    }
   },
   "outputs": [],
   "source": [
    "\n",
    "\n",
    "    # @classmethod\n",
    "    # def _authorized_domain_from_string(cls, authorized_domain_string):\n",
    "    #     if authorized_domain_string == \"\":\n",
    "    #         return []\n",
    "\n",
    "    #     # return json.loads(authorized_domain_string)\n",
    "\n",
    "    #     return authorized_domain_string.split(',')\n",
    "\n",
    "    \n",
    "    # @classmethod\n",
    "    # async def get_roles(cls, auth: DomoAuth,\n",
    "    #                     debug: bool = False,\n",
    "    #                     session: httpx.AsyncClient = None):\n",
    "\n",
    "    #     res = await role_routes.get_roles(auth=auth,\n",
    "    #                                       debug=debug,\n",
    "    #                                       session=session)\n",
    "\n",
    "    #     if res.status == 200:\n",
    "    #         json_list = res.response\n",
    "    #         return [DomoRole._from_str(id=obj.get('id'),\n",
    "    #                                    name=obj.get('name'),\n",
    "    #                                    description=obj.get('description'),\n",
    "    #                                    auth=auth\n",
    "    #                                    ) for obj in json_list]\n",
    "\n",
    "    # @classmethod\n",
    "    # async def get_grants(cls, auth: DomoAuth,\n",
    "    #                      debug: bool = False,\n",
    "    #                      session: httpx.AsyncClient = None,\n",
    "    #                      return_raw: bool = False):\n",
    "\n",
    "    #     res = await grant_routes.get_grants(auth=auth,\n",
    "    #                                         debug=debug,\n",
    "    #                                         session=session)\n",
    "\n",
    "    #     if res.status == 200 and not return_raw:\n",
    "    #         json_list = res.response\n",
    "    #         return [DomoGrant._from_json(obj) for obj in json_list]\n",
    "\n",
    "    #     elif res.status == 200 and return_raw:\n",
    "    #         return res.response\n",
    "\n",
    "    # @classmethod\n",
    "    # async def get_authorized_domains(cls, auth: DomoAuth, debug: bool = False, session: httpx.AsyncClient = None):\n",
    "    #     res = await instance_config_routes.get_authorized_domains(auth=auth,\n",
    "    #                                                               debug=debug,\n",
    "    #                                                               session=session)\n",
    "\n",
    "    #     if res.status == 200:\n",
    "    #         str = cls._authorized_domain_from_string(res.response.get('value'))\n",
    "    #         return str\n",
    "\n",
    "    # @classmethod\n",
    "    # async def get_connectors(cls, auth: DomoAuth,\n",
    "    #                          session: httpx.AsyncClient = None,\n",
    "    #                          debug: bool = False,\n",
    "    #                          limit=100,\n",
    "    #                          ):\n",
    "\n",
    "    #     is_close_session = False\n",
    "    #     if not session:\n",
    "    #         is_close_session = True\n",
    "    #         session = httpx.AsyncClient()\n",
    "\n",
    "    #     def arr_fn(res):\n",
    "    #         # pprint(res.response)\n",
    "    #         return res.response.get('searchObjects')\n",
    "\n",
    "    #     def alter_maximum_fn(res):\n",
    "    #         return res.response.get('totalResultCount')\n",
    "\n",
    "    #     body = {\n",
    "    #         \"count\": limit,\n",
    "    #         \"offset\": 0,\n",
    "    #         \"hideSearchObjects\": True,\n",
    "    #         \"combineResults\": False,\n",
    "    #         \"entities\": [\"CONNECTOR\"],\n",
    "    #         \"query\": \"*\"}\n",
    "\n",
    "    #     obj_list = await datacenter_routes.search_datacenter(\n",
    "    #         auth=auth,\n",
    "    #         arr_fn=arr_fn,\n",
    "    #         alter_maximum_fn=alter_maximum_fn,\n",
    "    #         body=body,\n",
    "    #         session=session,\n",
    "    #         limit=limit,\n",
    "    #         debug=debug)\n",
    "\n",
    "    #     if is_close_session:\n",
    "    #         await session.aclose()\n",
    "\n",
    "    #     return [DomoConnector._from_str(obj) for obj in obj_list]\n",
    "\n",
    "    # @classmethod\n",
    "    # async def update_authorized_domains(cls, auth: DomoAuth,\n",
    "    #                                     authorized_domain_list: list[str],\n",
    "    #                                     is_replace_existing_list: bool = False,\n",
    "    #                                     debug: bool = False):\n",
    "\n",
    "    #     if not is_replace_existing_list:\n",
    "    #         existing_domain_list = await cls.get_authorized_domains(auth=auth, debug=debug)\n",
    "\n",
    "    #         authorized_domain_list.extend(existing_domain_list)\n",
    "\n",
    "    #     if debug:\n",
    "    #         print(\n",
    "    #             f'🌡️ updating authorized domain with {\",\".join(authorized_domain_list)}')\n",
    "\n",
    "    #     res = await instance_config_routes.update_authorized_domains(auth=auth,\n",
    "    #                                                                  authorized_domain_list=authorized_domain_list,\n",
    "    #                                                                  debug=debug)\n",
    "\n",
    "    #     if debug:\n",
    "    #         \"update_authorized_domains\"\n",
    "    #         print(res)\n",
    "\n",
    "    #     if res.status == 200 or res.status == 204:\n",
    "    #         res = {'authorized_domains': await cls.get_authorized_domains(auth=auth, debug=debug),\n",
    "    #                'status': 200}\n",
    "\n",
    "    #     return res\n",
    "\n",
    "    # @classmethod\n",
    "    # async def get_applications(cls,\n",
    "    #                            auth: DomoAuth,\n",
    "    #                            debug: bool = False, session: httpx.AsyncClient = None, return_raw: bool = False):\n",
    "\n",
    "    #     res = await application_routes.get_applications(auth=auth,\n",
    "    #                                                     debug=debug,\n",
    "    #                                                     session=session)\n",
    "    #     if debug:\n",
    "    #         print('Getting Domostats jobs')\n",
    "\n",
    "    #     if res.status == 200 and not return_raw:\n",
    "    #         return [DomoApplication._from_json(job) for job in res.response]\n",
    "\n",
    "    #     if res.status == 200 and return_raw:\n",
    "    #         return res.response\n",
    "\n",
    "    # @classmethod\n",
    "    # async def get_publications(cls,\n",
    "    #                            auth: DomoAuth,\n",
    "    #                            debug: bool = False, session: httpx.AsyncClient = None, return_raw: bool = False):\n",
    "\n",
    "    #     res = await publish_routes.search_publications(auth=auth,\n",
    "    #                                                    debug=debug,\n",
    "    #                                                    session=session)\n",
    "    #     if debug:\n",
    "    #         print('Getting Publish jobs')\n",
    "\n",
    "    #     if res.status == 200 and not return_raw:\n",
    "    #         return await asyncio.gather(*[dmpb.DomoPublication.get_from_id(publication_id=job.get('id'),\n",
    "    #                                                                        auth=auth) for job in res.response])\n",
    "\n",
    "    #     if res.status == 200 and return_raw:\n",
    "    #         return res.response"
   ]
  }
 ],
 "metadata": {
  "jupytext": {
   "split_at_heading": true
  },
  "kernelspec": {
   "display_name": "Python 3",
   "language": "python",
   "name": "python3"
  }
 },
 "nbformat": 4,
 "nbformat_minor": 4
}
