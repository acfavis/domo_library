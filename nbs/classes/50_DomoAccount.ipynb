{
 "cells": [
  {
   "attachments": {},
   "cell_type": "markdown",
   "metadata": {},
   "source": [
    "# Account\n"
   ]
  },
  {
   "cell_type": "raw",
   "metadata": {},
   "source": [
    "---\n",
    "output-file: account_class.html\n",
    "---\n",
    "\n"
   ]
  },
  {
   "cell_type": "code",
   "execution_count": 1,
   "metadata": {},
   "outputs": [],
   "source": [
    "# | default_exp classes.DomoAccount\n"
   ]
  },
  {
   "cell_type": "code",
   "execution_count": 2,
   "metadata": {},
   "outputs": [],
   "source": [
    "# | export\n",
    "\n",
    "from enum import Enum\n",
    "from dataclasses import dataclass, field\n",
    "from abc import ABC, abstractclassmethod, abstractmethod\n",
    "\n",
    "import datetime as dt\n",
    "import re\n",
    "\n",
    "\n",
    "import httpx\n",
    "\n",
    "from fastcore.basics import patch_to\n",
    "\n",
    "import domolibrary.utils.convert as cd\n",
    "import domolibrary.utils.DictDot as util_dd\n",
    "import domolibrary.client.DomoAuth as dmda\n",
    "import domolibrary.client.DomoError as de\n",
    "import domolibrary.routes.account as account_routes\n"
   ]
  },
  {
   "attachments": {},
   "cell_type": "markdown",
   "metadata": {},
   "source": [
    "# Account Connector Config\n",
    "\n",
    "Each Domo Dataset that pulls data into Vault must have a stream, which stores the configuration information related to which data is exctracted from a datasource. Each stream has an associated account which stores the source data's authentication information.\n",
    "\n",
    "Because each datasource may have different authentication parameters, there may be multiple versions of the same account type (with different credentials) or multiple account types deployed within a domo instance if the user is extracting data from multiple systems.\n",
    "\n",
    "Account's can be configured such that certain fields are designated as encrypted fields, and the user will never be able to see the encrypted values EXCEPT in Domo's Jupyter Notebook integration.\n"
   ]
  },
  {
   "cell_type": "code",
   "execution_count": 3,
   "metadata": {},
   "outputs": [],
   "source": [
    "# | export\n",
    "class DomoAccount_Config(ABC):\n",
    "    \"\"\"DomoAccount Config abstract base class\"\"\"\n",
    "\n",
    "    data_provider_type: str\n",
    "\n",
    "    @classmethod\n",
    "    @abstractmethod\n",
    "    def _from_json(cls, obj):\n",
    "        \"\"\"convert accounts API response into a class object\"\"\"\n",
    "        pass\n",
    "\n",
    "    @abstractmethod\n",
    "    def to_json(self):\n",
    "        \"\"\"convert class object into a format the accounts API expects\"\"\"\n",
    "        pass"
   ]
  },
  {
   "cell_type": "code",
   "execution_count": 4,
   "metadata": {},
   "outputs": [],
   "source": [
    "# | export\n",
    "@dataclass\n",
    "class DomoAccount_Config_AbstractCredential(DomoAccount_Config):\n",
    "    data_provider_type = \"abstract-credential-store\"\n",
    "    credentials: dict\n",
    "\n",
    "    @classmethod\n",
    "    def _from_json(cls, obj):\n",
    "\n",
    "        dd = util_dd.DictDot(obj)\n",
    "\n",
    "        return cls(\n",
    "            credentials=dd.credentials,\n",
    "        )\n",
    "\n",
    "    def to_json(self):\n",
    "        return {\"credentials\": self.credentials}"
   ]
  },
  {
   "cell_type": "code",
   "execution_count": 5,
   "metadata": {},
   "outputs": [],
   "source": [
    "# | export\n",
    "@dataclass\n",
    "class DomoAccount_Config_DatasetCopy(DomoAccount_Config):\n",
    "    domo_instance: str\n",
    "    access_token: str = field(repr=False)\n",
    "\n",
    "    data_provider_type = \"dataset-copy\"\n",
    "\n",
    "    @classmethod\n",
    "    def _from_json(cls, obj):\n",
    "\n",
    "        dd = util_dd.DictDot(obj)\n",
    "\n",
    "        return cls(access_token=dd.accessToken, domo_instance=dd.instance)\n",
    "\n",
    "    def to_json(self):\n",
    "        return {\"accessToken\": self.access_token, \"instance\": self.domo_instance}"
   ]
  },
  {
   "cell_type": "code",
   "execution_count": 6,
   "metadata": {},
   "outputs": [],
   "source": [
    "# | export\n",
    "@dataclass\n",
    "class DomoAccount_Config_Governance(DomoAccount_Config):\n",
    "    domo_instance: str\n",
    "    access_token: str = field(repr=False)\n",
    "\n",
    "    data_provider_type = \"domo-governance-d14c2fef-49a8-4898-8ddd-f64998005600\"\n",
    "\n",
    "    @classmethod\n",
    "    def _from_json(cls, obj):\n",
    "\n",
    "        dd = util_dd.DictDot(obj)\n",
    "\n",
    "        return cls(access_token=dd.apikey, domo_instance=dd.customer)\n",
    "\n",
    "    def to_json(self):\n",
    "        return {\"apikey\": self.access_token, \"customer\": self.domo_instance}"
   ]
  },
  {
   "cell_type": "code",
   "execution_count": 7,
   "metadata": {},
   "outputs": [],
   "source": [
    "# | export\n",
    "@dataclass\n",
    "class DomoAccount_Config_HighBandwidthConnector(DomoAccount_Config):\n",
    "    aws_access_key: str\n",
    "    aws_secret_key: str = field(repr=False)\n",
    "    s3_staging_dir: str\n",
    "    region: str = \"us-west-2\"\n",
    "\n",
    "    data_provider_type = \"amazon-athena-high-bandwidth\"\n",
    "\n",
    "    @classmethod\n",
    "    def _from_json(cls, obj):\n",
    "\n",
    "        dd = util_dd.DictDot(obj)\n",
    "\n",
    "        return cls(\n",
    "            aws_access_key=dd.awsAccessKey,\n",
    "            aws_secret_key=dd.awsSecretKey,\n",
    "            s3_staging_dir=dd.s3StagingDir,\n",
    "            region=dd.region,\n",
    "        )\n",
    "\n",
    "    def to_json(self):\n",
    "        return {\n",
    "            \"awsAccessKey\": self.aws_access_key,\n",
    "            \"awsSecretKey\": self.aws_secret_key,\n",
    "            \"s3StagingDir\": self.s3_staging_dir,\n",
    "            \"region\": self.region,\n",
    "        }"
   ]
  },
  {
   "cell_type": "code",
   "execution_count": 8,
   "metadata": {},
   "outputs": [
    {
     "ename": "TypeError",
     "evalue": "non-default argument 'workgroup' follows default argument",
     "output_type": "error",
     "traceback": [
      "\u001b[0;31m---------------------------------------------------------------------------\u001b[0m",
      "\u001b[0;31mTypeError\u001b[0m                                 Traceback (most recent call last)",
      "Cell \u001b[0;32mIn[8], line 3\u001b[0m\n\u001b[1;32m      1\u001b[0m \u001b[39m# | export\u001b[39;00m\n\u001b[1;32m      2\u001b[0m \u001b[39m@dataclass\u001b[39;49m\n\u001b[0;32m----> 3\u001b[0m \u001b[39mclass\u001b[39;49;00m \u001b[39mDomoAccount_Config_AwsAthena\u001b[39;49;00m(DomoAccount_Config):\n\u001b[1;32m      4\u001b[0m     aws_access_key: \u001b[39mstr\u001b[39;49m\n\u001b[1;32m      5\u001b[0m     aws_secret_key: \u001b[39mstr\u001b[39;49m \u001b[39m=\u001b[39;49m field(\u001b[39mrepr\u001b[39;49m\u001b[39m=\u001b[39;49m\u001b[39mFalse\u001b[39;49;00m)\n",
      "File \u001b[0;32m~/.python/current/lib/python3.10/dataclasses.py:1185\u001b[0m, in \u001b[0;36mdataclass\u001b[0;34m(cls, init, repr, eq, order, unsafe_hash, frozen, match_args, kw_only, slots)\u001b[0m\n\u001b[1;32m   1182\u001b[0m     \u001b[39mreturn\u001b[39;00m wrap\n\u001b[1;32m   1184\u001b[0m \u001b[39m# We're called as @dataclass without parens.\u001b[39;00m\n\u001b[0;32m-> 1185\u001b[0m \u001b[39mreturn\u001b[39;00m wrap(\u001b[39mcls\u001b[39;49m)\n",
      "File \u001b[0;32m~/.python/current/lib/python3.10/dataclasses.py:1176\u001b[0m, in \u001b[0;36mdataclass.<locals>.wrap\u001b[0;34m(cls)\u001b[0m\n\u001b[1;32m   1175\u001b[0m \u001b[39mdef\u001b[39;00m \u001b[39mwrap\u001b[39m(\u001b[39mcls\u001b[39m):\n\u001b[0;32m-> 1176\u001b[0m     \u001b[39mreturn\u001b[39;00m _process_class(\u001b[39mcls\u001b[39;49m, init, \u001b[39mrepr\u001b[39;49m, eq, order, unsafe_hash,\n\u001b[1;32m   1177\u001b[0m                           frozen, match_args, kw_only, slots)\n",
      "File \u001b[0;32m~/.python/current/lib/python3.10/dataclasses.py:1025\u001b[0m, in \u001b[0;36m_process_class\u001b[0;34m(cls, init, repr, eq, order, unsafe_hash, frozen, match_args, kw_only, slots)\u001b[0m\n\u001b[1;32m   1020\u001b[0m \u001b[39mif\u001b[39;00m init:\n\u001b[1;32m   1021\u001b[0m     \u001b[39m# Does this class have a post-init function?\u001b[39;00m\n\u001b[1;32m   1022\u001b[0m     has_post_init \u001b[39m=\u001b[39m \u001b[39mhasattr\u001b[39m(\u001b[39mcls\u001b[39m, _POST_INIT_NAME)\n\u001b[1;32m   1024\u001b[0m     _set_new_attribute(\u001b[39mcls\u001b[39m, \u001b[39m'\u001b[39m\u001b[39m__init__\u001b[39m\u001b[39m'\u001b[39m,\n\u001b[0;32m-> 1025\u001b[0m                        _init_fn(all_init_fields,\n\u001b[1;32m   1026\u001b[0m                                 std_init_fields,\n\u001b[1;32m   1027\u001b[0m                                 kw_only_init_fields,\n\u001b[1;32m   1028\u001b[0m                                 frozen,\n\u001b[1;32m   1029\u001b[0m                                 has_post_init,\n\u001b[1;32m   1030\u001b[0m                                 \u001b[39m# The name to use for the \"self\"\u001b[39;49;00m\n\u001b[1;32m   1031\u001b[0m                                 \u001b[39m# param in __init__.  Use \"self\"\u001b[39;49;00m\n\u001b[1;32m   1032\u001b[0m                                 \u001b[39m# if possible.\u001b[39;49;00m\n\u001b[1;32m   1033\u001b[0m                                 \u001b[39m'\u001b[39;49m\u001b[39m__dataclass_self__\u001b[39;49m\u001b[39m'\u001b[39;49m \u001b[39mif\u001b[39;49;00m \u001b[39m'\u001b[39;49m\u001b[39mself\u001b[39;49m\u001b[39m'\u001b[39;49m \u001b[39min\u001b[39;49;00m fields\n\u001b[1;32m   1034\u001b[0m                                         \u001b[39melse\u001b[39;49;00m \u001b[39m'\u001b[39;49m\u001b[39mself\u001b[39;49m\u001b[39m'\u001b[39;49m,\n\u001b[1;32m   1035\u001b[0m                                 \u001b[39mglobals\u001b[39;49m,\n\u001b[1;32m   1036\u001b[0m                                 slots,\n\u001b[1;32m   1037\u001b[0m                       ))\n\u001b[1;32m   1039\u001b[0m \u001b[39m# Get the fields as a list, and include only real fields.  This is\u001b[39;00m\n\u001b[1;32m   1040\u001b[0m \u001b[39m# used in all of the following methods.\u001b[39;00m\n\u001b[1;32m   1041\u001b[0m field_list \u001b[39m=\u001b[39m [f \u001b[39mfor\u001b[39;00m f \u001b[39min\u001b[39;00m fields\u001b[39m.\u001b[39mvalues() \u001b[39mif\u001b[39;00m f\u001b[39m.\u001b[39m_field_type \u001b[39mis\u001b[39;00m _FIELD]\n",
      "File \u001b[0;32m~/.python/current/lib/python3.10/dataclasses.py:546\u001b[0m, in \u001b[0;36m_init_fn\u001b[0;34m(fields, std_fields, kw_only_fields, frozen, has_post_init, self_name, globals, slots)\u001b[0m\n\u001b[1;32m    544\u001b[0m             seen_default \u001b[39m=\u001b[39m \u001b[39mTrue\u001b[39;00m\n\u001b[1;32m    545\u001b[0m         \u001b[39melif\u001b[39;00m seen_default:\n\u001b[0;32m--> 546\u001b[0m             \u001b[39mraise\u001b[39;00m \u001b[39mTypeError\u001b[39;00m(\u001b[39mf\u001b[39m\u001b[39m'\u001b[39m\u001b[39mnon-default argument \u001b[39m\u001b[39m{\u001b[39;00mf\u001b[39m.\u001b[39mname\u001b[39m!r}\u001b[39;00m\u001b[39m \u001b[39m\u001b[39m'\u001b[39m\n\u001b[1;32m    547\u001b[0m                             \u001b[39m'\u001b[39m\u001b[39mfollows default argument\u001b[39m\u001b[39m'\u001b[39m)\n\u001b[1;32m    549\u001b[0m \u001b[39mlocals\u001b[39m \u001b[39m=\u001b[39m {\u001b[39mf\u001b[39m\u001b[39m'\u001b[39m\u001b[39m_type_\u001b[39m\u001b[39m{\u001b[39;00mf\u001b[39m.\u001b[39mname\u001b[39m}\u001b[39;00m\u001b[39m'\u001b[39m: f\u001b[39m.\u001b[39mtype \u001b[39mfor\u001b[39;00m f \u001b[39min\u001b[39;00m fields}\n\u001b[1;32m    550\u001b[0m \u001b[39mlocals\u001b[39m\u001b[39m.\u001b[39mupdate({\n\u001b[1;32m    551\u001b[0m     \u001b[39m'\u001b[39m\u001b[39mMISSING\u001b[39m\u001b[39m'\u001b[39m: MISSING,\n\u001b[1;32m    552\u001b[0m     \u001b[39m'\u001b[39m\u001b[39m_HAS_DEFAULT_FACTORY\u001b[39m\u001b[39m'\u001b[39m: _HAS_DEFAULT_FACTORY,\n\u001b[1;32m    553\u001b[0m })\n",
      "\u001b[0;31mTypeError\u001b[0m: non-default argument 'workgroup' follows default argument"
     ]
    }
   ],
   "source": [
    "# | export\n",
    "@dataclass\n",
    "class DomoAccount_Config_AwsAthena(DomoAccount_Config):\n",
    "    aws_access_key: str\n",
    "    aws_secret_key: str = field(repr=False)\n",
    "    s3_staging_dir: str\n",
    "    region: str = \"us-west-2\"\n",
    "    workgroup: str\n",
    "    data_provider_type = \"aws-athena\"\n",
    "\n",
    "    @classmethod\n",
    "    def _from_json(cls, obj):\n",
    "\n",
    "        dd = util_dd.DictDot(obj)\n",
    "\n",
    "        return cls(\n",
    "            aws_access_key=dd.awsAccessKey,\n",
    "            aws_secret_key=dd.awsSecretKey,\n",
    "            s3_staging_dir=dd.s3StagingDir,\n",
    "            region=dd.region,\n",
    "            workgroup = dd.workgroup\n",
    "        )\n",
    "\n",
    "    def to_json(self):\n",
    "        return {\n",
    "            \"awsAccessKey\": self.aws_access_key,\n",
    "            \"awsSecretKey\": self.aws_secret_key,\n",
    "            \"s3StagingDir\": self.s3_staging_dir,\n",
    "            \"region\": self.region,\n",
    "            \"workgroup\" : self.workgroup\n",
    "        }\n"
   ]
  },
  {
   "cell_type": "code",
   "execution_count": null,
   "metadata": {},
   "outputs": [],
   "source": [
    "# | export\n",
    "class AccountConfig(Enum):\n",
    "    \"\"\"\n",
    "    Enum provides appropriate spelling for data_provider_type and config object.\n",
    "    The name of the enum should correspond with the data_provider_type with hyphens replaced with underscores.\n",
    "    \"\"\"\n",
    "\n",
    "    amazon_athena_high_bandwidth = DomoAccount_Config_HighBandwidthConnector\n",
    "\n",
    "    abstract_credential_store = DomoAccount_Config_AbstractCredential\n",
    "\n",
    "    dataset_copy = DomoAccount_Config_DatasetCopy\n",
    "\n",
    "    domo_governance_d14c2fef_49a8_4898_8ddd_f64998005600 = DomoAccount_Config_Governance\n",
    "\n",
    "    aws_athena = DomoAccount_Config_AwsAthena\n"
   ]
  },
  {
   "attachments": {},
   "cell_type": "markdown",
   "metadata": {},
   "source": [
    "# MAIN -- DomoAccount\n"
   ]
  },
  {
   "cell_type": "code",
   "execution_count": null,
   "metadata": {},
   "outputs": [],
   "source": [
    "# | export\n",
    "@dataclass\n",
    "class DomoAccount:\n",
    "    name: str\n",
    "    data_provider_type: str\n",
    "\n",
    "    id: int = None\n",
    "    created_dt: dt.datetime = None\n",
    "    modified_dt: dt.datetime = None\n",
    "    auth: dmda.DomoAuth = field(repr=False, default=None)\n",
    "\n",
    "    config: DomoAccount_Config = None\n",
    "\n",
    "    @classmethod\n",
    "    def _from_json(cls, obj: dict, auth: dmda.DomoAuth = None):\n",
    "        \"\"\"converts data_v1_accounts API response into an accounts class object\"\"\"\n",
    "\n",
    "        dd = util_dd.DictDot(obj)\n",
    "\n",
    "        return cls(\n",
    "            id=dd.id,\n",
    "            name=dd.displayName,\n",
    "            data_provider_type=dd.dataProviderType,\n",
    "            created_dt=cd.convert_epoch_millisecond_to_datetime(dd.createdAt),\n",
    "            modified_dt=cd.convert_epoch_millisecond_to_datetime(dd.modifiedAt),\n",
    "            auth=auth,\n",
    "        )\n",
    "\n",
    "    async def _get_config(\n",
    "        self, session=None, debug_api: bool = None, return_raw: bool = False\n",
    "    ):\n",
    "\n",
    "        res_config = await account_routes.get_account_config(\n",
    "            auth=self.auth,\n",
    "            account_id=self.id,\n",
    "            data_provider_type=self.data_provider_type,\n",
    "            session=session,\n",
    "            debug_api=debug_api,\n",
    "        )\n",
    "\n",
    "        if return_raw:\n",
    "            return res_config\n",
    "\n",
    "        enum_clean = re.sub(\"-\", \"_\", self.data_provider_type)\n",
    "\n",
    "        if not enum_clean in AccountConfig.__members__:\n",
    "            return None\n",
    "\n",
    "        self.config = AccountConfig[enum_clean].value._from_json(res_config.response)\n",
    "\n",
    "        return self.config"
   ]
  },
  {
   "cell_type": "code",
   "execution_count": null,
   "metadata": {},
   "outputs": [],
   "source": [
    "# | export\n",
    "@patch_to(DomoAccount, cls_method=True)\n",
    "async def get_from_id(\n",
    "    cls,\n",
    "    auth: dmda.DomoAuth,\n",
    "    account_id: int,\n",
    "    session: httpx.AsyncClient = None,\n",
    "    return_raw: bool = False,\n",
    "    debug_api: bool = False,\n",
    "):\n",
    "\n",
    "    res = await account_routes.get_account_from_id(\n",
    "        auth=auth, account_id=account_id, session=session, debug_api=debug_api\n",
    "    )\n",
    "    if return_raw:\n",
    "        return res\n",
    "\n",
    "    if not res.is_success:\n",
    "        return None\n",
    "\n",
    "    obj = res.response\n",
    "    acc = cls._from_json(obj, auth)\n",
    "\n",
    "    await acc._get_config(session=session, debug_api=debug_api)\n",
    "\n",
    "    return acc"
   ]
  },
  {
   "attachments": {},
   "cell_type": "markdown",
   "metadata": {},
   "source": [
    "#### sample implementation of get_from_id\n"
   ]
  },
  {
   "cell_type": "code",
   "execution_count": null,
   "metadata": {},
   "outputs": [
    {
     "data": {
      "text/plain": [
       "DomoAccount(name='test_rename', data_provider_type='domo-governance-d14c2fef-49a8-4898-8ddd-f64998005600', id=5, created_dt=datetime.datetime(2021, 3, 26, 16, 54, 41), modified_dt=datetime.datetime(2023, 2, 15, 19, 39, 27), config=DomoAccount_Config_Governance(domo_instance='domo-dojo'))"
      ]
     },
     "execution_count": null,
     "metadata": {},
     "output_type": "execute_result"
    }
   ],
   "source": [
    "import os\n",
    "\n",
    "token_auth = dmda.DomoTokenAuth(\n",
    "    domo_instance=\"domo-dojo\", domo_access_token=os.environ[\"DOMO_DOJO_ACCESS_TOKEN\"]\n",
    ")\n",
    "\n",
    "await DomoAccount.get_from_id(auth=token_auth, account_id=5, return_raw=False)\n"
   ]
  },
  {
   "attachments": {},
   "cell_type": "markdown",
   "metadata": {},
   "source": [
    "## Account Metadata and Configuration\n"
   ]
  },
  {
   "cell_type": "code",
   "execution_count": null,
   "metadata": {},
   "outputs": [],
   "source": [
    "# | export\n",
    "@patch_to(DomoAccount)\n",
    "async def update_config(\n",
    "    self: DomoAccount,\n",
    "    auth: dmda.DomoAuth = None,\n",
    "    debug_api: bool = False,\n",
    "    config: DomoAccount_Config = None,\n",
    "    session: httpx.AsyncClient = None,\n",
    "    return_raw: bool = False,\n",
    "):\n",
    "\n",
    "    auth = auth or self.auth\n",
    "\n",
    "    config = config or self.config\n",
    "\n",
    "    res = await account_routes.update_account_config(\n",
    "        auth=auth,\n",
    "        account_id=self.id,\n",
    "        data_provider_type=self.data_provider_type,\n",
    "        config_body=config.to_json(),\n",
    "        debug_api=debug_api,\n",
    "        session=session,\n",
    "    )\n",
    "\n",
    "    if return_raw:\n",
    "        return res\n",
    "\n",
    "    await self._get_config(session=session, debug_api=debug_api)\n",
    "\n",
    "    return self"
   ]
  },
  {
   "attachments": {},
   "cell_type": "markdown",
   "metadata": {},
   "source": [
    "#### Sample implementation of update_config\n"
   ]
  },
  {
   "cell_type": "code",
   "execution_count": null,
   "metadata": {},
   "outputs": [
    {
     "data": {
      "text/plain": [
       "DomoAccount(name='test_rename', data_provider_type='domo-governance-d14c2fef-49a8-4898-8ddd-f64998005600', id=5, created_dt=datetime.datetime(2021, 3, 26, 16, 54, 41), modified_dt=datetime.datetime(2023, 2, 15, 19, 39, 27), config=DomoAccount_Config_Governance(domo_instance='domo-dojo'))"
      ]
     },
     "execution_count": null,
     "metadata": {},
     "output_type": "execute_result"
    }
   ],
   "source": [
    "import os\n",
    "\n",
    "token_auth = dmda.DomoTokenAuth(\n",
    "    domo_instance=\"domo-dojo\", domo_access_token=os.environ[\"DOMO_DOJO_ACCESS_TOKEN\"]\n",
    ")\n",
    "\n",
    "domo_instance = \"domo-dojo\"\n",
    "access_token = os.environ[\"DOMO_DOJO_ACCESS_TOKEN\"]\n",
    "\n",
    "# creates a DomoAccount object\n",
    "domo_account = await DomoAccount.get_from_id(auth=token_auth, account_id=5)\n",
    "\n",
    "\n",
    "# update domo Account API without passing explicit config object\n",
    "# adjust configuration information for that object\n",
    "domo_account.config.domo_instance = \"domo-dojo\"\n",
    "domo_account.config.access_token = os.environ[\"DOMO_DOJO_ACCESS_TOKEN\"]\n",
    "await domo_account.update_config()\n",
    "\n",
    "# update domo Account API by passing new config object\n",
    "config = AccountConfig.domo_governance_d14c2fef_49a8_4898_8ddd_f64998005600.value(\n",
    "    domo_instance=domo_instance, access_token=access_token\n",
    ")\n",
    "await domo_account.update_config(config=config)"
   ]
  },
  {
   "cell_type": "code",
   "execution_count": null,
   "metadata": {},
   "outputs": [],
   "source": [
    "# | export\n",
    "class DomoAccount_UpdateName_Error(de.DomoError):\n",
    "    def __init__(self,\n",
    "                 domo_instance,\n",
    "                 status, message,\n",
    "                 entity_id,\n",
    "                 function_name=\"update_name\",\n",
    "                 ):\n",
    "\n",
    "        super().__init__(function_name=function_name, entity_id=entity_id,\n",
    "                         domo_instance=domo_instance, status=status, message=message)\n",
    "\n",
    "\n",
    "@patch_to(DomoAccount)\n",
    "async def update_name(\n",
    "    self: DomoAccount,\n",
    "    account_name: str = None,\n",
    "    auth: dmda.DomoAuth = None,\n",
    "    debug_api: bool = False,\n",
    "    session: httpx.AsyncClient = None,\n",
    "    return_raw: bool = False,\n",
    "):\n",
    "\n",
    "    auth = auth or self.auth\n",
    "\n",
    "    # print(auth, self.id, self.data_provider_type, self.config.to_json())\n",
    "\n",
    "    res = await account_routes.update_account_name(\n",
    "        auth=auth,\n",
    "        account_id=self.id,\n",
    "        account_name=account_name or self.name,\n",
    "        debug_api=debug_api,\n",
    "        session=session,\n",
    "    )\n",
    "\n",
    "    if return_raw:\n",
    "        return res\n",
    "\n",
    "    if not res.is_success:\n",
    "        raise DomoAccount_UpdateName_Error(entity_id=self.id,\n",
    "                                           domo_instance=auth.domo_instance,\n",
    "                                           status=res.status,\n",
    "                                           message=res.response,)\n",
    "\n",
    "    self = await self.get_from_id(auth=auth, account_id=self.id)\n",
    "\n",
    "    return self\n"
   ]
  },
  {
   "attachments": {},
   "cell_type": "markdown",
   "metadata": {},
   "source": [
    "#### sample implementation of update_name\n"
   ]
  },
  {
   "cell_type": "code",
   "execution_count": null,
   "metadata": {},
   "outputs": [
    {
     "data": {
      "text/plain": [
       "DomoAccount(name='test_rename', data_provider_type='domo-governance-d14c2fef-49a8-4898-8ddd-f64998005600', id=5, created_dt=datetime.datetime(2021, 3, 26, 16, 54, 41), modified_dt=datetime.datetime(2023, 2, 15, 19, 40, 18), config=DomoAccount_Config_Governance(domo_instance='domo-dojo'))"
      ]
     },
     "execution_count": null,
     "metadata": {},
     "output_type": "execute_result"
    }
   ],
   "source": [
    "import os\n",
    "\n",
    "token_auth = dmda.DomoTokenAuth(\n",
    "    domo_instance=\"domo-dojo\", domo_access_token=os.environ[\"DOMO_DOJO_ACCESS_TOKEN\"]\n",
    ")\n",
    "\n",
    "# creates a DomoAccount object\n",
    "domo_account = await DomoAccount.get_from_id(auth=token_auth, account_id=5)\n",
    "\n",
    "account_name = \"test_rename\"\n",
    "\n",
    "# update domo Account API without passing explicit config object\n",
    "# adjust configuration information for that object\n",
    "domo_account.name = account_name\n",
    "# await domo_account.update_name()\n",
    "\n",
    "# update domo Account API by passing account_name str\n",
    "await domo_account.update_name(account_name=account_name, return_raw=False)"
   ]
  },
  {
   "attachments": {},
   "cell_type": "markdown",
   "metadata": {},
   "source": [
    "## Create Account\n"
   ]
  },
  {
   "cell_type": "code",
   "execution_count": null,
   "metadata": {},
   "outputs": [],
   "source": [
    "#| export\n",
    "class DomoAccount_CreateAccount_Error(de.DomoError):\n",
    "    def __init__(self,\n",
    "                 entity_id,\n",
    "                 domo_instance,\n",
    "                 status,\n",
    "                 message,\n",
    "                 function_name=\"create_account\",\n",
    "                 ):\n",
    "\n",
    "        super().__init__(function_name=function_name,\n",
    "                         entity_id=entity_id,\n",
    "                         domo_instance=domo_instance,\n",
    "                         status=status, message=message)\n"
   ]
  },
  {
   "cell_type": "code",
   "execution_count": null,
   "metadata": {},
   "outputs": [],
   "source": [
    "# | export\n",
    "@patch_to(DomoAccount, cls_method=True)\n",
    "def generate_create_body(cls, account_name, config):\n",
    "    return {\n",
    "        \"displayName\": account_name,\n",
    "        \"dataProviderType\": config.data_provider_type,\n",
    "        \"name\": config.data_provider_type,\n",
    "        \"configurations\": config.to_json(),\n",
    "    }\n",
    "\n",
    "\n",
    "@patch_to(DomoAccount, cls_method=True)\n",
    "async def create_account(\n",
    "    cls: DomoAccount,\n",
    "    account_name: str,\n",
    "    config: DomoAccount_Config,\n",
    "    auth: dmda.DomoAuth,\n",
    "    debug_api: bool = False,\n",
    "    session: httpx.AsyncClient = None,\n",
    "):\n",
    "\n",
    "    body = cls.generate_create_body(account_name=account_name, config=config)\n",
    "\n",
    "    res = await account_routes.create_account(\n",
    "        auth=auth, config_body=body, debug_api=debug_api, session=session\n",
    "    )\n",
    "\n",
    "    if not res.is_success:\n",
    "        raise DomoAccount_CreateAccount_Error(\n",
    "            entity_id=account_name,\n",
    "            domo_instance=auth.domo_instance,\n",
    "            status=res.status,\n",
    "            message=res.response,\n",
    "        )\n",
    "\n",
    "    return await cls.get_from_id(auth=auth, account_id=res.response.get(\"id\"))\n"
   ]
  },
  {
   "cell_type": "code",
   "execution_count": null,
   "metadata": {},
   "outputs": [],
   "source": [
    "# | export\n",
    "\n",
    "\n",
    "class DomoAccount_DeleteAccount_Error(de.DomoError):\n",
    "    def __init__(self,\n",
    "                entity_id,\n",
    "                 domo_instance,\n",
    "                 status, message,\n",
    "                 function_name=\"delete_account\",\n",
    "                 ):\n",
    "\n",
    "        super().__init__(function_name=function_name, entity_id = entity_id,\n",
    "                         domo_instance=domo_instance, \n",
    "                         status=status, \n",
    "                         message=message)\n",
    "\n",
    "\n",
    "@patch_to(DomoAccount)\n",
    "async def delete_account(\n",
    "    self: DomoAccount,\n",
    "    auth: dmda.DomoAuth = None,\n",
    "    debug_api: bool = False,\n",
    "    session: httpx.AsyncClient = None,\n",
    "):\n",
    "\n",
    "    auth = auth or self.auth\n",
    "\n",
    "    res = await account_routes.delete_account(\n",
    "        auth=auth, account_id=self.id, debug_api=debug_api, session=session\n",
    "    )\n",
    "\n",
    "    if not res.is_success:\n",
    "        \n",
    "        raise DomoAccount_DeleteAccount_Error(\n",
    "            entity_id=self.id,\n",
    "            domo_instance=auth.domo_instance,\n",
    "            status=res.status,\n",
    "            message=res.response,\n",
    "        )\n",
    "\n",
    "    return True"
   ]
  },
  {
   "cell_type": "code",
   "execution_count": null,
   "metadata": {},
   "outputs": [],
   "source": [
    "# | hide\n",
    "import nbdev\n",
    "\n",
    "nbdev.nbdev_export()"
   ]
  }
 ],
 "metadata": {
  "jupytext": {
   "split_at_heading": true
  },
  "kernelspec": {
   "display_name": "Python 3",
   "language": "python",
   "name": "python3"
  },
  "language_info": {
   "codemirror_mode": {
    "name": "ipython",
    "version": 3
   },
   "file_extension": ".py",
   "mimetype": "text/x-python",
   "name": "python",
   "nbconvert_exporter": "python",
   "pygments_lexer": "ipython3",
   "version": "3.10.4"
  },
  "vscode": {
   "interpreter": {
    "hash": "3ad933181bd8a04b432d3370b9dc3b0662ad032c4dfaa4e4f1596c548f763858"
   }
  }
 },
 "nbformat": 4,
 "nbformat_minor": 4
}
