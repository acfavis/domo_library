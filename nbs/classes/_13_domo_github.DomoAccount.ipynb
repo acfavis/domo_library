{
 "cells": [
  {
   "attachments": {},
   "cell_type": "markdown",
   "metadata": {},
   "source": [
    "# Account\n"
   ]
  },
  {
   "cell_type": "raw",
   "metadata": {},
   "source": [
    "---\n",
    "output-file: account_class.html\n",
    "---\n",
    "\n"
   ]
  },
  {
   "cell_type": "code",
   "execution_count": 16,
   "metadata": {},
   "outputs": [],
   "source": [
    "# | default_exp classes.DomoAccount"
   ]
  },
  {
   "cell_type": "code",
   "execution_count": 17,
   "metadata": {},
   "outputs": [],
   "source": [
    "# | export\n",
    "\n",
    "from enum import Enum\n",
    "from dataclasses import dataclass, field\n",
    "from abc import ABC, abstractclassmethod, abstractmethod\n",
    "\n",
    "import datetime as dt\n",
    "import re\n",
    "\n",
    "\n",
    "import aiohttp\n",
    "\n",
    "from fastcore.basics import patch_to\n",
    "\n",
    "import domolibrary.utils.convert as cd\n",
    "import domolibrary.utils.DictDot as util_dd\n",
    "import domolibrary.client.DomoAuth as dmda\n",
    "import domolibrary.routes.account as account_routes"
   ]
  },
  {
   "attachments": {},
   "cell_type": "markdown",
   "metadata": {},
   "source": [
    "# Account Connector Config\n",
    "\n",
    "Each Domo Dataset that pulls data into Vault must have a stream, which stores the configuration information related to which data is exctracted from a datasource. Each stream has an associated account which stores the source data's authentication information.\n",
    "\n",
    "Because each datasource may have different authentication parameters, there may be multiple versions of the same account type (with different credentials) or multiple account types deployed within a domo instance if the user is extracting data from multiple systems.\n",
    "\n",
    "Account's can be configured such that certain fields are designated as encrypted fields, and the user will never be able to see the encrypted values EXCEPT in Domo's Jupyter Notebook integration.\n"
   ]
  },
  {
   "cell_type": "code",
   "execution_count": 18,
   "metadata": {},
   "outputs": [],
   "source": [
    "class DomoAccount_Config(ABC):\n",
    "    \"\"\"DomoAccount Config abstract base class\"\"\"\n",
    "\n",
    "    @abstractclassmethod\n",
    "    def _from_json(cls, obj):\n",
    "        \"\"\"convert accounts API response into a class object\"\"\"\n",
    "        pass\n",
    "\n",
    "    @abstractmethod\n",
    "    def to_json(self):\n",
    "        \"\"\"convert class object into a format the accounts API expects\"\"\"\n",
    "        pass"
   ]
  },
  {
   "cell_type": "code",
   "execution_count": 19,
   "metadata": {},
   "outputs": [],
   "source": [
    "# | export\n",
    "@dataclass\n",
    "class DomoAccount_Config_AbstractCredential(DomoAccount_Config):\n",
    "    credentials: dict\n",
    "\n",
    "    def __post_init_(self):\n",
    "        super().__init__(self)\n",
    "\n",
    "    @classmethod\n",
    "    def _from_json(cls, obj):\n",
    "\n",
    "        dd = util_dd.DictDot(obj)\n",
    "\n",
    "        return cls(\n",
    "            credentials=dd.credentials,\n",
    "        )\n",
    "\n",
    "    def to_json(self):\n",
    "        return {\"credentials\": self.credentials}"
   ]
  },
  {
   "cell_type": "code",
   "execution_count": 20,
   "metadata": {},
   "outputs": [],
   "source": [
    "# | export\n",
    "@dataclass\n",
    "class DomoAccount_Config_DatasetCopy(DomoAccount_Config):\n",
    "    domo_instance: str\n",
    "    access_token: str = field(repr=False)\n",
    "    \n",
    "\n",
    "    def __post_init_(self):\n",
    "        super().__init__(self)\n",
    "\n",
    "    @classmethod\n",
    "    def _from_json(cls, obj):\n",
    "\n",
    "        dd = util_dd.DictDot(obj)\n",
    "\n",
    "        return cls(\n",
    "            access_token=dd.accessToken,\n",
    "            domo_instance=dd.instance\n",
    "        )\n",
    "\n",
    "    def to_json(self):\n",
    "        return {\"accessToken\": self.access_token,\n",
    "                \"instance\": self.domo_instance\n",
    "                }\n"
   ]
  },
  {
   "cell_type": "code",
   "execution_count": 21,
   "metadata": {},
   "outputs": [],
   "source": [
    "# | export\n",
    "@dataclass\n",
    "class DomoAccount_Config_Governance(DomoAccount_Config):\n",
    "    domo_instance: str\n",
    "    access_token: str = field(repr=False)\n",
    "\n",
    "    def __post_init_(self):\n",
    "        super().__init__(self)\n",
    "\n",
    "    @classmethod\n",
    "    def _from_json(cls, obj):\n",
    "\n",
    "        dd = util_dd.DictDot(obj)\n",
    "\n",
    "        return cls(\n",
    "            access_token=dd.apikey,\n",
    "            domo_instance=dd.customer\n",
    "        )\n",
    "\n",
    "    def to_json(self):\n",
    "        return {\"apikey\": self.access_token,\n",
    "                \"customer\": self.domo_instance\n",
    "                }\n"
   ]
  },
  {
   "cell_type": "code",
   "execution_count": 22,
   "metadata": {},
   "outputs": [],
   "source": [
    "# | export\n",
    "@dataclass\n",
    "class DomoAccount_Config_HighBandwidthConnector(DomoAccount_Config):\n",
    "    aws_access_key: str\n",
    "    aws_secret_key: str = field(repr=False)\n",
    "    s3_staging_dir: str\n",
    "    region: str = \"us-west-2\"\n",
    "    data_provider_type = \"amazon-athena-high-bandwidth\"\n",
    "\n",
    "    def __post_init_(self):\n",
    "        super().__init__(self)\n",
    "\n",
    "    @classmethod\n",
    "    def _from_json(cls, obj):\n",
    "\n",
    "        dd = util_dd.DictDot(obj)\n",
    "\n",
    "        return cls(\n",
    "            aws_access_key=dd.awsAccessKey,\n",
    "            aws_secret_key=dd.awsSecretKey,\n",
    "            s3_staging_dir=dd.s3StagingDir,\n",
    "            region=dd.region,\n",
    "        )\n",
    "\n",
    "    def to_json(self):\n",
    "        return {\n",
    "            \"awsAccessKey\": self.aws_access_key,\n",
    "            \"awsSecretKey\": self.aws_secret_key,\n",
    "            \"s3StagingDir\": self.s3_staging_dir,\n",
    "            \"region\": self.region,\n",
    "        }"
   ]
  },
  {
   "cell_type": "code",
   "execution_count": 23,
   "metadata": {},
   "outputs": [],
   "source": [
    "# | export\n",
    "class AccountConfig(Enum):\n",
    "    \"\"\"\n",
    "    Enum provides appropriate spelling for data_provider_type and config object.  \n",
    "    The name of the enum should correspond with the data_provider_type with hyphens replaced with underscores.\n",
    "    \"\"\"\n",
    "\n",
    "    amazon_athena_high_bandwidth = DomoAccount_Config_HighBandwidthConnector\n",
    "\n",
    "    abstract_credential_store = DomoAccount_Config_AbstractCredential\n",
    "\n",
    "    dataset_copy = DomoAccount_Config_DatasetCopy\n",
    "\n",
    "    domo_governance_d14c2fef_49a8_4898_8ddd_f64998005600 = DomoAccount_Config_Governance\n"
   ]
  },
  {
   "cell_type": "code",
   "execution_count": 24,
   "metadata": {},
   "outputs": [],
   "source": [
    "# | export\n",
    "@dataclass\n",
    "class DomoAccount:\n",
    "    name: str\n",
    "    data_provider_type: str\n",
    "\n",
    "    id: int = None\n",
    "    created_dt: dt.datetime = None\n",
    "    modified_dt: dt.datetime = None\n",
    "    auth: dmda.DomoAuth = field(repr=False, default=None)\n",
    "\n",
    "    config: DomoAccount_Config = None\n",
    "\n",
    "    @classmethod\n",
    "    def _from_json(cls, obj: dict, auth: dmda.DomoAuth = None):\n",
    "        \"\"\"converts data_v1_accounts API response into an accounts class object\"\"\"\n",
    "\n",
    "        dd = util_dd.DictDot(obj)\n",
    "\n",
    "        return cls(\n",
    "            id=dd.id,\n",
    "            name=dd.displayName,\n",
    "            data_provider_type=dd.dataProviderType,\n",
    "            created_dt=cd.convert_epoch_millisecond_to_datetime(dd.createdAt),\n",
    "            modified_dt=cd.convert_epoch_millisecond_to_datetime(dd.modifiedAt),\n",
    "            auth=auth,\n",
    "        )\n",
    "    \n",
    "    async def _get_config(self, session = None, debug_api : bool = None, return_raw: bool = False):\n",
    "    \n",
    "        res_config = await account_routes.get_account_config(\n",
    "            auth=self.auth,\n",
    "            account_id=self.id,\n",
    "            data_provider_type=self.data_provider_type,\n",
    "            session=session,\n",
    "            debug_api=debug_api\n",
    "        )\n",
    "\n",
    "        if return_raw:\n",
    "            return res_config\n",
    "\n",
    "        enum_clean = re.sub(\"-\", \"_\", self.data_provider_type)\n",
    "\n",
    "        if not enum_clean in AccountConfig.__members__:\n",
    "            return None\n",
    "\n",
    "        self.config = (\n",
    "            AccountConfig[enum_clean].value._from_json(res_config.response)\n",
    "        )\n",
    "\n",
    "        return self.config\n"
   ]
  },
  {
   "cell_type": "code",
   "execution_count": 25,
   "metadata": {},
   "outputs": [],
   "source": [
    "@patch_to(DomoAccount, cls_method=True)\n",
    "async def get_from_id(\n",
    "    cls,\n",
    "    auth: dmda.DomoAuth,\n",
    "    account_id: int,\n",
    "    session: aiohttp.ClientSession = None,\n",
    "    return_raw: bool = False,\n",
    "    debug_api: bool = False\n",
    "):\n",
    "\n",
    "    res = await account_routes.get_account_from_id(\n",
    "        auth=auth, account_id=account_id, session=session, debug_api = debug_api\n",
    "    )\n",
    "    if return_raw:\n",
    "        return res\n",
    "\n",
    "    if not res.is_success:\n",
    "        return None\n",
    "\n",
    "    obj = res.response\n",
    "    acc = cls._from_json(obj, auth)\n",
    "\n",
    "    await acc._get_config(session = session, debug_api = debug_api)\n",
    "\n",
    "    return acc"
   ]
  },
  {
   "attachments": {},
   "cell_type": "markdown",
   "metadata": {},
   "source": [
    "#### sample implementation of get_from_id\n"
   ]
  },
  {
   "cell_type": "code",
   "execution_count": 26,
   "metadata": {},
   "outputs": [
    {
     "data": {
      "text/plain": [
       "DomoAccount(name='test_rename_using_classmethod', data_provider_type='domo-governance-d14c2fef-49a8-4898-8ddd-f64998005600', id=5, created_dt=datetime.datetime(2021, 3, 26, 16, 54, 41), modified_dt=datetime.datetime(2023, 1, 4, 22, 53, 30), config=DomoAccount_Config_Governance(domo_instance='domo-dojo'))"
      ]
     },
     "execution_count": 26,
     "metadata": {},
     "output_type": "execute_result"
    }
   ],
   "source": [
    "import os\n",
    "\n",
    "token_auth = dmda.DomoTokenAuth(\n",
    "    domo_instance=\"domo-dojo\", domo_access_token=os.environ[\"DOMO_DOJO_ACCESS_TOKEN\"]\n",
    ")\n",
    "\n",
    "await DomoAccount.get_from_id(auth=token_auth, account_id=5, return_raw=False)"
   ]
  },
  {
   "cell_type": "code",
   "execution_count": 34,
   "metadata": {},
   "outputs": [],
   "source": [
    "@patch_to(DomoAccount)\n",
    "async def update_config(self: DomoAccount,\n",
    "                        auth: dmda.DomoAuth = None,\n",
    "                        debug_api: bool = False,\n",
    "                        config : DomoAccount_Config = None,\n",
    "                        session: aiohttp.ClientSession = None, return_raw: bool = False):\n",
    "\n",
    "    auth = auth or self.auth\n",
    "\n",
    "    config = config or self.config\n",
    "\n",
    "    res = await account_routes.update_account_config(auth=auth,\n",
    "                                                     account_id=self.id,\n",
    "                                                     data_provider_type=self.data_provider_type,\n",
    "                                                     config_body=config.to_json(),\n",
    "                                                     debug_api=debug_api, session=session)\n",
    "\n",
    "    if return_raw:\n",
    "        return res\n",
    "\n",
    "    await self._get_config(session=session, debug_api=debug_api)\n",
    "\n",
    "    return self\n"
   ]
  },
  {
   "attachments": {},
   "cell_type": "markdown",
   "metadata": {},
   "source": [
    "#### Sample implementation of update_config"
   ]
  },
  {
   "cell_type": "code",
   "execution_count": 41,
   "metadata": {},
   "outputs": [
    {
     "data": {
      "text/plain": [
       "DomoAccount(name='test_rename_using_classmethod', data_provider_type='domo-governance-d14c2fef-49a8-4898-8ddd-f64998005600', id=5, created_dt=datetime.datetime(2021, 3, 26, 16, 54, 41), modified_dt=datetime.datetime(2023, 1, 4, 22, 53, 30), config=DomoAccount_Config_Governance(domo_instance='domo-dojo'))"
      ]
     },
     "execution_count": 41,
     "metadata": {},
     "output_type": "execute_result"
    }
   ],
   "source": [
    "import os\n",
    "\n",
    "token_auth = dmda.DomoTokenAuth(\n",
    "    domo_instance=\"domo-dojo\", domo_access_token=os.environ[\"DOMO_DOJO_ACCESS_TOKEN\"]\n",
    ")\n",
    "\n",
    "domo_instance = 'domo-dojo'\n",
    "access_token = os.environ['DOMO_DOJO_ACCESS_TOKEN']\n",
    "\n",
    "# creates a DomoAccount object\n",
    "domo_account = await DomoAccount.get_from_id(auth=token_auth, account_id=5)\n",
    "\n",
    "\n",
    "# update domo Account API without passing explicit config object\n",
    "# adjust configuration information for that object\n",
    "domo_account.config.domo_instance = 'domo-dojo'\n",
    "domo_account.config.access_token = os.environ['DOMO_DOJO_ACCESS_TOKEN']\n",
    "await domo_account.update_config()\n",
    "\n",
    "# update domo Account API by passing new config object\n",
    "config = AccountConfig.domo_governance_d14c2fef_49a8_4898_8ddd_f64998005600.value(domo_instance=domo_instance,\n",
    "                                                                                  access_token=access_token)\n",
    "await domo_account.update_config(config = config)\n"
   ]
  },
  {
   "cell_type": "code",
   "execution_count": 45,
   "metadata": {},
   "outputs": [],
   "source": [
    "class DomoAccount_UpdateName_Error(Exception):\n",
    "    pass\n",
    "\n",
    "@patch_to(DomoAccount)\n",
    "async def update_name(self: DomoAccount,\n",
    "                      account_name: str = None,\n",
    "                      auth: dmda.DomoAuth = None,\n",
    "                      debug_api: bool = False,\n",
    "                      session: aiohttp.ClientSession = None,\n",
    "                      return_raw: bool = False):\n",
    "\n",
    "    auth = auth or self.auth\n",
    "\n",
    "    # print(auth, self.id, self.data_provider_type, self.config.to_json())\n",
    "\n",
    "    res = await account_routes.update_account_name(auth=auth,\n",
    "                                                   account_id=self.id,\n",
    "                                                   account_name=account_name or self.name,\n",
    "                                                   debug_api=debug_api,\n",
    "                                                   session=session)\n",
    "\n",
    "    if return_raw:\n",
    "        return res\n",
    "\n",
    "    if not res.is_success:\n",
    "        raise DomoAccount_UpdateName_Error()\n",
    "    \n",
    "    self = await self.get_from_id(auth=auth, account_id=self.id)\n",
    "    \n",
    "    return self\n"
   ]
  },
  {
   "attachments": {},
   "cell_type": "markdown",
   "metadata": {},
   "source": [
    "#### sample implementation of update_name"
   ]
  },
  {
   "cell_type": "code",
   "execution_count": 48,
   "metadata": {},
   "outputs": [
    {
     "data": {
      "text/plain": [
       "ResponseGetData(status=200, response={'id': 5, 'userId': 1893952720, 'name': 'Domo Governance Datasets Third Party Account', 'displayName': 'test_rename_using_method', 'type': 'data', 'valid': True, 'dataProviderType': 'domo-governance-d14c2fef-49a8-4898-8ddd-f64998005600', 'credentialsType': 'fields', 'createdAt': 1616777681000, 'createdBy': 1893952720, 'modifiedAt': 1674525525000, 'modifiedBy': 1893952720, 'configurations': {'apikey': '{encrypted}NjcyMzdmMGQtZjBhMy00NjJhLTllZGItMzM2ZjE0MDkxMjFkynNPd1fe6uzpUgZQRWLDbLeG+r5DAaZfvVQWSPTEQAoWxuj5P8nCUpsH4+NyniuGtaV95aHvB9E+DzbP2UUhuDjjiPVIWTDpUv3ww++vNXY=', 'customer': '{encrypted}OTQzM2IzMDMtYTMyMy00OTE2LThlNGQtNzJiZjJlNzZiMDhh0RJg3wKTrKSMH22WaRbUw92pVMKS3WqaI1FcJBdz1j4='}, 'accountTemplateId': None, 'accountTemplateAuthorizationId': None, 'accountId': 5}, is_success=True)"
      ]
     },
     "execution_count": 48,
     "metadata": {},
     "output_type": "execute_result"
    }
   ],
   "source": [
    "import os\n",
    "\n",
    "token_auth = dmda.DomoTokenAuth(\n",
    "    domo_instance=\"domo-dojo\", domo_access_token=os.environ[\"DOMO_DOJO_ACCESS_TOKEN\"]\n",
    ")\n",
    "\n",
    "# creates a DomoAccount object\n",
    "domo_account = await DomoAccount.get_from_id(auth=token_auth, account_id=5)\n",
    "\n",
    "account_name = 'test_rename_using_method'\n",
    "\n",
    "# update domo Account API without passing explicit config object\n",
    "# adjust configuration information for that object\n",
    "domo_account.name = account_name\n",
    "await domo_account.update_name()\n",
    "\n",
    "# update domo Account API by passing account_name str\n",
    "await domo_account.update_name(account_name= account_name, return_raw=True)\n"
   ]
  },
  {
   "cell_type": "code",
   "execution_count": 30,
   "metadata": {},
   "outputs": [],
   "source": [
    "\n",
    "\n",
    "# def config_to_json(self):\n",
    "#     obj = {'displayName': self.name,\n",
    "#            'dataProviderType': self.data_provider_type,\n",
    "#            'name': self.data_provider_type,\n",
    "#            'configurations': self.config.to_json()}\n",
    "\n",
    "#     return obj\n",
    "\n",
    "# async def create_account(self,\n",
    "#                          auth: dmda.DomoFullAuth = None,\n",
    "#                          #  config_body: dict,\n",
    "#                          debug: bool = False, log_results: bool = False, session: aiohttp.ClientSession = None):\n",
    "#     auth = auth or self.auth\n",
    "\n",
    "#     res = await account_routes.create_account(auth=auth,\n",
    "#                                               config_body=self.config_to_json(),\n",
    "#                                               debug=debug, log_results=log_results, session=session)\n",
    "\n",
    "#     if debug:\n",
    "#         print(res)\n",
    "\n",
    "#     if res.status != 200:\n",
    "#         return False\n",
    "\n",
    "#     obj = res.response\n",
    "#     acc = await self.get_from_id(auth=auth, account_id=obj.get('id'))\n",
    "#     acc.status = res.status\n",
    "#     acc.is_success = res.is_success\n",
    "#     return acc\n",
    "\n",
    "# async def delete_account(self,\n",
    "#                          auth: dmda.DomoFullAuth = None,\n",
    "#                          #  config_body: dict,\n",
    "#                          debug: bool = False, log_results: bool = False, session: aiohttp.ClientSession = None):\n",
    "#     auth = auth or self.auth\n",
    "\n",
    "#     res = await account_routes.delete_account(auth=auth,\n",
    "#                                               account_id = self.id,\n",
    "#                                               debug=debug, log_results=log_results, session=session)\n",
    "\n",
    "#     if debug:\n",
    "#         print(res)\n",
    "\n",
    "#     if res.status != 200:\n",
    "#         return False\n",
    "\n",
    "#     return True"
   ]
  }
 ],
 "metadata": {
  "jupytext": {
   "split_at_heading": true
  },
  "kernelspec": {
   "display_name": "Python 3",
   "language": "python",
   "name": "python3"
  },
  "language_info": {
   "codemirror_mode": {
    "name": "ipython",
    "version": 3
   },
   "file_extension": ".py",
   "mimetype": "text/x-python",
   "name": "python",
   "nbconvert_exporter": "python",
   "pygments_lexer": "ipython3",
   "version": "3.10.4"
  },
  "vscode": {
   "interpreter": {
    "hash": "3ad933181bd8a04b432d3370b9dc3b0662ad032c4dfaa4e4f1596c548f763858"
   }
  }
 },
 "nbformat": 4,
 "nbformat_minor": 4
}
