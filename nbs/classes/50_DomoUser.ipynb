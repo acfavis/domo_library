{
 "cells": [
  {
   "attachments": {},
   "cell_type": "markdown",
   "metadata": {},
   "source": [
    "# User\n",
    "\n",
    "> a class-based approach to interacting with Users\n"
   ]
  },
  {
   "cell_type": "raw",
   "metadata": {},
   "source": [
    "---\n",
    "output-file: user_class.html\n",
    "---"
   ]
  },
  {
   "cell_type": "code",
   "execution_count": null,
   "metadata": {},
   "outputs": [],
   "source": [
    "# | default_exp classes.DomoUser\n"
   ]
  },
  {
   "cell_type": "code",
   "execution_count": null,
   "metadata": {},
   "outputs": [],
   "source": [
    "# | export\n",
    "from fastcore.basics import patch_to"
   ]
  },
  {
   "cell_type": "code",
   "execution_count": null,
   "metadata": {},
   "outputs": [],
   "source": [
    "# | exporti\n",
    "from dataclasses import dataclass, field\n",
    "from typing import Optional\n",
    "import httpx\n",
    "\n",
    "import domolibrary.utils.DictDot as util_dd\n",
    "import domolibrary.client.DomoAuth as dmda\n",
    "import domolibrary.client.Logger as lc\n",
    "import domolibrary.routes.user as user_routes\n"
   ]
  },
  {
   "attachments": {},
   "cell_type": "markdown",
   "metadata": {},
   "source": [
    "# MAIN -- Domo User\n"
   ]
  },
  {
   "cell_type": "code",
   "execution_count": null,
   "metadata": {},
   "outputs": [],
   "source": [
    "# | export\n",
    "@dataclass\n",
    "class DomoUser:\n",
    "    \"\"\"a class for interacting with a Domo User\"\"\"\n",
    "\n",
    "    id: str\n",
    "    display_name: str = None\n",
    "    email_address: str = None\n",
    "    role_id: str = None\n",
    "\n",
    "    publisher_domain: str = None\n",
    "    subscriber_domain: str = None\n",
    "    virtual_user_id: str = None\n",
    "\n",
    "    auth: Optional[dmda.DomoAuth] = field(repr=False, default=None)\n",
    "\n",
    "    @classmethod\n",
    "    def _from_search_json(cls, auth, user_obj):\n",
    "        user_dd = util_dd.DictDot(user_obj)\n",
    "\n",
    "        return cls(\n",
    "            auth=auth,\n",
    "            id=str(user_dd.id) or str(user_dd.userId),\n",
    "            display_name=user_dd.displayName,\n",
    "            email_address=user_dd.emailAddress,\n",
    "            role_id=user_dd.roleId,\n",
    "        )\n",
    "\n",
    "    @classmethod\n",
    "    def _from_virtual_json(cls, auth, user_obj):\n",
    "        user_dd = util_dd.DictDot(user_obj)\n",
    "\n",
    "        return cls(\n",
    "            id=user_dd.id,\n",
    "            auth=auth,\n",
    "            publisher_domain=user_dd.publisherDomain,\n",
    "            subscriber_domain=user_dd.subscriberDomain,\n",
    "            virtual_user_id=user_dd.virtualUserId,\n",
    "        )\n",
    "\n",
    "    @classmethod\n",
    "    def _from_bootstrap_json(cls, auth, user_obj):\n",
    "\n",
    "        dd = user_obj\n",
    "        if isinstance( user_obj, dict):\n",
    "            dd = util_dd.DictDot(user_obj)\n",
    "\n",
    "\n",
    "        return cls(\n",
    "            id = dd.id,\n",
    "            display_name = dd.displayName,\n",
    "            auth = auth\n",
    "        )"
   ]
  },
  {
   "cell_type": "code",
   "execution_count": null,
   "metadata": {},
   "outputs": [
    {
     "data": {
      "text/plain": [
       "DomoUser(id=1345408759, display_name='Alexis Lorenz (DataMaven)', email_address=None, role_id=None, publisher_domain=None, subscriber_domain=None, virtual_user_id=None)"
      ]
     },
     "execution_count": null,
     "metadata": {},
     "output_type": "execute_result"
    }
   ],
   "source": [
    "import os\n",
    "import domolibrary.routes.bootstrap as bootstrap_routes\n",
    "\n",
    "auth = dmda.DomoFullAuth(\n",
    "    domo_instance='domo-dojo', domo_password=os.environ['DOJO_PASSWORD'], domo_username='jae@onyxreporting.com')\n",
    "\n",
    "res = await bootstrap_routes.get_bootstrap_pages(auth=auth)\n",
    "\n",
    "page_obj = res.response[10]\n",
    "owners_ls = page_obj.get('owners')\n",
    "\n",
    "DomoUser._from_bootstrap_json(auth = auth , user_obj = owners_ls[0])"
   ]
  },
  {
   "cell_type": "code",
   "execution_count": null,
   "metadata": {},
   "outputs": [],
   "source": [
    "# | export\n",
    "@patch_to(DomoUser)\n",
    "async def reset_password(self: DomoUser,\n",
    "                         new_password: str,\n",
    "                         debug_api: bool = False):\n",
    "    \"\"\"reset your password, will respect password restrictions set up in the Domo UI\"\"\"\n",
    "\n",
    "    res = await user_routes.reset_password(\n",
    "        auth=self.auth, user_id=self.id, new_password=new_password, debug_api=debug_api\n",
    "    )\n",
    "\n",
    "    return res\n"
   ]
  },
  {
   "cell_type": "code",
   "execution_count": null,
   "metadata": {},
   "outputs": [],
   "source": [
    "# | export\n",
    "@patch_to(DomoUser, cls_method=True)\n",
    "async def request_password_reset(\n",
    "    cls, domo_instance: str, email: str, locale: str = \"en-us\", \n",
    "    debug_api: bool = False,\n",
    "    session : httpx.AsyncClient = None\n",
    "\n",
    "):\n",
    "    \"\"\"request password reset email.  Note: does not require authentication.\"\"\"\n",
    "\n",
    "    return await user_routes.request_password_reset(\n",
    "        domo_instance=domo_instance, email=email, locale=locale, debug_api=debug_api, session = session\n",
    "    )"
   ]
  },
  {
   "cell_type": "code",
   "execution_count": null,
   "metadata": {},
   "outputs": [],
   "source": [
    "# | export\n",
    "@patch_to(DomoUser, cls_method=True)\n",
    "async def create_user(\n",
    "    cls: DomoUser,\n",
    "    auth: dmda.DomoAuth,\n",
    "    display_name,\n",
    "    email,\n",
    "    role_id,\n",
    "    password: str = None,\n",
    "    send_password_reset_email: bool = False,\n",
    "    debug_api: bool = False,\n",
    "    \n",
    "):\n",
    "    \"\"\"class method that creates a new Domo user\"\"\"\n",
    "\n",
    "    res = await user_routes.create_user(\n",
    "        auth=auth,\n",
    "        display_name=display_name,\n",
    "        email=email,\n",
    "        role_id=role_id,\n",
    "        debug_api=debug_api,\n",
    "    )\n",
    "\n",
    "    if res.status != 200:\n",
    "        return None\n",
    "\n",
    "    dd = util_dd.DictDot(res.response)\n",
    "    u = cls(\n",
    "        domo_instance=auth.domo_instance,\n",
    "        auth=auth,\n",
    "        id=dd.id or dd.userId,\n",
    "        display_name=dd.displayName,\n",
    "        email_address=dd.emailAddress,\n",
    "    )\n",
    "\n",
    "    if password:\n",
    "        await u.reset_password(new_password=password)\n",
    "\n",
    "    if send_password_reset_email:\n",
    "        await u.request_password_reset(\n",
    "            domo_instance=auth.domo_instance, email=u.email_address\n",
    "        )\n",
    "\n",
    "    return u\n",
    "\n",
    "\n",
    "@patch_to(DomoUser)\n",
    "async def set_user_landing_page(\n",
    "    self: DomoUser,\n",
    "    page_id: str,\n",
    "    user_id: str = None,\n",
    "    auth: dmda.DomoAuth = None,\n",
    "    debug_api: bool = False,\n",
    "):\n",
    "\n",
    "    res = await user_routes.set_user_landing_page(\n",
    "        auth=auth or self.auth,\n",
    "        page_id=page_id,\n",
    "        user_id=self.id or user_id,\n",
    "        debug_api=debug_api,\n",
    "    )\n",
    "\n",
    "    if res.status != 200:\n",
    "        return False\n",
    "\n",
    "    return True"
   ]
  },
  {
   "attachments": {},
   "cell_type": "markdown",
   "metadata": {},
   "source": [
    "# MAIN -- DomoUsers\n",
    "\n",
    "> a class for searching Domo Users\n"
   ]
  },
  {
   "cell_type": "code",
   "execution_count": null,
   "metadata": {},
   "outputs": [],
   "source": [
    "# | export\n",
    "\n",
    "@dataclass\n",
    "class DomoUsers:\n",
    "    \"\"\"a class for searching for Users\"\"\"\n",
    "\n",
    "    logger: Optional[lc.Logger] = None\n",
    "\n",
    "    @classmethod\n",
    "    def _users_to_domo_user(cls, user_ls, auth: dmda.DomoAuth):\n",
    "        return [\n",
    "            DomoUser._from_search_json(auth=auth, user_obj=user_obj)\n",
    "            for user_obj in user_ls\n",
    "        ]\n",
    "\n",
    "    @classmethod\n",
    "    def _users_to_virtual_user(cls, user_ls, auth: dmda.DomoAuth):\n",
    "        return [\n",
    "            DomoUser._from_virtual_json(auth=auth, user_obj=user_obj)\n",
    "            for user_obj in user_ls\n",
    "        ]\n",
    "\n",
    "    def _generate_logger(self, logger: Optional[lc.Logger] = None):\n",
    "        self.logger = logger or self.logger or lc.loger()"
   ]
  },
  {
   "cell_type": "code",
   "execution_count": null,
   "metadata": {},
   "outputs": [],
   "source": [
    "# | export\n",
    "@patch_to(DomoUsers, cls_method=True)\n",
    "async def all_users(\n",
    "    cls: DomoUsers,\n",
    "    auth: dmda.DomoAuth,\n",
    "    debug_api: bool = False,\n",
    "    debug_prn: bool = False,\n",
    "    debug_log: bool = False,\n",
    "    logger: Optional[lc.Logger] = None,\n",
    ") -> [DomoUser]:\n",
    "    \"\"\"retrieves all users from Domo\"\"\"\n",
    "\n",
    "    logger = logger or lc.Logger(app_name=\"all_users\")\n",
    "\n",
    "    res = await user_routes.get_all_users(auth=auth, debug_api=debug_api)\n",
    "\n",
    "    if not res.is_success:\n",
    "        return None\n",
    "\n",
    "    users_ls = res.response\n",
    "\n",
    "    message = f\"{len(users_ls)} users retrieved from {auth.domo_instance}\"\n",
    "\n",
    "    if debug_prn:\n",
    "        print(message)\n",
    "    logger.log_info(message=message, debug_log=debug_log)\n",
    "\n",
    "    return cls._users_to_domo_user(user_ls=users_ls, auth=auth)"
   ]
  },
  {
   "attachments": {},
   "cell_type": "markdown",
   "metadata": {},
   "source": [
    "#### sample implementation of get all_users\n"
   ]
  },
  {
   "cell_type": "code",
   "execution_count": null,
   "metadata": {},
   "outputs": [
    {
     "data": {
      "text/html": [
       "<div>\n",
       "<style scoped>\n",
       "    .dataframe tbody tr th:only-of-type {\n",
       "        vertical-align: middle;\n",
       "    }\n",
       "\n",
       "    .dataframe tbody tr th {\n",
       "        vertical-align: top;\n",
       "    }\n",
       "\n",
       "    .dataframe thead th {\n",
       "        text-align: right;\n",
       "    }\n",
       "</style>\n",
       "<table border=\"1\" class=\"dataframe\">\n",
       "  <thead>\n",
       "    <tr style=\"text-align: right;\">\n",
       "      <th></th>\n",
       "      <th>id</th>\n",
       "      <th>display_name</th>\n",
       "      <th>email_address</th>\n",
       "      <th>role_id</th>\n",
       "      <th>publisher_domain</th>\n",
       "      <th>subscriber_domain</th>\n",
       "      <th>virtual_user_id</th>\n",
       "      <th>auth</th>\n",
       "    </tr>\n",
       "  </thead>\n",
       "  <tbody>\n",
       "    <tr>\n",
       "      <th>0</th>\n",
       "      <td>0</td>\n",
       "      <td>monitor</td>\n",
       "      <td>monitor@domo.com</td>\n",
       "      <td>1</td>\n",
       "      <td>None</td>\n",
       "      <td>None</td>\n",
       "      <td>None</td>\n",
       "      <td>{'domo_instance': 'domo-dojo', 'domo_access_to...</td>\n",
       "    </tr>\n",
       "    <tr>\n",
       "      <th>1</th>\n",
       "      <td>1006847540</td>\n",
       "      <td>Marc-Anton Clavel</td>\n",
       "      <td>marcanton.clavel@domo.com</td>\n",
       "      <td>2</td>\n",
       "      <td>None</td>\n",
       "      <td>None</td>\n",
       "      <td>None</td>\n",
       "      <td>{'domo_instance': 'domo-dojo', 'domo_access_to...</td>\n",
       "    </tr>\n",
       "    <tr>\n",
       "      <th>2</th>\n",
       "      <td>1012895591</td>\n",
       "      <td>JeMiller</td>\n",
       "      <td>JeMiller@marketaxess.com</td>\n",
       "      <td>2097317660</td>\n",
       "      <td>None</td>\n",
       "      <td>None</td>\n",
       "      <td>None</td>\n",
       "      <td>{'domo_instance': 'domo-dojo', 'domo_access_to...</td>\n",
       "    </tr>\n",
       "  </tbody>\n",
       "</table>\n",
       "</div>"
      ],
      "text/plain": [
       "           id       display_name              email_address     role_id  \\\n",
       "0           0            monitor           monitor@domo.com           1   \n",
       "1  1006847540  Marc-Anton Clavel  marcanton.clavel@domo.com           2   \n",
       "2  1012895591           JeMiller   JeMiller@marketaxess.com  2097317660   \n",
       "\n",
       "  publisher_domain subscriber_domain virtual_user_id  \\\n",
       "0             None              None            None   \n",
       "1             None              None            None   \n",
       "2             None              None            None   \n",
       "\n",
       "                                                auth  \n",
       "0  {'domo_instance': 'domo-dojo', 'domo_access_to...  \n",
       "1  {'domo_instance': 'domo-dojo', 'domo_access_to...  \n",
       "2  {'domo_instance': 'domo-dojo', 'domo_access_to...  "
      ]
     },
     "execution_count": null,
     "metadata": {},
     "output_type": "execute_result"
    }
   ],
   "source": [
    "import os\n",
    "import pandas as pd\n",
    "\n",
    "token_auth = dmda.DomoTokenAuth(\n",
    "    domo_instance=\"domo-dojo\", domo_access_token=os.environ[\"DOMO_DOJO_ACCESS_TOKEN\"]\n",
    ")\n",
    "\n",
    "domo_users = await DomoUsers.all_users(\n",
    "    auth=token_auth, debug_api=False, debug_prn=False\n",
    ")\n",
    "\n",
    "pd.DataFrame(domo_users[0:3])"
   ]
  },
  {
   "cell_type": "code",
   "execution_count": null,
   "metadata": {},
   "outputs": [],
   "source": [
    "# | export\n",
    "@patch_to(DomoUsers, cls_method=True)\n",
    "async def by_id(\n",
    "    cls: DomoUsers,\n",
    "    user_ids: list[str],  # can search for one or multiple users\n",
    "    auth: dmda.DomoAuth,\n",
    "    only_allow_one: bool = True,\n",
    "    debug_api: bool = False,\n",
    "    return_raw: bool = False,\n",
    ") -> list:\n",
    "\n",
    "    body = user_routes.generate_search_users_body_by_id(user_ids)\n",
    "\n",
    "    res = await user_routes.search_users(\n",
    "        process_users=False,\n",
    "        body=body,\n",
    "        debug_api=debug_api,\n",
    "        auth=auth,\n",
    "    )\n",
    "\n",
    "    if return_raw:\n",
    "        return res\n",
    "\n",
    "    if not res.is_success:\n",
    "        return None\n",
    "\n",
    "    user_ls = res.response.get(\"users\")\n",
    "\n",
    "    domo_users = cls._users_to_domo_user(user_ls=user_ls, auth=auth)\n",
    "\n",
    "    if only_allow_one:\n",
    "        return domo_users[0]\n",
    "\n",
    "    return domo_users"
   ]
  },
  {
   "attachments": {},
   "cell_type": "markdown",
   "metadata": {},
   "source": [
    "#### sample implementation of searching users by_id\n"
   ]
  },
  {
   "cell_type": "code",
   "execution_count": null,
   "metadata": {},
   "outputs": [
    {
     "data": {
      "text/plain": [
       "[DomoUser(id='1012895591', display_name='JeMiller', email_address='JeMiller@marketaxess.com', role_id=2097317660, publisher_domain=None, subscriber_domain=None, virtual_user_id=None),\n",
       " DomoUser(id='1006847540', display_name='Marc-Anton Clavel', email_address='marcanton.clavel@domo.com', role_id=2, publisher_domain=None, subscriber_domain=None, virtual_user_id=None)]"
      ]
     },
     "execution_count": null,
     "metadata": {},
     "output_type": "execute_result"
    }
   ],
   "source": [
    "import os\n",
    "import pandas as pd\n",
    "\n",
    "token_auth = dmda.DomoTokenAuth(\n",
    "    domo_instance=\"domo-dojo\", domo_access_token=os.environ[\"DOMO_DOJO_ACCESS_TOKEN\"]\n",
    ")\n",
    "\n",
    "\n",
    "await DomoUsers.by_id(\n",
    "    auth=token_auth,\n",
    "    user_ids=[\"1006847540\", \"1012895591\"],\n",
    "    only_allow_one=False,\n",
    "    return_raw=False,\n",
    ")"
   ]
  },
  {
   "attachments": {},
   "cell_type": "markdown",
   "metadata": {},
   "source": [
    "## Search by Email\n"
   ]
  },
  {
   "cell_type": "code",
   "execution_count": null,
   "metadata": {},
   "outputs": [],
   "source": [
    "# | export\n",
    "\n",
    "\n",
    "@patch_to(DomoUsers, cls_method=True)\n",
    "def util_match_domo_users_to_emails(\n",
    "    cls: DomoUsers, domo_users: list[DomoUser], user_email_ls: list[str]\n",
    ") -> list:\n",
    "    \"\"\"pass in an array of user emails to match against an array of Domo User\"\"\"\n",
    "\n",
    "    matches = []\n",
    "    for idx, email in enumerate(user_email_ls):\n",
    "        match_user = next(\n",
    "            (\n",
    "                domo_user\n",
    "                for domo_user in domo_users\n",
    "                if email.lower() == domo_user.email_address.lower()\n",
    "            ),\n",
    "            None,\n",
    "        )\n",
    "        if match_user:\n",
    "            matches.append(match_user)\n",
    "    return matches\n",
    "\n",
    "\n",
    "@patch_to(DomoUsers, cls_method=True)\n",
    "def util_match_users_obj_to_emails(\n",
    "    cls: DomoUsers, user_ls: list[dict], user_email_ls: list[str]\n",
    ") -> list:\n",
    "    \"\"\"pass in an array of user emails to match against an array of Domo User\"\"\"\n",
    "\n",
    "    matches = []\n",
    "    for idx, email in enumerate(user_email_ls):\n",
    "        match_user = next(\n",
    "            (\n",
    "                user_obj\n",
    "                for user_obj in user_ls\n",
    "                if email.lower() == user_obj.get(\"emailAddress\").lower()\n",
    "            ),\n",
    "            None,\n",
    "        )\n",
    "        if match_user:\n",
    "            matches.append(match_user)\n",
    "    return matches\n",
    "\n",
    "\n",
    "@patch_to(DomoUsers, cls_method=True)\n",
    "async def by_email(\n",
    "    cls: DomoUsers,\n",
    "    user_email_ls: list,\n",
    "    auth: dmda.DomoAuth,\n",
    "    only_allow_one: bool = True,\n",
    "    debug_api: bool = False,\n",
    "    return_raw: bool = False,\n",
    ") -> list:\n",
    "\n",
    "    body = user_routes.generate_search_users_body_by_email(user_email_ls=user_email_ls)\n",
    "\n",
    "    res = await user_routes.search_users(\n",
    "        body=body, auth=auth, process_users=False, debug_api=debug_api\n",
    "    )\n",
    "\n",
    "    if return_raw:\n",
    "        if only_allow_one:\n",
    "            res.response = cls.util_match_users_obj_to_emails(\n",
    "                res.response.get(\"users\"), user_email_ls\n",
    "            )[0]\n",
    "        return res\n",
    "\n",
    "    if res.status != 200:\n",
    "        return None\n",
    "\n",
    "    user_ls = res.response.get(\"users\")\n",
    "\n",
    "    domo_users = cls._users_to_domo_user(user_ls, auth=auth)\n",
    "\n",
    "    if only_allow_one:\n",
    "        return cls.util_match_domo_users_to_emails(domo_users, user_email_ls)[0]\n",
    "\n",
    "    return domo_users"
   ]
  },
  {
   "attachments": {},
   "cell_type": "markdown",
   "metadata": {},
   "source": [
    "#### sample implementation of searching for a user by email\n"
   ]
  },
  {
   "cell_type": "code",
   "execution_count": null,
   "metadata": {},
   "outputs": [
    {
     "name": "stdout",
     "output_type": "stream",
     "text": [
      "[DomoUser(id='1893952720', display_name='Jae Wilson', email_address='jae@onyxreporting.com', role_id=1, publisher_domain=None, subscriber_domain=None, virtual_user_id=None), DomoUser(id='1006847540', display_name='Marc-Anton Clavel', email_address='marcanton.clavel@domo.com', role_id=2, publisher_domain=None, subscriber_domain=None, virtual_user_id=None)]\n"
     ]
    }
   ],
   "source": [
    "import os\n",
    "import pandas as pd\n",
    "\n",
    "token_auth = dmda.DomoTokenAuth(\n",
    "    domo_instance=\"domo-dojo\", domo_access_token=os.environ[\"DOMO_DOJO_ACCESS_TOKEN\"]\n",
    ")\n",
    "\n",
    "\n",
    "res = await DomoUsers.by_email(\n",
    "    auth=token_auth,\n",
    "    user_email_ls=[\"jae@onyxreporting.com\", \"marcanton.clavel@Domo.com\"],\n",
    "    only_allow_one=False,\n",
    "    return_raw=False,\n",
    "    debug_api=False,\n",
    ")\n",
    "\n",
    "print(res)"
   ]
  },
  {
   "cell_type": "code",
   "execution_count": null,
   "metadata": {},
   "outputs": [],
   "source": [
    "# | export\n",
    "@patch_to(DomoUsers, cls_method=True)\n",
    "async def virtual_user_by_subscriber_instance(\n",
    "    cls: DomoUsers,\n",
    "    subscriber_instance_ls: str,\n",
    "    auth: dmda.DomoAuth,\n",
    "    debug_api: bool = False,\n",
    "    return_raw: bool = False,\n",
    "):\n",
    "    res = await user_routes.search_virtual_user_by_subscriber_instance(\n",
    "        auth=auth,\n",
    "        subscriber_instance_ls=subscriber_instance_ls,\n",
    "        debug_api=debug_api,\n",
    "    )\n",
    "\n",
    "    if return_raw:\n",
    "        return res\n",
    "\n",
    "    if not res.is_success:\n",
    "        return None\n",
    "\n",
    "    user_ls = res.response\n",
    "\n",
    "    domo_users = cls._users_to_virtual_user(user_ls, auth=auth)\n",
    "    return domo_users[0]"
   ]
  },
  {
   "attachments": {},
   "cell_type": "markdown",
   "metadata": {},
   "source": [
    "#### sample implementation of retrieving virtual users for a subscriber instance\n"
   ]
  },
  {
   "cell_type": "code",
   "execution_count": null,
   "metadata": {},
   "outputs": [
    {
     "name": "stdout",
     "output_type": "stream",
     "text": [
      "DomoUser(id='2bcabab7-128e-4f47-8219-c8548588d7fc', display_name=None, email_address=None, role_id=None, publisher_domain='domo-dojo.domo.com', subscriber_domain='domo-dojo.domo.com', virtual_user_id='fc:ce69e5f0-ab88-46df-94ab-32b5f6dfd4e7')\n"
     ]
    }
   ],
   "source": [
    "import os\n",
    "import pandas as pd\n",
    "\n",
    "token_auth = dmda.DomoTokenAuth(\n",
    "    domo_instance=\"domo-dojo\", domo_access_token=os.environ[\"DOMO_DOJO_ACCESS_TOKEN\"]\n",
    ")\n",
    "\n",
    "\n",
    "res = await DomoUsers.virtual_user_by_subscriber_instance(\n",
    "    auth=token_auth,\n",
    "    subscriber_instance_ls=[\"domo-dojo\", \"test\"],\n",
    "    # return_raw=True,\n",
    "    debug_api=False,\n",
    ")\n",
    "print(res)"
   ]
  },
  {
   "cell_type": "code",
   "execution_count": null,
   "metadata": {},
   "outputs": [],
   "source": [
    "# | hide\n",
    "import nbdev\n",
    "\n",
    "nbdev.nbdev_export()\n"
   ]
  }
 ],
 "metadata": {
  "jupytext": {
   "split_at_heading": true
  },
  "kernelspec": {
   "display_name": "Python 3",
   "language": "python",
   "name": "python3"
  }
 },
 "nbformat": 4,
 "nbformat_minor": 4
}
