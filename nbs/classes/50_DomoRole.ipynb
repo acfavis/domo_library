{
  "cells": [
    {
      "cell_type": "raw",
      "metadata": {},
      "source": [
        "---\n",
        "output-file: role_class.html\n",
        "title: Domo Role\n",
        "---\n",
        "\n"
      ]
    },
    {
      "cell_type": "code",
      "execution_count": 12,
      "metadata": {},
      "outputs": [],
      "source": [
        "#| default_exp classes.DomoRole"
      ]
    },
    {
      "cell_type": "code",
      "execution_count": 13,
      "metadata": {},
      "outputs": [],
      "source": [
        "#| exporti\n",
        "from dataclasses import dataclass, field\n",
        "import httpx\n",
        "\n",
        "from fastcore.basics import patch_to\n",
        "\n",
        "import domolibrary.client.DomoAuth as dmda\n",
        "\n",
        "import domolibrary.utils.DictDot as util_dd\n",
        "import domolibrary.client.DomoError as de\n",
        "import domolibrary.routes.role as role_routes\n"
      ]
    },
    {
      "cell_type": "code",
      "execution_count": 14,
      "metadata": {},
      "outputs": [],
      "source": [
        "# | export\n",
        "@dataclass\n",
        "class DomoRole:\n",
        "    auth: dmda.DomoAuth = field(repr = False)\n",
        "\n",
        "    id: str\n",
        "    name: str = None\n",
        "    description: str = None\n",
        "    is_system_role: int = None\n",
        "\n",
        "    grant_ls: list[str] = field(default_factory=list)\n",
        "    membership_ls: list = field(default_factory=list)\n",
        "\n",
        "    def __post_init__(self):\n",
        "        self.is_system_role = 1 if self.id <= 5 else 0\n",
        "\n",
        "    # @classmethod\n",
        "    # def _from_str(cls, id, name, description=None, auth: DomoAuth = None):\n",
        "\n",
        "    #     return cls(id=id,\n",
        "    #             name=name,\n",
        "    #             description=description,\n",
        "    #             auth=auth\n",
        "    #             )\n",
        "\n",
        "    @classmethod\n",
        "    def _from_json(cls, obj, auth=dmda.DomoAuth):\n",
        "\n",
        "        dd = obj\n",
        "        if not isinstance(dd, util_dd.DictDot):\n",
        "            dd = util_dd.DictDot(obj)\n",
        "\n",
        "        return cls(id=dd.id,\n",
        "                   name=dd.name,\n",
        "                   description=dd.description,\n",
        "                   auth=auth\n",
        "                   )\n"
      ]
    },
    {
      "cell_type": "code",
      "execution_count": 15,
      "metadata": {},
      "outputs": [],
      "source": [
        "# | export\n",
        "@patch_to(DomoRole)\n",
        "async def get_role_grants(self: DomoRole,\n",
        "                          auth: dmda.DomoAuth = None,\n",
        "                          role_id: str = None,\n",
        "                          debug_api: bool = False,\n",
        "                          session: httpx.AsyncClient = None,\n",
        "                          return_raw: bool = False\n",
        "                          ):\n",
        "\n",
        "    auth = auth or self.auth\n",
        "    role_id = role_id or self.id\n",
        "    res = await role_routes.get_role_grants(auth=auth,\n",
        "                                            role_id=role_id,\n",
        "                                            debug_api=debug_api,\n",
        "                                            session=session)\n",
        "\n",
        "    if return_raw:\n",
        "        return res\n",
        "        \n",
        "    self.grant_ls = res.response\n",
        "\n",
        "    return self.grant_ls\n"
      ]
    },
    {
      "cell_type": "code",
      "execution_count": 16,
      "metadata": {},
      "outputs": [
        {
          "data": {
            "text/plain": [
              "['versions.deployment.manage',\n",
              " 'buzz.admin',\n",
              " 'dataflow.admin',\n",
              " 'goal.admin',\n",
              " 'dataset.admin',\n",
              " 'workflow.admin',\n",
              " 'profile.achieve.assign',\n",
              " 'datascience.notebooks.admin',\n",
              " 'content.dataapp.edit',\n",
              " 'dataset.export',\n",
              " 'user.invite',\n",
              " 'connector.admin',\n",
              " 'content.card.analyzerview',\n",
              " 'fileshare.create',\n",
              " 'customer.edit',\n",
              " 'content.variable.edit',\n",
              " 'pipeline.executor.job.admin',\n",
              " 'cloud.admin',\n",
              " 'versions.repository.admin',\n",
              " 'codeengine.package.manage',\n",
              " 'appstore.admin',\n",
              " 'datastore.admin',\n",
              " 'certifiedcontent.admin',\n",
              " 'group.admin',\n",
              " 'tasks.admin',\n",
              " 'group.edit',\n",
              " 'app.ddx',\n",
              " 'queue.create',\n",
              " 'domoapps.edit',\n",
              " 'content.export',\n",
              " 'codeengine.package.admin',\n",
              " 'domo.system.messages',\n",
              " 'publish.space.admin',\n",
              " 'authorization.roles',\n",
              " 'dataset.manage',\n",
              " 'goal.distribute',\n",
              " 'appstore.read',\n",
              " 'content.card.embed',\n",
              " 'content.admin',\n",
              " 'user.session.edit',\n",
              " 'cloud.override',\n",
              " 'datastore.create',\n",
              " 'user.edit',\n",
              " 'content.card.edit',\n",
              " 'saasaas.edit',\n",
              " 'developer.token.manage',\n",
              " 'publish.subscribers.manage',\n",
              " 'certifiedcontent.request',\n",
              " 'content.page.edit',\n",
              " 'alert.actions',\n",
              " 'ml.execute',\n",
              " 'audit',\n",
              " 'domoapps.read',\n",
              " 'content.card.narrative.edit',\n",
              " 'approvalcenter.admin',\n",
              " 'datascience.notebooks.create',\n",
              " 'form.admin',\n",
              " 'pipeline.executor.job.create',\n",
              " 'alert.edit',\n",
              " 'fileshare.admin',\n",
              " 'appstore.payments.manage',\n",
              " 'publish.publication.create',\n",
              " 'dataflow.adrenaline',\n",
              " 'workbench.download',\n",
              " 'dataset.account.create',\n",
              " 'usage.reports.view',\n",
              " 'goal.edit',\n",
              " 'versions.repository.create',\n",
              " 'app.admin',\n",
              " 'dataflow.magic',\n",
              " 'dataflow.manage',\n",
              " 'workflow.create',\n",
              " 'form.create',\n",
              " 'queue.admin',\n",
              " 'alert.admin',\n",
              " 'appstore.edit']"
            ]
          },
          "execution_count": 16,
          "metadata": {},
          "output_type": "execute_result"
        }
      ],
      "source": [
        "import os\n",
        "import pandas as pd\n",
        "\n",
        "token_auth = dmda.DomoTokenAuth(\n",
        "    domo_instance=\"domo-dojo\",\n",
        "    domo_access_token=os.environ[\"DOMO_DOJO_ACCESS_TOKEN\"]\n",
        ")\n",
        "\n",
        "domo_role = DomoRole(auth = token_auth, id = 1)\n",
        "await domo_role.get_role_grants()"
      ]
    },
    {
      "cell_type": "code",
      "execution_count": null,
      "metadata": {},
      "outputs": [],
      "source": [
        "\n"
      ]
    },
    {
      "cell_type": "code",
      "execution_count": 17,
      "metadata": {},
      "outputs": [],
      "source": [
        "# | export\n",
        "@dataclass\n",
        "class DomoRoles:\n",
        "    auth: dmda.DomoAuth\n"
      ]
    },
    {
      "cell_type": "code",
      "execution_count": 18,
      "metadata": {},
      "outputs": [],
      "source": [
        "# | export\n",
        "\n",
        "@patch_to(DomoRoles, cls_method=True)\n",
        "async def get_roles(cls: DomoRoles,\n",
        "                    auth: dmda.DomoAuth,\n",
        "                    debug_api: bool = False,\n",
        "                    session: httpx.AsyncClient = None,\n",
        "                    return_raw: bool = False\n",
        "                    ):\n",
        "\n",
        "    res = await role_routes.get_roles(auth=auth, session=session, debug_api=debug_api)\n",
        "\n",
        "    if return_raw:\n",
        "        return res\n",
        "\n",
        "    role_ls = res.response\n",
        "\n",
        "    return [ DomoRole._from_json(role, auth) for role in res.response]\n"
      ]
    },
    {
      "cell_type": "code",
      "execution_count": 19,
      "metadata": {},
      "outputs": [
        {
          "data": {
            "text/plain": [
              "[DomoRole(id=1, name='Admin', description='Full access to everything', is_system_role=1, grant_ls=[], membership_ls=[]),\n",
              " DomoRole(id=2, name='Privileged', description='Full access except for editing users and settings owners', is_system_role=1, grant_ls=[], membership_ls=[]),\n",
              " DomoRole(id=3, name='Editor', description='Can edit Cards, Pages, DataSets, and Dataflows', is_system_role=1, grant_ls=[], membership_ls=[]),\n",
              " DomoRole(id=4, name='Participant', description='Read only access on Cards, Pages DataSets and Dataflows', is_system_role=1, grant_ls=[], membership_ls=[]),\n",
              " DomoRole(id=5, name='Social', description='Access limited to social features', is_system_role=1, grant_ls=[], membership_ls=[]),\n",
              " DomoRole(id=275763436, name='Super_Admin', description='Full access to everything', is_system_role=0, grant_ls=[], membership_ls=[]),\n",
              " DomoRole(id=810756122, name='super_admin', description='created via DomoLibrary', is_system_role=0, grant_ls=[], membership_ls=[]),\n",
              " DomoRole(id=1927158482, name='Domo_Admins', description='Full access to everything', is_system_role=0, grant_ls=[], membership_ls=[]),\n",
              " DomoRole(id=2097317660, name='Dojo_Default_Priviliged', description='Full access except for editing users and settings owners', is_system_role=0, grant_ls=[], membership_ls=[])]"
            ]
          },
          "execution_count": 19,
          "metadata": {},
          "output_type": "execute_result"
        }
      ],
      "source": [
        "import os\n",
        "import pandas as pd\n",
        "\n",
        "token_auth = dmda.DomoTokenAuth(\n",
        "    domo_instance=\"domo-dojo\",\n",
        "    domo_access_token=os.environ[\"DOMO_DOJO_ACCESS_TOKEN\"]\n",
        ")\n",
        "\n",
        "await DomoRoles.get_roles(auth=token_auth)"
      ]
    },
    {
      "cell_type": "code",
      "execution_count": 20,
      "metadata": {},
      "outputs": [],
      "source": [
        "#| export\n",
        "class SearchRole_NotFound(de.DomoError):\n",
        "    def __init__(self, domo_instance,\n",
        "                 role_id,\n",
        "                 message='not found',\n",
        "                 function_name='search_role'):\n",
        "\n",
        "        super().__init__(domo_instance=domo_instance, message=message,\n",
        "                         entity_id=role_id, function_name=function_name)\n",
        "\n",
        "@patch_to(DomoRoles, cls_method=True)\n",
        "async def search_role(cls: DomoRoles,\n",
        "                    role_name: str,\n",
        "                    auth: dmda.DomoAuth,\n",
        "                    debug_api: bool = False,\n",
        "                    session: httpx.AsyncClient = None,\n",
        "                    return_raw: bool = False\n",
        "                    ):\n",
        "\n",
        "    all_roles = await DomoRoles.get_roles( auth=auth)\n",
        "    \n",
        "    domo_role = next(\n",
        "        (role for role in all_roles if role.name == role_name), None)\n",
        "\n",
        "    if not domo_role:\n",
        "        raise SearchRole_NotFound(domo_instance=auth.domo_instance, role_id=role_name)\n",
        "\n",
        "    return domo_role"
      ]
    },
    {
      "cell_type": "code",
      "execution_count": 21,
      "metadata": {},
      "outputs": [
        {
          "data": {
            "text/plain": [
              "DomoRole(id=1, name='Admin', description='Full access to everything', is_system_role=1, grant_ls=[], membership_ls=[])"
            ]
          },
          "execution_count": 21,
          "metadata": {},
          "output_type": "execute_result"
        }
      ],
      "source": [
        "import os\n",
        "import pandas as pd\n",
        "\n",
        "token_auth = dmda.DomoTokenAuth(\n",
        "    domo_instance=\"domo-dojo\",\n",
        "    domo_access_token=os.environ[\"DOMO_DOJO_ACCESS_TOKEN\"]\n",
        ")\n",
        "\n",
        "await DomoRoles.search_role(auth=token_auth, role_name = 'Admin')\n"
      ]
    },
    {
      "cell_type": "code",
      "execution_count": 22,
      "metadata": {},
      "outputs": [],
      "source": [
        "class CreateRole_Error(de.DomoError):\n",
        "    def __init__(self, domo_instance,\n",
        "                 role_id,\n",
        "                 message,\n",
        "                 status,\n",
        "                 function_name='create_role'):\n",
        "\n",
        "        super().__init__(domo_instance=domo_instance,\n",
        "                         message=message, status=status,\n",
        "                         entity_id=role_id,\n",
        "                         function_name=function_name)\n"
      ]
    },
    {
      "cell_type": "code",
      "execution_count": 23,
      "metadata": {},
      "outputs": [],
      "source": [
        "@patch_to(DomoRoles, cls_method=True)\n",
        "async def create_role(cls: DomoRoles,\n",
        "                      auth: dmda.DomoAuth,\n",
        "                      name: str,\n",
        "                      description: str = None,\n",
        "                      debug_api: bool = False):\n",
        "\n",
        "    res = await role_routes.create_role(auth=auth,\n",
        "                                        name=name,\n",
        "                                        description=description,\n",
        "                                        debug_api=debug_api)\n",
        "    \n",
        "    if not res.is_success:\n",
        "        raise CreateRole_Error(\n",
        "            domo_instance = auth.domo_instance,\n",
        "            role_id = name,\n",
        "            message = res.response,\n",
        "            status = res.status,\n",
        "        )\n",
        "    \n",
        "    return await DomoRoles.search_role(auth = auth, role_name= name)\n",
        "    "
      ]
    },
    {
      "attachments": {},
      "cell_type": "markdown",
      "metadata": {},
      "source": [
        "#### sample implementation of create_role"
      ]
    },
    {
      "cell_type": "code",
      "execution_count": 24,
      "metadata": {},
      "outputs": [
        {
          "name": "stdout",
          "output_type": "stream",
          "text": [
            "create_role: super_admin :Status 400 - Bad Request at domo-dojo\n"
          ]
        }
      ],
      "source": [
        "token_auth = dmda.DomoTokenAuth(\n",
        "    domo_instance=\"domo-dojo\",\n",
        "    domo_access_token=os.environ[\"DOMO_DOJO_ACCESS_TOKEN\"]\n",
        ")\n",
        "\n",
        "try:\n",
        "    await DomoRoles.create_role(auth = token_auth, name = 'super_admin', description = 'created via DomoLibrary',)\n",
        "except Exception as e:\n",
        "    print(e)"
      ]
    },
    {
      "cell_type": "code",
      "execution_count": null,
      "metadata": {},
      "outputs": [],
      "source": []
    },
    {
      "cell_type": "code",
      "execution_count": 25,
      "metadata": {},
      "outputs": [],
      "source": [
        "# | export\n",
        "\n",
        "@patch_to(DomoRoles, cls_method=True)\n",
        "async def upsert_role(cls: DomoRoles,\n",
        "                      auth: dmda.DomoAuth,\n",
        "                      name: str,\n",
        "                      description: str = None,\n",
        "                      debug_api: bool = False,\n",
        "                      debug_prn: bool = False,\n",
        "                      session : httpx.AsyncClient=None\n",
        "                      ):\n",
        "\n",
        "    domo_role = await DomoRoles.search_role(role_name=name,\n",
        "                                            auth = auth ,\n",
        "                                            debug_api=debug_api,\n",
        "                                            session=session,\n",
        "                                            )\n",
        "\n",
        "    if domo_role:\n",
        "        return domo_role\n",
        "\n",
        "    if debug_prn:\n",
        "        print(\n",
        "            f'No role match -- creating new role in {full_auth.domo_instance}')\n",
        "\n",
        "    return await DomoRoles.create_role(auth=auth,\n",
        "                                       name=name, description=description,\n",
        "                                       debug_api=debug_api, session=session)\n"
      ]
    },
    {
      "cell_type": "code",
      "execution_count": 26,
      "metadata": {},
      "outputs": [
        {
          "data": {
            "text/plain": [
              "DomoRole(id=810756122, name='super_admin', description='created via DomoLibrary', is_system_role=0, grant_ls=[], membership_ls=[])"
            ]
          },
          "execution_count": 26,
          "metadata": {},
          "output_type": "execute_result"
        }
      ],
      "source": [
        "token_auth = dmda.DomoTokenAuth(\n",
        "    domo_instance=\"domo-dojo\",\n",
        "    domo_access_token=os.environ[\"DOMO_DOJO_ACCESS_TOKEN\"]\n",
        ")\n",
        "\n",
        "await DomoRoles.upsert_role(auth=token_auth, name='super_admin', description='created via DomoLibrary',)\n"
      ]
    },
    {
      "cell_type": "code",
      "execution_count": 27,
      "metadata": {},
      "outputs": [
        {
          "name": "stderr",
          "output_type": "stream",
          "text": [
            "Bad pipe message: %s [b'\\xb2\\xbeb\\x83\\x94\\xd6}\\x01w\\xa9\\xda\\xb7\\x93\\x92\\xf6L$q \\xcd', b'O8\\xd4z{']\n",
            "Bad pipe message: %s [b'\\xbcl\\x0eg\\xd9\\xfb\\xbda', b'b\\x0e\\xbf\\xd0\\xb2\\x94\\xfa\\xad K\\x8c:H(\\x9c=Q`\\x07\\x81@\\xaen \\xc1\\x9fO\\xd1Z&\\xfb\\xdb\\xdbz']\n",
            "Bad pipe message: %s [b\"\\xe6\\xfdhx\\xad\\nL\\xaa.\\x1a\\xde\\xc9a\\r\\xcbP\\xab\\xc5\\x00\\x00\\xa6\\xc0,\\xc00\\x00\\xa3\\x00\\x9f\\xcc\\xa9\\xcc\\xa8\\xcc\\xaa\\xc0\\xaf\\xc0\\xad\\xc0\\xa3\\xc0\\x9f\\xc0]\\xc0a\\xc0W\\xc0S\\xc0+\\xc0/\\x00\\xa2\\x00\\x9e\\xc0\\xae\\xc0\\xac\\xc0\\xa2\\xc0\\x9e\\xc0\\\\\\xc0`\\xc0V\\xc0R\\xc0$\\xc0(\\x00k\\x00j\\xc0s\\xc0w\\x00\\xc4\\x00\\xc3\\xc0#\\xc0'\\x00g\\x00@\\xc0r\\xc0v\\x00\\xbe\\x00\\xbd\\xc0\\n\\xc0\\x14\\x009\\x008\\x00\\x88\\x00\\x87\\xc0\\t\\xc0\\x13\\x003\\x002\\x00\\x9a\\x00\\x99\\x00E\\x00D\\xc0\\x07\\xc0\\x11\\xc0\\x08\\xc0\\x12\\x00\\x16\\x00\\x13\\x00\\x9d\\xc0\\xa1\\xc0\\x9d\\xc0Q\\x00\\x9c\\xc0\\xa0\\xc0\\x9c\\xc0P\"]\n",
            "Bad pipe message: %s [b'KS%&\\xbfZn\\x12\\x03F\\xca}PQ1\\xdb\\xb60\\x00\\x00\\xa2\\xc0\\x14\\xc0\\n\\x009\\x008\\x007\\x006\\x00\\x88\\x00\\x87\\x00\\x86\\x00\\x85\\xc0\\x19\\x00:\\x00\\x89\\xc0\\x0f\\xc0\\x05\\x005\\x00\\x84\\xc0\\x13\\xc0\\t\\x003\\x002\\x001\\x000\\x00\\x9a\\x00\\x99\\x00\\x98\\x00\\x97\\x00E\\x00D\\x00C\\x00B\\xc0\\x18\\x004\\x00\\x9b\\x00F\\xc0\\x0e\\xc0\\x04\\x00/\\x00\\x96\\x00A\\x00\\x07\\xc0\\x11\\xc0\\x07\\xc0\\x16\\x00\\x18\\xc0\\x0c\\xc0\\x02\\x00\\x05\\x00\\x04\\xc0\\x12\\xc0\\x08\\x00\\x16']\n",
            "Bad pipe message: %s [b'\\x1aD\\xee\\xf6\\xc1\\\\\\xf2\\x91\\xea\"\\x06:e\\x82Z9\\xc2)\\x00\\x00>\\xc0\\x14\\xc0\\n\\x009\\x008\\x007\\x00']\n",
            "Bad pipe message: %s [b'\\x0f\\xc0\\x05\\x005\\xc0\\x13\\xc0\\t\\x003\\x002\\x001\\x000\\xc0\\x0e\\xc0\\x04\\x00/\\x00\\x9a\\x00\\x99\\x00\\x98\\x00\\x97\\x00\\x96\\x00\\x07\\xc0\\x11\\xc0\\x07\\xc0\\x0c\\xc0\\x02\\x00\\x05\\x00\\x04\\x00\\xff\\x02\\x01\\x00\\x00']\n",
            "Bad pipe message: %s [b'\\x00\\x00\\x0e\\x00\\x0c\\x00\\x00\\t127.0.0.1\\x00\\x0b\\x00\\x04\\x03\\x00\\x01\\x02\\x00\\n\\x00\\x1c\\x00\\x1a\\x00\\x17\\x00\\x19\\x00\\x1c\\x00\\x1b\\x00\\x18\\x00\\x1a\\x00\\x16\\x00\\x0e\\x00\\r\\x00\\x0b\\x00\\x0c\\x00\\t\\x00\\n\\x00#\\x00\\x00\\x00\\x0f\\x00\\x01\\x01']\n",
            "Bad pipe message: %s [b'S\\x95\\xf3JM\\x7f\\xbac\\x9f\\x0b L\\x85fUc\\xdd\\xcf\\x00\\x00\\xa2\\xc0\\x14\\xc0\\n\\x009\\x008\\x007\\x006\\x00\\x88\\x00\\x87\\x00\\x86\\x00\\x85\\xc0\\x19\\x00:\\x00\\x89\\xc0\\x0f\\xc0\\x05\\x005\\x00\\x84\\xc0\\x13\\xc0\\t\\x003\\x002\\x001\\x000\\x00\\x9a\\x00\\x99\\x00\\x98\\x00\\x97\\x00E\\x00D\\x00C\\x00B\\xc0\\x18\\x004\\x00\\x9b\\x00F\\xc0\\x0e\\xc0\\x04\\x00/\\x00\\x96\\x00A\\x00\\x07\\xc0\\x11\\xc0\\x07\\xc0\\x16\\x00\\x18\\xc0\\x0c\\xc0\\x02\\x00\\x05\\x00\\x04\\xc0\\x12\\xc0\\x08\\x00\\x16\\x00\\x13\\x00\\x10\\x00\\r\\xc0\\x17\\x00', b'\\r\\xc0\\x03\\x00\\n\\x00\\x15\\x00\\x12\\x00\\x0f\\x00\\x0c\\x00\\x1a\\x00\\t\\x00\\x14\\x00\\x11\\x00\\x19\\x00\\x08\\x00']\n",
            "Bad pipe message: %s [b'\\x17\\x00\\x03\\xc0\\x10']\n"
          ]
        }
      ],
      "source": [
        "# #| export\n",
        "\n",
        "\n",
        "\n",
        "# async def get_membership(self, auth: DomoAuth = None,\n",
        "#                             role_id=None, debug_api: bool = False, session: httpx.AsyncClient = None):\n",
        "\n",
        "#     res = await role_routes.get_role_membership(auth=auth or self.auth,\n",
        "#                                                 role_id=role_id or self.id,\n",
        "#                                                 debug_api=debug_api, session=session)\n",
        "#     if res.status == 200:\n",
        "#         self.membership_list = res.response.get('users')\n",
        "\n",
        "#         return {'status': res.status,\n",
        "#                 'users': res.response.get('users')}\n",
        "\n",
        "# @classmethod\n",
        "# async def create_role(cls,\n",
        "#                         auth: DomoAuth,\n",
        "#                         name: str,\n",
        "#                         description: str = None,\n",
        "#                         debug_api: bool = False):\n",
        "\n",
        "#     res = await role_routes.create_role(auth=auth,\n",
        "#                                         name=name,\n",
        "#                                         description=description,\n",
        "#                                         debug_api=debug_api)\n",
        "#     if debug_api:\n",
        "#         print(res)\n",
        "\n",
        "#     if res.status == 200:\n",
        "#         return cls._from_str(id=res.response.get('id'),\n",
        "#                                 name=res.response.get('name'),\n",
        "#                                 description=res.response.get('description'),\n",
        "#                                 auth=auth)\n",
        "#     return None\n",
        "\n",
        "# async def update_role_grants(self,\n",
        "#                                 grant_list: list[str],\n",
        "#                                 role_id: str = None,\n",
        "#                                 auth: DomoAuth = None,\n",
        "#                                 debug_api: bool = False):\n",
        "\n",
        "#     res = await role_routes.update_role_grants(auth=auth or self.auth,\n",
        "#                                                 role_id=role_id or self.id,\n",
        "#                                                 role_grant_list=grant_list,\n",
        "#                                                 debug_api=debug_api)\n",
        "\n",
        "#     if res.status == 200 or res.status == 204:\n",
        "#         res_roles = await role_routes.get_role_grants(auth or self.auth,\n",
        "#                                                         role_id=role_id or self.id,\n",
        "#                                                         debug_api=debug_api)\n",
        "#         return {'status': res.status,\n",
        "#                 'role_id': role_id or self.id,\n",
        "#                 'grants': res_roles.response\n",
        "#                 }\n",
        "\n",
        "# async def add_user(self, user_list: list[str],\n",
        "#                     role_id: str = None,\n",
        "#                     auth: DomoAuth = None, debug_api: bool = False):\n",
        "\n",
        "#     res = await role_routes.role_membership_add_user(auth=auth or self.auth,\n",
        "#                                                         role_id=role_id or self.id,\n",
        "#                                                         user_list=user_list,\n",
        "#                                                         debug_api=debug_api)\n",
        "#     if res.status == 204:\n",
        "#         res_membership = await role_routes.get_role_membership(auth=auth or self.auth,\n",
        "#                                                                 role_id=role_id or self.id,\n",
        "#                                                                 debug_api=debug_api)\n",
        "\n",
        "#         return {'status': res.status,\n",
        "#                 'users': res_membership.response.get('users')}\n",
        "\n",
        "#     return res\n",
        "\n",
        "# async def set_as_default_role(self, debug_api: bool = False):\n",
        "#     return await role_routes.set_default_role(auth=self.auth,\n",
        "#                                                 role_id=self.id,\n",
        "#                                                 debug_api=debug_api)\n"
      ]
    }
  ],
  "metadata": {
    "jupytext": {
      "split_at_heading": true
    },
    "kernelspec": {
      "display_name": "Python 3",
      "language": "python",
      "name": "python3"
    },
    "language_info": {
      "codemirror_mode": {
        "name": "ipython",
        "version": 3
      },
      "file_extension": ".py",
      "mimetype": "text/x-python",
      "name": "python",
      "nbconvert_exporter": "python",
      "pygments_lexer": "ipython3",
      "version": "3.10.4"
    }
  },
  "nbformat": 4,
  "nbformat_minor": 4
}
