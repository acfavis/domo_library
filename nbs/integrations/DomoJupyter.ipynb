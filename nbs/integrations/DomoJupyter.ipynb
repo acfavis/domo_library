{
 "cells": [
  {
   "attachments": {},
   "cell_type": "markdown",
   "metadata": {},
   "source": [
    "# DomoJupyter (GetInstanceCredentials)\n",
    "\n",
    "> a function for interacting with DomoJupyter Accounts and Credentials"
   ]
  },
  {
   "cell_type": "code",
   "execution_count": null,
   "metadata": {
    "vscode": {
     "languageId": "python"
    }
   },
   "outputs": [],
   "source": [
    "# | default_exp integrations.DomoJupyter"
   ]
  },
  {
   "cell_type": "code",
   "execution_count": null,
   "metadata": {
    "vscode": {
     "languageId": "python"
    }
   },
   "outputs": [],
   "source": [
    "#| exporti\n",
    "from dataclasses import dataclass, field\n",
    "from typing import Optional\n",
    "from enum import Enum\n",
    "\n",
    "\n",
    "import re\n",
    "import pandas as pd\n",
    "import importlib\n",
    "import datetime as dt\n",
    "import time\n",
    "\n",
    "import json\n",
    "\n",
    "# import domojupyter as dj\n",
    "\n",
    "import domolibrary.client.DomoAuth as dmda\n",
    "import domolibrary.client.Logger as lc\n",
    "import domolibrary.classes.DomoDataset as dmds\n",
    "\n",
    "from nbdev.showdoc import show_doc\n",
    "from fastcore.basics import patch_to\n"
   ]
  },
  {
   "cell_type": "code",
   "execution_count": null,
   "metadata": {
    "vscode": {
     "languageId": "python"
    }
   },
   "outputs": [],
   "source": [
    "# | export\n",
    "\n",
    "class NoConfigCompanyError(Exception):\n",
    "    def __init__(self, sql, domo_instance):\n",
    "        message = f'SQL \"{sql}\" returned no results in {domo_instance}'\n",
    "        self.message = message\n",
    "        super().__init__(self.message)\n",
    "\n",
    "\n",
    "class GetInstanceConfig:\n",
    "    config: pd.DataFrame = None\n",
    "    logger: lc.Logger = None\n",
    "\n",
    "    def __init__(self, logger: Optional[lc.Logger] = None):\n",
    "\n",
    "        self.logger = logger or lc.Logger(app_name='GetInstanceConfig')\n",
    "\n",
    "    async def _retrieve_company_ds(self,\n",
    "                                   config_auth: dmda.DomoAuth,\n",
    "                                   dataset_id: str,\n",
    "                                   sql: str,\n",
    "                                   debug_prn: bool = False,\n",
    "                                   debug_api: bool = False,\n",
    "                                   debug_log: bool = False,\n",
    "            \n",
    "                                   ) -> pd.DataFrame:\n",
    "\n",
    "        ds = await dmds.DomoDataset.get_from_id(auth=config_auth,\n",
    "                                                dataset_id=dataset_id, debug_api=debug_api)\n",
    "\n",
    "        message = f\"⚙️ START - Retrieving company list \\n{ds.display_url()} using \\n{sql}\"\n",
    "\n",
    "        if debug_prn:\n",
    "            print(message)\n",
    "\n",
    "        self.logger.log_info(message, debug_log=debug_log)\n",
    "\n",
    "        df = await ds.query_dataset_private(auth=config_auth,\n",
    "                                            dataset_id=dataset_id,\n",
    "                                            sql=sql,\n",
    "                                            debug_api=debug_api)\n",
    "        if len(df.index) == 0:\n",
    "            raise NoConfigCompanyError(\n",
    "                sql, domo_instance=config_auth.domo_instance)\n",
    "\n",
    "        self.config = df\n",
    "\n",
    "        message = f\"\\n⚙️ SUCCESS 🎉 Retrieved company list \\nThere are {len(df.index)} companies to update\"\n",
    "\n",
    "        if debug_prn:\n",
    "            print(message)\n",
    "        logger.log_info(message, debug_log=debug_log)\n",
    "\n",
    "        return df\n"
   ]
  },
  {
   "cell_type": "code",
   "execution_count": null,
   "metadata": {
    "vscode": {
     "languageId": "python"
    }
   },
   "outputs": [
    {
     "name": "stdout",
     "output_type": "stream",
     "text": [
      "⚙️ START - Retrieving company list \n",
      "https://domo-dojo.domo.com/datasources/8d2a8055-7918-4039-b67d-361647e96ea8/details/overview using \n",
      "SELECT domain from Table\n",
      "\n",
      "⚙️ SUCCESS 🎉 Retrieved company list \n",
      "There are 1 companies to update\n"
     ]
    },
    {
     "data": {
      "text/html": [
       "<div>\n",
       "<style scoped>\n",
       "    .dataframe tbody tr th:only-of-type {\n",
       "        vertical-align: middle;\n",
       "    }\n",
       "\n",
       "    .dataframe tbody tr th {\n",
       "        vertical-align: top;\n",
       "    }\n",
       "\n",
       "    .dataframe thead th {\n",
       "        text-align: right;\n",
       "    }\n",
       "</style>\n",
       "<table border=\"1\" class=\"dataframe\">\n",
       "  <thead>\n",
       "    <tr style=\"text-align: right;\">\n",
       "      <th></th>\n",
       "      <th>date_time</th>\n",
       "      <th>application</th>\n",
       "      <th>log_type</th>\n",
       "      <th>log_message</th>\n",
       "      <th>breadcrumb</th>\n",
       "      <th>domo_instance</th>\n",
       "      <th>entity_id</th>\n",
       "      <th>function_name</th>\n",
       "      <th>file_name</th>\n",
       "      <th>function_trail</th>\n",
       "    </tr>\n",
       "  </thead>\n",
       "  <tbody>\n",
       "    <tr>\n",
       "      <th>0</th>\n",
       "      <td>2023-01-26 14:14:42.022250</td>\n",
       "      <td>test_retrieve_company</td>\n",
       "      <td>Info</td>\n",
       "      <td>⚙️ START - Retrieving company list \\nhttps://d...</td>\n",
       "      <td></td>\n",
       "      <td>None</td>\n",
       "      <td>None</td>\n",
       "      <td>_retrieve_company_ds</td>\n",
       "      <td>/tmp/ipykernel_18463/1008752541.py</td>\n",
       "      <td>&lt;module&gt; -&gt; _retrieve_company_ds</td>\n",
       "    </tr>\n",
       "    <tr>\n",
       "      <th>1</th>\n",
       "      <td>2023-01-26 14:14:42.518455</td>\n",
       "      <td>test_retrieve_company</td>\n",
       "      <td>Info</td>\n",
       "      <td>\\n⚙️ SUCCESS 🎉 Retrieved company list \\nThere ...</td>\n",
       "      <td></td>\n",
       "      <td>None</td>\n",
       "      <td>None</td>\n",
       "      <td>_retrieve_company_ds</td>\n",
       "      <td>/tmp/ipykernel_18463/1008752541.py</td>\n",
       "      <td>&lt;module&gt; -&gt; _retrieve_company_ds</td>\n",
       "    </tr>\n",
       "  </tbody>\n",
       "</table>\n",
       "</div>"
      ],
      "text/plain": [
       "                   date_time            application log_type  \\\n",
       "0 2023-01-26 14:14:42.022250  test_retrieve_company     Info   \n",
       "1 2023-01-26 14:14:42.518455  test_retrieve_company     Info   \n",
       "\n",
       "                                         log_message breadcrumb domo_instance  \\\n",
       "0  ⚙️ START - Retrieving company list \\nhttps://d...                     None   \n",
       "1  \\n⚙️ SUCCESS 🎉 Retrieved company list \\nThere ...                     None   \n",
       "\n",
       "  entity_id         function_name                           file_name  \\\n",
       "0      None  _retrieve_company_ds  /tmp/ipykernel_18463/1008752541.py   \n",
       "1      None  _retrieve_company_ds  /tmp/ipykernel_18463/1008752541.py   \n",
       "\n",
       "                     function_trail  \n",
       "0  <module> -> _retrieve_company_ds  \n",
       "1  <module> -> _retrieve_company_ds  "
      ]
     },
     "execution_count": null,
     "metadata": {},
     "output_type": "execute_result"
    }
   ],
   "source": [
    "#| hide\n",
    "import os\n",
    "\n",
    "config_auth = dmda.DomoTokenAuth(domo_instance = 'domo-dojo', domo_access_token=os.environ['DOMO_DOJO_ACCESS_TOKEN'])\n",
    "\n",
    "logger = lc.Logger( app_name='test_retrieve_company')\n",
    "\n",
    "gic = GetInstanceConfig(logger = logger)\n",
    "\n",
    "await gic._retrieve_company_ds(config_auth = config_auth,\n",
    "                               dataset_id = '8d2a8055-7918-4039-b67d-361647e96ea8',\n",
    "                               sql = 'SELECT domain from Table',\n",
    "                               debug_prn = True,\n",
    "                               debug_log = False,\n",
    "                               debug_api = False\n",
    "                            )\n",
    "\n",
    "pd.DataFrame(gic.config)\n",
    "pd.DataFrame(logger.logs)"
   ]
  },
  {
   "attachments": {},
   "cell_type": "markdown",
   "metadata": {},
   "source": [
    "## Get Domains with Global Config (DEPRECATED)\n",
    "Use this method to configure a dataset that retrieves a list of domains from a config instance (using config credentials) and then includes a global_auth or global_exception_auth for each retrieved domo_instance which will be used to configure the instance.\n",
    "\n",
    "Theoretically, the global user should be an Admin alreado Domo'ed to the instance\n",
    "\n",
    "The Config Dataset must return columns **domo_instance** and **config_exception_pw**\n",
    "\n",
    "NOTE: this method works as designed, but `get_domains_with_instance_auth` method is more flexible as it supports more variations by using an `Enum` class for matching."
   ]
  },
  {
   "cell_type": "code",
   "execution_count": null,
   "metadata": {
    "vscode": {
     "languageId": "python"
    }
   },
   "outputs": [],
   "source": [
    "#| export\n",
    "class GetDomains_Query_Exception_PW_Col_Error(Exception):\n",
    "    \"\"\"raise if SQL query fails to return column named 'config_exception_pw'\"\"\"\n",
    "\n",
    "    def __init__(self, sql :str = None, domo_instance : str = None, message : str = None):\n",
    "        message = message or f\"Query failed to return a column 'config_exception_pw' sql = {sql} in {domo_instance}\"\n",
    "        super().__init__(self, message)\n",
    "\n",
    "\n",
    "@patch_to(GetInstanceConfig, cls_method=True)\n",
    "async def get_domains_with_global_config_auth(cls: GetInstanceConfig,\n",
    "\n",
    "                                              config_dataset_id: str,\n",
    "                                              config_auth: dmda.DomoAuth, # which instance to retrieve configuration data from\n",
    "                                              \n",
    "                                              global_auth: dmda.DomoAuth, # global authentication credentials\n",
    "                                              global_exception_auth: dmda.DomoAuth, # exception credentials (ex 24 char password)\n",
    "                                              # must return a column named domo_instance, if there is an exception_auth, must return a column 'config_exception_pw'\n",
    "                                              \n",
    "                                              config_sql: str = \"select domain as domo_instance, config_exception_pw from table\",\n",
    "                                              \n",
    "                                              debug_api: bool = False,\n",
    "                                              debug_log: bool = False,\n",
    "                                              debug_prn: bool = False,\n",
    "                                              \n",
    "                                              logger: lc.Logger = None) -> pd.DataFrame:\n",
    "    if not logger:\n",
    "        logger = lc.Logger(app_name='get_domains_with_global_config_auth')\n",
    "\n",
    "    gic = cls(logger = logger)\n",
    "\n",
    "    df = await gic._retrieve_company_ds(config_auth=config_auth,\n",
    "                                        dataset_id=config_dataset_id,\n",
    "                                        sql=config_sql,\n",
    "                                       debug_prn=debug_prn,\n",
    "                                       debug_log=debug_log,\n",
    "                                       debug_api=debug_api)\n",
    "    \n",
    "    if 'config_exception_pw' not in df.columns:\n",
    "        message = f\"Query failed to return a column 'config_exception_pw' sql = {config_sql} in {config_auth.domo_instance}\"\n",
    "        gic.logger.log_error(message)\n",
    "        raise GetDomains_Query_Exception_PW_Col_Error(message= message)\n",
    "\n",
    "    for index, instance in df.iterrows():\n",
    "        creds = global_auth\n",
    "\n",
    "        if instance['config_exception_pw'] == 1:\n",
    "            creds = global_exception_auth\n",
    "\n",
    "        creds.domo_instance=instance['domo_instance']\n",
    "\n",
    "        try:\n",
    "            await creds.get_auth_token()\n",
    "            df.at[index, 'is_valid'] = 1\n",
    "\n",
    "        except dmda.InvalidCredentialsError as e:\n",
    "            if debug_prn:\n",
    "                print(e)\n",
    "            \n",
    "            logger.log_error(str(e))\n",
    "            df.at[index, 'is_valid'] = 0\n",
    "        \n",
    "        finally:\n",
    "            df.at[index, 'instance_auth'] = creds\n",
    "\n",
    "    return df\n"
   ]
  },
  {
   "attachments": {},
   "cell_type": "markdown",
   "metadata": {},
   "source": [
    "#### sample implementation of `get_domains_with_global_config_auth`"
   ]
  },
  {
   "cell_type": "code",
   "execution_count": null,
   "metadata": {
    "vscode": {
     "languageId": "python"
    }
   },
   "outputs": [
    {
     "name": "stdout",
     "output_type": "stream",
     "text": [
      "⚙️ START - Retrieving company list \n",
      "https://domo-dojo.domo.com/datasources/8d2a8055-7918-4039-b67d-361647e96ea8/details/overview using \n",
      "SELECT domain as domo_instance, 1 as config_exception_pw  from Table\n",
      "\n",
      "⚙️ SUCCESS 🎉 Retrieved company list \n",
      "There are 1 companies to update\n"
     ]
    },
    {
     "data": {
      "text/html": [
       "<div>\n",
       "<style scoped>\n",
       "    .dataframe tbody tr th:only-of-type {\n",
       "        vertical-align: middle;\n",
       "    }\n",
       "\n",
       "    .dataframe tbody tr th {\n",
       "        vertical-align: top;\n",
       "    }\n",
       "\n",
       "    .dataframe thead th {\n",
       "        text-align: right;\n",
       "    }\n",
       "</style>\n",
       "<table border=\"1\" class=\"dataframe\">\n",
       "  <thead>\n",
       "    <tr style=\"text-align: right;\">\n",
       "      <th></th>\n",
       "      <th>domo_instance</th>\n",
       "      <th>config_exception_pw</th>\n",
       "      <th>is_valid</th>\n",
       "      <th>instance_auth</th>\n",
       "    </tr>\n",
       "  </thead>\n",
       "  <tbody>\n",
       "    <tr>\n",
       "      <th>0</th>\n",
       "      <td>domo-dojo</td>\n",
       "      <td>1</td>\n",
       "      <td>1.0</td>\n",
       "      <td>DomoTokenAuth(domo_instance='domo-dojo', token...</td>\n",
       "    </tr>\n",
       "  </tbody>\n",
       "</table>\n",
       "</div>"
      ],
      "text/plain": [
       "  domo_instance  config_exception_pw  is_valid  \\\n",
       "0     domo-dojo                    1       1.0   \n",
       "\n",
       "                                       instance_auth  \n",
       "0  DomoTokenAuth(domo_instance='domo-dojo', token...  "
      ]
     },
     "execution_count": null,
     "metadata": {},
     "output_type": "execute_result"
    }
   ],
   "source": [
    "import os\n",
    "\n",
    "config_auth = dmda.DomoTokenAuth(\n",
    "    domo_instance='domo-dojo', domo_access_token=os.environ['DOMO_DOJO_ACCESS_TOKEN'])\n",
    "\n",
    "global_auth = dmda.DomoTokenAuth(\n",
    "    domo_instance='domo-global', domo_access_token=os.environ['DOMO_DOJO_ACCESS_TOKEN'])\n",
    "\n",
    "global_exception_auth = dmda.DomoTokenAuth(\n",
    "    domo_instance='domo-global', domo_access_token=os.environ['DOMO_DOJO_ACCESS_TOKEN'])\n",
    "\n",
    "\n",
    "logger = lc.Logger(app_name='test_retrieve_company')\n",
    "\n",
    "res = await GetInstanceConfig.get_domains_with_global_config_auth(config_auth=config_auth,\n",
    "                                                            config_dataset_id='8d2a8055-7918-4039-b67d-361647e96ea8',\n",
    "                                                                  config_sql='SELECT domain as domo_instance, 1 as config_exception_pw  from Table',\n",
    "                               debug_prn=True,\n",
    "                               debug_log=False,\n",
    "                               debug_api=False,\n",
    "                               logger=logger,\n",
    "                               global_auth = global_auth,\n",
    "                                                                  global_exception_auth=global_exception_auth\n",
    "                               )\n",
    "\n",
    "pd.DataFrame(res)\n",
    "# pd.DataFrame(logger.logs)"
   ]
  },
  {
   "attachments": {},
   "cell_type": "markdown",
   "metadata": {},
   "source": [
    "## Get Domains with Instance Config\n",
    "\n",
    "Use this method to configure a dataset that retrieves a list of domains from a config instance (using config credentials).  Pass an `auth_enum` object to enumerate different authenticaiton variations to expect in the result dataset (see example).\n",
    "\n",
    "Theoretically, each of the enumerated auth variations should already exist in the instance. \n",
    "\n",
    "The Config Dataset must return columns **domo_instance** and **auth_match_col**"
   ]
  },
  {
   "cell_type": "code",
   "execution_count": null,
   "metadata": {
    "vscode": {
     "languageId": "python"
    }
   },
   "outputs": [],
   "source": [
    "# | export\n",
    "\n",
    "class GetDomains_Query_AuthMatch_Error(Exception):\n",
    "    \"\"\"raise if SQL query fails to return column named 'auth_match_col'\"\"\"\n",
    "    def __init__(self, sql : str = None, domo_instance : str = None ,message : str = None):\n",
    "        self.message = message or f\"Query failed to return a column 'auth_match_col' sql = {sql} in {domo_instance}\"\n",
    "        super().__init__( self.message)\n",
    "\n",
    "@patch_to(GetInstanceConfig, cls_method=True)\n",
    "async def get_domains_with_instance_auth(cls: GetInstanceConfig,\n",
    "                                         config_dataset_id: str, # dataset_id to run config_sql query against\n",
    "                                         config_auth: dmda.DomoAuth,  # which instance to retrieve configuration data from\n",
    "                                         \n",
    "                                         default_auth : dmda.DomoAuth, # default auth to use with each row\n",
    "                                         auth_enum : Enum, # Enum where enum_name should match to `auth_match_col` from config_sql query and enum_value is the appropriate DomoAuth object\n",
    "                                         \n",
    "                                         config_sql: str = \"select domain as domo_instance,concat(config_useprod, '-', project) as auth_match_col from table\",\n",
    "                                         \n",
    "                                         debug_api: bool = False,\n",
    "                                         debug_log: bool = False,\n",
    "                                         debug_prn: bool = False,\n",
    "                                         logger: lc.Logger = None # pass in Logger class\n",
    "                                         ) -> pd.DataFrame: # returns a dataframe with domo_instance, instance_auth, and binary column is_valid \n",
    "    \"\"\"uses a sql query to retrieve a list of domo_instances and map authentication object to each instance\"\"\"\n",
    "    \n",
    "    if not logger:\n",
    "        logger = lc.Logger(app_name='get_domains_with_instance_auth')\n",
    "\n",
    "    gic = cls(logger=logger)\n",
    "\n",
    "    df = await gic._retrieve_company_ds(config_auth=config_auth,\n",
    "                                        dataset_id=config_dataset_id,\n",
    "                                        sql=config_sql,\n",
    "                                        debug_prn=debug_prn,\n",
    "                                        debug_log=debug_log,\n",
    "                                        debug_api=debug_api)\n",
    "\n",
    "    if 'auth_match_col' not in df.columns:\n",
    "        message = f\"Query failed to return a column 'auth_match_col' sql = {config_sql} in {config_auth.domo_instance}\"\n",
    "        raise GetDomains_Query_AuthMatch_Error(message)\n",
    "\n",
    "    for index, instance in df.iterrows():\n",
    "        \n",
    "        creds = default_auth\n",
    "\n",
    "        match_auth = next(\n",
    "            (member.value for member in auth_enum if member.name == instance['auth_match_col']))\n",
    "\n",
    "        if match_auth:\n",
    "            creds = match_auth\n",
    "\n",
    "        creds.domo_instance=instance['domo_instance']\n",
    "\n",
    "        try:\n",
    "            await creds.get_auth_token(debug_api = debug_api)\n",
    "            df.at[index, 'is_valid'] = 1\n",
    "\n",
    "        except dmda.InvalidCredentialsError as e:\n",
    "            if debug_prn:\n",
    "                print(e)\n",
    "            \n",
    "            logger.log_error(str(e))\n",
    "            df.at[index, 'is_valid'] = 0\n",
    "        \n",
    "        finally:\n",
    "            df.at[index, 'instance_auth'] = creds\n",
    "\n",
    "    return df\n"
   ]
  },
  {
   "attachments": {},
   "cell_type": "markdown",
   "metadata": {},
   "source": [
    "#### sample implementation of `get_domains_with_instance_auth`"
   ]
  },
  {
   "cell_type": "code",
   "execution_count": null,
   "metadata": {
    "vscode": {
     "languageId": "python"
    }
   },
   "outputs": [
    {
     "name": "stdout",
     "output_type": "stream",
     "text": [
      "⚙️ START - Retrieving company list \n",
      "https://domo-dojo.domo.com/datasources/8d2a8055-7918-4039-b67d-361647e96ea8/details/overview using \n",
      "SELECT domain as domo_instance, 'test_1' as auth_match_col from Table\n",
      "\n",
      "⚙️ SUCCESS 🎉 Retrieved company list \n",
      "There are 1 companies to update\n"
     ]
    },
    {
     "data": {
      "text/html": [
       "<div>\n",
       "<style scoped>\n",
       "    .dataframe tbody tr th:only-of-type {\n",
       "        vertical-align: middle;\n",
       "    }\n",
       "\n",
       "    .dataframe tbody tr th {\n",
       "        vertical-align: top;\n",
       "    }\n",
       "\n",
       "    .dataframe thead th {\n",
       "        text-align: right;\n",
       "    }\n",
       "</style>\n",
       "<table border=\"1\" class=\"dataframe\">\n",
       "  <thead>\n",
       "    <tr style=\"text-align: right;\">\n",
       "      <th></th>\n",
       "      <th>domo_instance</th>\n",
       "      <th>auth_match_col</th>\n",
       "      <th>is_valid</th>\n",
       "      <th>instance_auth</th>\n",
       "    </tr>\n",
       "  </thead>\n",
       "  <tbody>\n",
       "    <tr>\n",
       "      <th>0</th>\n",
       "      <td>domo-dojo</td>\n",
       "      <td>test_1</td>\n",
       "      <td>1.0</td>\n",
       "      <td>DomoTokenAuth(domo_instance='domo-dojo', token...</td>\n",
       "    </tr>\n",
       "  </tbody>\n",
       "</table>\n",
       "</div>"
      ],
      "text/plain": [
       "  domo_instance auth_match_col  is_valid  \\\n",
       "0     domo-dojo         test_1       1.0   \n",
       "\n",
       "                                       instance_auth  \n",
       "0  DomoTokenAuth(domo_instance='domo-dojo', token...  "
      ]
     },
     "execution_count": null,
     "metadata": {},
     "output_type": "execute_result"
    }
   ],
   "source": [
    "import os\n",
    "\n",
    "config_auth = dmda.DomoTokenAuth(\n",
    "    domo_instance='domo-dojo', domo_access_token=os.environ['DOMO_DOJO_ACCESS_TOKEN'])\n",
    "\n",
    "default_auth = dmda.DomoTokenAuth(\n",
    "    domo_instance='default', domo_access_token=os.environ['DOMO_DOJO_ACCESS_TOKEN'])\n",
    "\n",
    "\n",
    "class AuthEnum(Enum):\n",
    "    \"\"\"enum_name must match values in auth_match_col from config_sql query\"\"\"\n",
    "    test_1 = dmda.DomoTokenAuth(\n",
    "        domo_instance='test_1', domo_access_token=os.environ['DOMO_DOJO_ACCESS_TOKEN'])\n",
    "    test_0 = dmda.DomoTokenAuth(\n",
    "        domo_instance='test_0', domo_access_token=os.environ['DOMO_DOJO_ACCESS_TOKEN'])\n",
    "\n",
    "\n",
    "logger = lc.Logger(app_name='test_retrieve_company')\n",
    "\n",
    "res = await GetInstanceConfig.get_domains_with_instance_auth(config_auth=config_auth,\n",
    "                                                             config_dataset_id='8d2a8055-7918-4039-b67d-361647e96ea8',\n",
    "                                                             config_sql=\"SELECT domain as domo_instance, 'test_1' as auth_match_col from Table\",\n",
    "                                                             debug_prn=True,\n",
    "                                                             debug_log=False,\n",
    "                                                             debug_api=False,\n",
    "                                                             logger=logger,\n",
    "                                                             default_auth = default_auth,\n",
    "                                                             auth_enum=AuthEnum\n",
    "                                                             )\n",
    "\n",
    "pd.DataFrame(res)\n",
    "# pd.DataFrame(logger.logs)\n"
   ]
  },
  {
   "attachments": {},
   "cell_type": "markdown",
   "metadata": {},
   "source": [
    "# DojoAccount_InstanceAuth\n",
    "A Class for converting Dojo Account objects into DomoAuth account objects"
   ]
  },
  {
   "cell_type": "code",
   "execution_count": null,
   "metadata": {
    "vscode": {
     "languageId": "python"
    }
   },
   "outputs": [],
   "source": [
    "# | export\n",
    "class GetJupyter_ErrorRetrievingAccount(Exception):\n",
    "    def __init__(self, account_name):\n",
    "        self.message = f'failure to retrieve DomoDojo Account {account_name}'\n",
    "        super().__init__(self.message)\n",
    "\n",
    "\n",
    "class GetJupyter_ErrorRetrievingAccountProperty(Exception):\n",
    "    def __init__(self, account_name, property_name):\n",
    "        self.message = f'failure to retrieve {property_name} DomoDojo Account {account_name}'\n",
    "        super().__init__(self.message)\n",
    "\n",
    "def get_jupyter_account(account_name: str,  # name of account as it appears in the\n",
    "                        maximum_retry: int = 10\n",
    "                        ) -> (list, dict):  # returns account properties list and a dictionary of the properties.\n",
    "    \"\"\"import a domojupyter account, will loop until success\"\"\"\n",
    "    account_properties = None\n",
    "\n",
    "    retry_attempt = 0\n",
    "    while not account_properties and retry_attempt <= maximum_retry:\n",
    "        try:\n",
    "            account_properties = dj.get_account_property_keys(account_name)\n",
    "            retry_attempt += 1\n",
    "\n",
    "        except ErrorRetrievingAccount as e:\n",
    "            return None\n",
    "\n",
    "        except Exception as e:\n",
    "            print(f\"trying again - {account_name}\")\n",
    "            time.sleep(2)\n",
    "    \n",
    "    if not account_properties:\n",
    "        raise GetJupyter_ErrorRetrievingAccount(account_name=account_name)\n",
    "\n",
    "    obj = {}\n",
    "\n",
    "    retry_attempt = 0\n",
    "    for index, prop in enumerate(account_properties):\n",
    "        value = None\n",
    "\n",
    "        while not value and retry_attempt <= maximum_retry:\n",
    "            try:\n",
    "                value = dj.get_account_property_value(\n",
    "                    account_name, account_properties[index])\n",
    "            \n",
    "                except Exception as e:\n",
    "                print(f\"trying again - {prop}\")\n",
    "                time.sleep(2)\n",
    "\n",
    "            \n",
    "        if not value:\n",
    "            raise GetJupyter_ErrorRetrievingAccountProperty(account_name=account_name, property_name = prop)\n",
    "            \n",
    "        obj.update({prop: value})\n",
    "\n",
    "    return account_properties, obj"
   ]
  },
  {
   "cell_type": "code",
   "execution_count": null,
   "metadata": {
    "vscode": {
     "languageId": "python"
    }
   },
   "outputs": [],
   "source": [
    "# | export\n",
    "class InvalidAccountTypeError(Exception):\n",
    "    \"\"\"raised when account type is not expected type\"\"\"\n",
    "\n",
    "    def __init__(self, account_name, account_type):\n",
    "\n",
    "        self.message = f\"account: {account_name} is not {account_type}\"\n",
    "\n",
    "        super().__init__(self.message)\n",
    "    pass\n",
    "\n",
    "@dataclass\n",
    "class DomoAccount_InstanceAuth:\n",
    "\n",
    "    account_name: str\n",
    "\n",
    "    domo_username: str = None\n",
    "\n",
    "    display_name: str = field(repr=False, default=None)\n",
    "\n",
    "    domo_instance: str = field(repr=False, default=None)\n",
    "    domo_instance_ls: list = field(repr=False, default=None)\n",
    "\n",
    "    raw_cred: dict = field(repr=False, default=None)\n",
    "    domo_password: str = field(repr=False, default=None)\n",
    "    domo_access_token : str = field(repr = False, default = None)\n",
    "\n",
    "    auth_ls: list = field(repr=False, default=None)\n",
    "\n",
    "    account_name_mask = '^dj_.*_acc'\n",
    "\n",
    "    def __post_init__(self):\n",
    "        if not self.display_name and self.domo_username:\n",
    "            self._set_display_name()\n",
    "\n",
    "    def _set_display_name(self ):\n",
    "        clean_text = re.sub('@.*$', '', self.domo_username)\n",
    "        self.display_name = clean_text\n",
    "\n",
    "\n",
    "    @staticmethod\n",
    "    def _test_regex_mask(test_string: str  # the string to test\n",
    "                         , regex_mask: str  # the regex expression to test\n",
    "                         ) -> bool:  # boolean of the re match\n",
    "        \"\"\"tests if a string matches the regex pattern\"\"\"\n",
    "\n",
    "        return bool(re.match(regex_mask, test_string))\n",
    "\n",
    "    @staticmethod\n",
    "    def _clean_account_admin_accounts(account_name):\n",
    "\n",
    "        clean_str = re.sub('^dj_', '', account_name)\n",
    "        clean_str = re.sub('_acc$', '', clean_str)\n",
    "\n",
    "        return clean_str"
   ]
  },
  {
   "cell_type": "code",
   "execution_count": null,
   "metadata": {
    "vscode": {
     "languageId": "python"
    }
   },
   "outputs": [],
   "source": [
    "#| export\n",
    "class InvalidAccountNameError(Exception):\n",
    "    \"\"\"raised when account name does not follow format string\"\"\"\n",
    "\n",
    "    def __init__(self, account_name=None, regex_pattern=None):\n",
    "        account_str = f'\"{account_name}\" '\n",
    "        regex_str = f'\"{regex_pattern}\"'\n",
    "\n",
    "        message = f\"string {account_str if account_name else ''}does not match regex pattern {regex_str or ''}\"\n",
    "        self.message = message\n",
    "\n",
    "        super().__init__(self.message)\n",
    "\n",
    "@patch_to(DomoAccount_InstanceAuth, cls_method=True)\n",
    "def get_domo_account(cls: DomoAccount_InstanceAuth, account_name: str,  # domojupyter account to retrieve\n",
    "                     # Domo's domojupyter module, pass in b/c can only be retrieved inside Domo jupyter notebook environment\n",
    "                     domojupyter_fn: callable,\n",
    "                     # set the domo_instance or retrieve from the domojupyter_account credential store\n",
    "                     domo_instance=None\n",
    "                     ):\n",
    "    \"\"\"\n",
    "    retrieves Abstract Credential Store from DomoJupyter environment.\n",
    "    expects credentials property to contain DOMO_USERNAME, DOMO_PASSWORD, or DOMO_ACCESS_TOKEN, and (optional) DOMO_INSTANCE\n",
    "    \"\"\"\n",
    "\n",
    "    if not cls._test_regex_mask(account_name, cls.account_name_mask):\n",
    "        raise InvalidAccountNameError(account_name = account_name, regex_pattern = cls.account_name_mask)\n",
    "\n",
    "    account_properties, dj_account = get_jupyter_account(\n",
    "        account_name, domojupyter_fn=domojupyter_fn)\n",
    "\n",
    "    if account_properties != ['credentials']:\n",
    "        raise InvalidAccountTypeError(\n",
    "            account_name=account_name, account_type=\"abstract_credential_store\")\n",
    "\n",
    "    creds = json.loads(dj_account.get('credentials'))\n",
    "\n",
    "    return cls(\n",
    "        account_name=account_name,\n",
    "        raw_cred=creds,\n",
    "        domo_username=creds.get('DOMO_USERNAME'),\n",
    "        domo_password=creds.get('DOMO_PASSWORD'),\n",
    "        domo_access_token=creds.get('DOMO_ACCESS_TOKEN'),\n",
    "        domo_instance=domo_instance or creds.get('DOMO_INSTANCE')\n",
    "    )\n"
   ]
  },
  {
   "cell_type": "code",
   "execution_count": null,
   "metadata": {
    "vscode": {
     "languageId": "python"
    }
   },
   "outputs": [
    {
     "data": {
      "text/markdown": [
       "---\n",
       "\n",
       "### DomoAccount_InstanceAuth.get_domo_account\n",
       "\n",
       ">      DomoAccount_InstanceAuth.get_domo_account (account_name:str,\n",
       ">                                                 domojupyter_fn:<built-\n",
       ">                                                 infunctioncallable>,\n",
       ">                                                 domo_instance=None)\n",
       "\n",
       "retrieves Abstract Credential Store from DomoJupyter environment.\n",
       "expects credentials property to contain DOMO_USERNAME, DOMO_PASSWORD, or DOMO_ACCESS_TOKEN, and (optional) DOMO_INSTANCE\n",
       "\n",
       "|    | **Type** | **Default** | **Details** |\n",
       "| -- | -------- | ----------- | ----------- |\n",
       "| account_name | str |  | domojupyter account to retrieve |\n",
       "| domojupyter_fn | callable |  | Domo's domojupyter module, pass in b/c can only be retrieved inside Domo jupyter notebook environment |\n",
       "| domo_instance | NoneType | None | set the domo_instance or retrieve from the domojupyter_account credential store |"
      ],
      "text/plain": [
       "---\n",
       "\n",
       "### DomoAccount_InstanceAuth.get_domo_account\n",
       "\n",
       ">      DomoAccount_InstanceAuth.get_domo_account (account_name:str,\n",
       ">                                                 domojupyter_fn:<built-\n",
       ">                                                 infunctioncallable>,\n",
       ">                                                 domo_instance=None)\n",
       "\n",
       "retrieves Abstract Credential Store from DomoJupyter environment.\n",
       "expects credentials property to contain DOMO_USERNAME, DOMO_PASSWORD, or DOMO_ACCESS_TOKEN, and (optional) DOMO_INSTANCE\n",
       "\n",
       "|    | **Type** | **Default** | **Details** |\n",
       "| -- | -------- | ----------- | ----------- |\n",
       "| account_name | str |  | domojupyter account to retrieve |\n",
       "| domojupyter_fn | callable |  | Domo's domojupyter module, pass in b/c can only be retrieved inside Domo jupyter notebook environment |\n",
       "| domo_instance | NoneType | None | set the domo_instance or retrieve from the domojupyter_account credential store |"
      ]
     },
     "execution_count": null,
     "metadata": {},
     "output_type": "execute_result"
    }
   ],
   "source": [
    "show_doc(DomoAccount_InstanceAuth.get_domo_account)\n"
   ]
  },
  {
   "cell_type": "code",
   "execution_count": null,
   "metadata": {
    "vscode": {
     "languageId": "python"
    }
   },
   "outputs": [],
   "source": [
    "#| export\n",
    "class GenerateAuth_InvalidDomoInstanceList(Exception):\n",
    "    def __init__(self):\n",
    "        message = f\"provide a list of domo_instances\"\n",
    "        super().__init__(message)\n",
    "\n",
    "\n",
    "class GenerateAuth_CredentialsNotProvided(Exception):\n",
    "    def __init__(self):\n",
    "        message = f\"object does not have a valid combination of credentials (access_token or username and password)\"\n",
    "        super().__init__(message)\n",
    "\n",
    "\n",
    "@patch_to(DomoAccount_InstanceAuth)\n",
    "def _generate_auth(self, domo_instance):\n",
    "    if self.domo_access_token:\n",
    "            auth = dmda.DomoTokenAuth(\n",
    "                domo_instance=domo_instance, domo_access_token=self.domo_access_token)\n",
    "\n",
    "    elif self.domo_username and self.domo_password:\n",
    "\n",
    "        auth = dmda.DomoFullAuth(domo_instance=domo_instance,\n",
    "                                    domo_username=self.domo_username,\n",
    "                                    domo_password=self.domo_password)\n",
    "    \n",
    "    else:\n",
    "            raise GenerateAuth_CredentialsNotProvided()\n",
    "    \n",
    "    return auth\n",
    "\n",
    "@patch_to(DomoAccount_InstanceAuth)\n",
    "def generate_auth_ls(self : DomoAccount_InstanceAuth,\n",
    "                          domo_instance_ls: list[str] = None # list of domo_instances\n",
    "                          ) -> list[dmda.DomoAuth]: # list of domo auth objects\n",
    "                          \n",
    "    \"\"\"for every domo_instance in domo_instance_ls generates an DomoAuth object\"\"\"\n",
    "\n",
    "    # reset internal lists\n",
    "    self.domo_instance = None\n",
    "\n",
    "    self.domo_instance_ls = list(\n",
    "        set(domo_instance_ls or self.domo_instance_ls))\n",
    "\n",
    "    if not self.domo_instance_ls:\n",
    "        raise GenerateAuth_InvalidDomoInstanceList()\n",
    "\n",
    "    self.auth_ls = []\n",
    "    for domo_instance in self.domo_instance_ls:\n",
    "        auth = self._generate_auth(domo_instance)\n",
    "\n",
    "        self.auth_ls.append(auth)\n",
    "\n",
    "    return self.auth_ls"
   ]
  },
  {
   "cell_type": "code",
   "execution_count": null,
   "metadata": {
    "vscode": {
     "languageId": "python"
    }
   },
   "outputs": [
    {
     "data": {
      "text/markdown": [
       "---\n",
       "\n",
       "### DomoAccount_InstanceAuth.generate_auth_ls\n",
       "\n",
       ">      DomoAccount_InstanceAuth.generate_auth_ls\n",
       ">                                                 (domo_instance_ls:list[str]=No\n",
       ">                                                 ne)\n",
       "\n",
       "for every domo_instance in domo_instance_ls generates an DomoAuth object\n",
       "\n",
       "|    | **Type** | **Default** | **Details** |\n",
       "| -- | -------- | ----------- | ----------- |\n",
       "| domo_instance_ls | list | None | list of domo_instances |\n",
       "| **Returns** | **list** |  | **list of domo auth objects** |"
      ],
      "text/plain": [
       "---\n",
       "\n",
       "### DomoAccount_InstanceAuth.generate_auth_ls\n",
       "\n",
       ">      DomoAccount_InstanceAuth.generate_auth_ls\n",
       ">                                                 (domo_instance_ls:list[str]=No\n",
       ">                                                 ne)\n",
       "\n",
       "for every domo_instance in domo_instance_ls generates an DomoAuth object\n",
       "\n",
       "|    | **Type** | **Default** | **Details** |\n",
       "| -- | -------- | ----------- | ----------- |\n",
       "| domo_instance_ls | list | None | list of domo_instances |\n",
       "| **Returns** | **list** |  | **list of domo auth objects** |"
      ]
     },
     "execution_count": null,
     "metadata": {},
     "output_type": "execute_result"
    }
   ],
   "source": [
    "show_doc(DomoAccount_InstanceAuth.generate_auth_ls)\n"
   ]
  },
  {
   "cell_type": "code",
   "execution_count": null,
   "metadata": {
    "vscode": {
     "languageId": "python"
    }
   },
   "outputs": [
    {
     "data": {
      "text/plain": [
       "DomoAccount_InstanceAuth(account_name='test', domo_username=None)"
      ]
     },
     "execution_count": null,
     "metadata": {},
     "output_type": "execute_result"
    }
   ],
   "source": [
    "DomoAccount_InstanceAuth(account_name = 'test')"
   ]
  }
 ],
 "metadata": {
  "jupytext": {
   "split_at_heading": true
  },
  "kernelspec": {
   "display_name": "Python 3",
   "language": "python",
   "name": "python3"
  }
 },
 "nbformat": 4,
 "nbformat_minor": 4
}
