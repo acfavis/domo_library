{
 "cells": [
  {
   "cell_type": "raw",
   "metadata": {},
   "source": [
    "---\n",
    "description: Default description (change me)\n",
    "output-file: routes.activity_log_routes.html\n",
    "title: Default Title (change me)\n",
    "\n",
    "---\n",
    "\n"
   ]
  },
  {
   "cell_type": "code",
   "execution_count": null,
   "metadata": {},
   "outputs": [],
   "source": [
    "#| default_exp routes.activity_log_routes"
   ]
  },
  {
   "cell_type": "code",
   "execution_count": null,
   "metadata": {},
   "outputs": [],
   "source": [
    "#| export\n",
    "from pprint import pprint\n",
    "\n",
    "import aiohttp\n",
    "\n",
    "from ...DomoClasses import DomoAuth as dmda\n",
    "from ...utils import ResponseGetData as ResponseGetData\n",
    "from . import get_data as gd"
   ]
  },
  {
   "cell_type": "code",
   "execution_count": null,
   "metadata": {},
   "outputs": [],
   "source": [
    "#| export\n",
    "async def search_activity_log(full_auth: dmda.DomoFullAuth,\n",
    "                              end_time: int,\n",
    "                              start_time: int,\n",
    "                              maximum: int, object_type=None,\n",
    "                              session: aiohttp.ClientSession = None,\n",
    "                              debug: bool = False):\n",
    "    is_close_session = False\n",
    "\n",
    "    if not session:\n",
    "        session = aiohttp.ClientSession()\n",
    "        is_close_session = True\n",
    "\n",
    "    url = f'https://{full_auth.domo_instance}.domo.com/api/audit/v1/user-audits/{object_type if object_type else \"\"}'\n",
    "\n",
    "    fixed_params = {\n",
    "        'end': end_time,\n",
    "        'start': start_time\n",
    "\n",
    "    }\n",
    "\n",
    "    offset_params = {\n",
    "        'offset': 'offset',\n",
    "        'limit': 'limit',\n",
    "    }\n",
    "\n",
    "    def arr_fn(res) -> list[dict]:\n",
    "        return res.response\n",
    "\n",
    "    res = await gd.looper(auth=full_auth,\n",
    "                          method='GET',\n",
    "                          url=url,\n",
    "                          arr_fn=arr_fn,\n",
    "                          fixed_params=fixed_params,\n",
    "                          offset_params=offset_params,\n",
    "                          session=session,\n",
    "                          maximum=maximum, debug=debug)\n",
    "\n",
    "    if is_close_session:\n",
    "        await session.close()\n",
    "\n",
    "    return res"
   ]
  }
 ],
 "metadata": {
  "jupytext": {
   "split_at_heading": true
  },
  "kernelspec": {
   "display_name": "Python 3",
   "language": "python",
   "name": "python3"
  }
 },
 "nbformat": 4,
 "nbformat_minor": 4
}
