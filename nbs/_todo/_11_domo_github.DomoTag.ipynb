{
 "cells": [
  {
   "cell_type": "raw",
   "metadata": {},
   "source": [
    "---\n",
    "description: Default description (change me)\n",
    "output-file: domo_github.domotag.html\n",
    "title: Default Title (change me)\n",
    "\n",
    "---\n",
    "\n"
   ]
  },
  {
   "cell_type": "code",
   "execution_count": null,
   "metadata": {},
   "outputs": [],
   "source": [
    "#| default_exp domo_github.DomoTag"
   ]
  },
  {
   "cell_type": "code",
   "execution_count": null,
   "metadata": {},
   "outputs": [],
   "source": [
    "#| export\n",
    "from dataclasses import dataclass\n",
    "\n",
    "import aiohttp\n",
    "\n",
    "from . import DomoAuth as dmda\n",
    "from .routes import get_data"
   ]
  },
  {
   "cell_type": "code",
   "execution_count": null,
   "metadata": {},
   "outputs": [],
   "source": [
    "#| export\n",
    "async def _set_dataset_tags(full_auth: dmda.DomoFullAuth,\n",
    "                            tag_ls: [str],\n",
    "                            dataset_id: str,\n",
    "                            debug: bool = False,\n",
    "                            session: aiohttp.ClientSession = None,\n",
    "                            log_results: bool = False\n",
    "                            ):\n",
    "    url = f\"https://{full_auth.domo_instance}.domo.com/api/data/ui/v3/datasources/{dataset_id}/tags\"\n",
    "\n",
    "    if debug:\n",
    "        print(url)\n",
    "\n",
    "    return await get_data(\n",
    "        auth=full_auth,\n",
    "        url=url,\n",
    "        method='POST',\n",
    "        log_results=log_results,\n",
    "        debug=debug,\n",
    "        body=tag_ls,\n",
    "        session=session\n",
    "    )"
   ]
  },
  {
   "cell_type": "code",
   "execution_count": null,
   "metadata": {},
   "outputs": [],
   "source": [
    "#| export\n",
    "@dataclass\n",
    "class Dataset_Tags:\n",
    "    dataset: any\n",
    "    tag_ls: [str] = None\n",
    "\n",
    "    async def set(self,\n",
    "                  tag_ls: [str],\n",
    "                  full_auth: dmda.DomoFullAuth = None,\n",
    "                  debug: bool = False, log_results: bool = False,\n",
    "                  session: aiohttp.ClientSession = None):\n",
    "\n",
    "        full_auth = full_auth or self.dataset.full_auth\n",
    "\n",
    "        res = await _set_dataset_tags(full_auth=full_auth,\n",
    "                                      tag_ls=list(set(tag_ls)),\n",
    "                                      dataset_id=self.dataset.id,\n",
    "                                      debug=debug,\n",
    "                                      session=session,\n",
    "                                      log_results=log_results)\n",
    "\n",
    "        if res.status != 200:\n",
    "            print('invalid response')\n",
    "            return None\n",
    "\n",
    "        new_ds = await self.dataset.get_from_id(id=self.dataset.id,\n",
    "                                                full_auth=self.dataset.full_auth)\n",
    "\n",
    "        self.tag_ls = new_ds.tags.tag_ls\n",
    "\n",
    "        return self.tag_ls\n",
    "\n",
    "    async def add(self,\n",
    "                  add_tag_ls: [str],\n",
    "                  full_auth: dmda.DomoFullAuth = None,\n",
    "                  debug: bool = False, log_results: bool = False, session: aiohttp.ClientSession = None\n",
    "                  ):\n",
    "\n",
    "        full_auth = full_auth or self.dataset.full_auth\n",
    "\n",
    "        existing_tag_ls = self.tag_ls or []\n",
    "        add_tag_ls += existing_tag_ls\n",
    "\n",
    "        return await self.set(full_auth=full_auth,\n",
    "                              tag_ls=list(set(add_tag_ls)),\n",
    "                              debug=debug, session=session, log_results=log_results)\n",
    "\n",
    "    async def remove(self,\n",
    "                     remove_tag_ls: [str],\n",
    "                     full_auth: dmda.DomoFullAuth = None,\n",
    "                     debug: bool = False, log_results: bool = False, session: aiohttp.ClientSession = None\n",
    "                     ):\n",
    "        full_auth = full_auth or self.dataset.full_auth\n",
    "\n",
    "        existing_tag_ls = self.tag_ls or []\n",
    "        existing_tag_ls = [\n",
    "            ex for ex in existing_tag_ls if ex not in remove_tag_ls]\n",
    "\n",
    "        return await self.set(full_auth=full_auth,\n",
    "                              tag_ls=list(set(existing_tag_ls)),\n",
    "                              debug=debug, session=session, log_results=log_results)"
   ]
  }
 ],
 "metadata": {
  "jupytext": {
   "split_at_heading": true
  },
  "kernelspec": {
   "display_name": "Python 3",
   "language": "python",
   "name": "python3"
  }
 },
 "nbformat": 4,
 "nbformat_minor": 4
}
