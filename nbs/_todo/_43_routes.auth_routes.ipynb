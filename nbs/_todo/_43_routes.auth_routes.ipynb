{
 "cells": [
  {
   "cell_type": "raw",
   "metadata": {},
   "source": [
    "---\n",
    "description: Default description (change me)\n",
    "output-file: routes.auth_routes.html\n",
    "title: Default Title (change me)\n",
    "\n",
    "---\n",
    "\n"
   ]
  },
  {
   "cell_type": "code",
   "execution_count": null,
   "metadata": {},
   "outputs": [],
   "source": [
    "#| default_exp routes.auth_routes"
   ]
  },
  {
   "cell_type": "code",
   "execution_count": null,
   "metadata": {},
   "outputs": [],
   "source": [
    "#| export\n",
    "import aiohttp\n",
    "\n",
    "from ...utils.ResponseGetData import ResponseGetData"
   ]
  },
  {
   "cell_type": "code",
   "execution_count": null,
   "metadata": {},
   "outputs": [],
   "source": [
    "#| export\n",
    "async def get_full_auth(domo_instance, domo_username, domo_password, session=None) -> ResponseGetData:\n",
    "    is_close_session = False\n",
    "\n",
    "    if not session:\n",
    "        is_close_session = True\n",
    "        session = aiohttp.ClientSession()\n",
    "\n",
    "    url = f'https://{domo_instance}.domo.com/api/content/v2/authentication'\n",
    "\n",
    "    tokenHeaders = {'Content-Type': 'application/json'}\n",
    "    body = {'method': 'password', 'emailAddress': domo_username,\n",
    "            'password': domo_password}\n",
    "\n",
    "    res = await session.request(method='POST', url=url, headers=tokenHeaders, json=body)\n",
    "\n",
    "    data = await res.json()\n",
    "\n",
    "    if is_close_session:\n",
    "        await session.close()\n",
    "\n",
    "    if res.status == 200 and data.get('sessionToken'):\n",
    "        return ResponseGetData(status=res.status,\n",
    "                               is_success=True,\n",
    "                               response=data)\n",
    "\n",
    "    if not data.get('sessionToken'):\n",
    "        return ResponseGetData(status=res.status,\n",
    "                               is_success=False,\n",
    "                               response=data)\n",
    "\n",
    "    return gdr"
   ]
  },
  {
   "cell_type": "code",
   "execution_count": null,
   "metadata": {},
   "outputs": [],
   "source": [
    "#| export\n",
    "async def get_developer_auth(domo_client_id, domo_client_secret, session=None) -> ResponseGetData:\n",
    "    if not session:\n",
    "        session = aiohttp.ClientSession(\n",
    "            auth=aiohttp.BasicAuth(domo_client_id, domo_client_secret))\n",
    "\n",
    "    url = f'https://api.domo.com/oauth/token?grant_type=client_credentials'\n",
    "\n",
    "    res = await session.request(method='GET', url=url)\n",
    "    data = await res.json()\n",
    "\n",
    "    gdr = ResponseGetData(status=res.status,\n",
    "                          is_success=True if res.status == 200 else False,\n",
    "                          response=data)\n",
    "\n",
    "    await session.close()\n",
    "    return gdr"
   ]
  }
 ],
 "metadata": {
  "jupytext": {
   "split_at_heading": true
  },
  "kernelspec": {
   "display_name": "Python 3",
   "language": "python",
   "name": "python3"
  }
 },
 "nbformat": 4,
 "nbformat_minor": 4
}
