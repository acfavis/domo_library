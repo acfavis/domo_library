{
 "cells": [
  {
   "cell_type": "raw",
   "metadata": {},
   "source": [
    "# User Routes\n",
    "---\n",
    "output-file: user_routes.html\n",
    "---"
   ]
  },
  {
   "cell_type": "code",
   "execution_count": 1,
   "metadata": {},
   "outputs": [],
   "source": [
    "# | default_exp routes.user\n"
   ]
  },
  {
   "cell_type": "code",
   "execution_count": 2,
   "metadata": {},
   "outputs": [],
   "source": [
    "# | exporti\n",
    "import utils.DictDot as dd\n",
    "import domolibrary.client.get_data as gd\n",
    "import domolibrary.client.ResponseGetData as rgd\n",
    "import domolibrary.client.DomoAuth as dmda\n"
   ]
  },
  {
   "attachments": {},
   "cell_type": "markdown",
   "metadata": {},
   "source": [
    "# SEARCH and GET Routes\n"
   ]
  },
  {
   "attachments": {},
   "cell_type": "markdown",
   "metadata": {},
   "source": [
    "## Search Users\n"
   ]
  },
  {
   "cell_type": "code",
   "execution_count": 3,
   "metadata": {},
   "outputs": [],
   "source": [
    "# | export\n",
    "async def get_all_users(\n",
    "    auth: dmda.DomoAuth, debug_api: bool = False\n",
    ") -> rgd.ResponseGetData:\n",
    "    url = f\"https://{ auth.domo_instance}.domo.com/api/content/v2/users\"\n",
    "\n",
    "    return await gd.get_data(\n",
    "        url=url, method=\"GET\", auth=auth, debug_api=debug_api\n",
    "    )"
   ]
  },
  {
   "attachments": {},
   "cell_type": "markdown",
   "metadata": {},
   "source": [
    "#### sample implementation of get_all_users\n"
   ]
  },
  {
   "cell_type": "code",
   "execution_count": 4,
   "metadata": {},
   "outputs": [
    {
     "data": {
      "text/html": [
       "<div>\n",
       "<style scoped>\n",
       "    .dataframe tbody tr th:only-of-type {\n",
       "        vertical-align: middle;\n",
       "    }\n",
       "\n",
       "    .dataframe tbody tr th {\n",
       "        vertical-align: top;\n",
       "    }\n",
       "\n",
       "    .dataframe thead th {\n",
       "        text-align: right;\n",
       "    }\n",
       "</style>\n",
       "<table border=\"1\" class=\"dataframe\">\n",
       "  <thead>\n",
       "    <tr style=\"text-align: right;\">\n",
       "      <th></th>\n",
       "      <th>id</th>\n",
       "      <th>invitorUserId</th>\n",
       "      <th>displayName</th>\n",
       "      <th>userName</th>\n",
       "      <th>emailAddress</th>\n",
       "      <th>accepted</th>\n",
       "      <th>userType</th>\n",
       "      <th>timeZone</th>\n",
       "      <th>modified</th>\n",
       "      <th>created</th>\n",
       "      <th>role</th>\n",
       "      <th>roleId</th>\n",
       "      <th>rights</th>\n",
       "      <th>active</th>\n",
       "      <th>pending</th>\n",
       "      <th>systemUser</th>\n",
       "      <th>anonymous</th>\n",
       "    </tr>\n",
       "  </thead>\n",
       "  <tbody>\n",
       "    <tr>\n",
       "      <th>0</th>\n",
       "      <td>0</td>\n",
       "      <td>2</td>\n",
       "      <td>monitor</td>\n",
       "      <td>monitor</td>\n",
       "      <td>monitor@domo.com</td>\n",
       "      <td>False</td>\n",
       "      <td>DOMO_SUPPORT</td>\n",
       "      <td>Etc/GMT+7</td>\n",
       "      <td>1588877394091</td>\n",
       "      <td>1464820854</td>\n",
       "      <td>Privileged</td>\n",
       "      <td>1</td>\n",
       "      <td>31.0</td>\n",
       "      <td>True</td>\n",
       "      <td>True</td>\n",
       "      <td>True</td>\n",
       "      <td>True</td>\n",
       "    </tr>\n",
       "    <tr>\n",
       "      <th>1</th>\n",
       "      <td>1006847540</td>\n",
       "      <td>1893952720</td>\n",
       "      <td>Marc-Anton Clavel</td>\n",
       "      <td>marcanton.clavel@domo.com</td>\n",
       "      <td>marcanton.clavel@domo.com</td>\n",
       "      <td>False</td>\n",
       "      <td>USER</td>\n",
       "      <td>NaN</td>\n",
       "      <td>1665166064000</td>\n",
       "      <td>1618579073</td>\n",
       "      <td>Privileged</td>\n",
       "      <td>2</td>\n",
       "      <td>31.0</td>\n",
       "      <td>True</td>\n",
       "      <td>True</td>\n",
       "      <td>False</td>\n",
       "      <td>True</td>\n",
       "    </tr>\n",
       "    <tr>\n",
       "      <th>2</th>\n",
       "      <td>1012895591</td>\n",
       "      <td>1893952720</td>\n",
       "      <td>JeMiller</td>\n",
       "      <td>JeMiller@marketaxess.com</td>\n",
       "      <td>JeMiller@marketaxess.com</td>\n",
       "      <td>True</td>\n",
       "      <td>USER</td>\n",
       "      <td>NaN</td>\n",
       "      <td>1657051684429</td>\n",
       "      <td>1657049419</td>\n",
       "      <td>NaN</td>\n",
       "      <td>2097317660</td>\n",
       "      <td>NaN</td>\n",
       "      <td>True</td>\n",
       "      <td>False</td>\n",
       "      <td>False</td>\n",
       "      <td>False</td>\n",
       "    </tr>\n",
       "    <tr>\n",
       "      <th>3</th>\n",
       "      <td>1024352013</td>\n",
       "      <td>1893952720</td>\n",
       "      <td>Michael Shrifteylik</td>\n",
       "      <td>mshrifteylik@sportsresearch.com</td>\n",
       "      <td>mshrifteylik@sportsresearch.com</td>\n",
       "      <td>True</td>\n",
       "      <td>USER</td>\n",
       "      <td>NaN</td>\n",
       "      <td>1669658030028</td>\n",
       "      <td>1667838056</td>\n",
       "      <td>Privileged</td>\n",
       "      <td>2</td>\n",
       "      <td>31.0</td>\n",
       "      <td>True</td>\n",
       "      <td>False</td>\n",
       "      <td>False</td>\n",
       "      <td>False</td>\n",
       "    </tr>\n",
       "    <tr>\n",
       "      <th>4</th>\n",
       "      <td>1026684838</td>\n",
       "      <td>1893952720</td>\n",
       "      <td>Ghofrane Yahmadi</td>\n",
       "      <td>ghofrane.yahmadi@audibene.de</td>\n",
       "      <td>ghofrane.yahmadi@audibene.de</td>\n",
       "      <td>False</td>\n",
       "      <td>USER</td>\n",
       "      <td>NaN</td>\n",
       "      <td>1618579110000</td>\n",
       "      <td>1618579109</td>\n",
       "      <td>Privileged</td>\n",
       "      <td>2</td>\n",
       "      <td>31.0</td>\n",
       "      <td>True</td>\n",
       "      <td>True</td>\n",
       "      <td>False</td>\n",
       "      <td>True</td>\n",
       "    </tr>\n",
       "  </tbody>\n",
       "</table>\n",
       "</div>"
      ],
      "text/plain": [
       "           id  invitorUserId          displayName  \\\n",
       "0           0              2              monitor   \n",
       "1  1006847540     1893952720    Marc-Anton Clavel   \n",
       "2  1012895591     1893952720             JeMiller   \n",
       "3  1024352013     1893952720  Michael Shrifteylik   \n",
       "4  1026684838     1893952720     Ghofrane Yahmadi   \n",
       "\n",
       "                          userName                     emailAddress  accepted  \\\n",
       "0                          monitor                 monitor@domo.com     False   \n",
       "1        marcanton.clavel@domo.com        marcanton.clavel@domo.com     False   \n",
       "2         JeMiller@marketaxess.com         JeMiller@marketaxess.com      True   \n",
       "3  mshrifteylik@sportsresearch.com  mshrifteylik@sportsresearch.com      True   \n",
       "4     ghofrane.yahmadi@audibene.de     ghofrane.yahmadi@audibene.de     False   \n",
       "\n",
       "       userType   timeZone       modified     created        role      roleId  \\\n",
       "0  DOMO_SUPPORT  Etc/GMT+7  1588877394091  1464820854  Privileged           1   \n",
       "1          USER        NaN  1665166064000  1618579073  Privileged           2   \n",
       "2          USER        NaN  1657051684429  1657049419         NaN  2097317660   \n",
       "3          USER        NaN  1669658030028  1667838056  Privileged           2   \n",
       "4          USER        NaN  1618579110000  1618579109  Privileged           2   \n",
       "\n",
       "   rights  active  pending  systemUser  anonymous  \n",
       "0    31.0    True     True        True       True  \n",
       "1    31.0    True     True       False       True  \n",
       "2     NaN    True    False       False      False  \n",
       "3    31.0    True    False       False      False  \n",
       "4    31.0    True     True       False       True  "
      ]
     },
     "execution_count": 4,
     "metadata": {},
     "output_type": "execute_result"
    }
   ],
   "source": [
    "import os\n",
    "import pandas as pd\n",
    "\n",
    "token_auth = dmda.DomoTokenAuth(\n",
    "    domo_instance=\"domo-dojo\", domo_access_token=os.environ[\"DOMO_DOJO_ACCESS_TOKEN\"]\n",
    ")\n",
    "\n",
    "res = await get_all_users(auth=token_auth)\n",
    "pd.DataFrame(res.response[0:5])"
   ]
  },
  {
   "cell_type": "code",
   "execution_count": 5,
   "metadata": {},
   "outputs": [],
   "source": [
    "# | export\n",
    "def generate_search_users_body_by_id(user_ids: list[str]) -> dict:\n",
    "    return {\n",
    "        # \"showCount\": true,\n",
    "        # \"count\": false,\n",
    "        \"includeDeleted\": False,\n",
    "        \"includeSupport\": False,\n",
    "        \"filters\": [\n",
    "            {\"field\": \"id\", \"filterType\": \"value\",\n",
    "                \"values\": user_ids, \"operator\": \"EQ\"}\n",
    "        ],\n",
    "    }\n"
   ]
  },
  {
   "cell_type": "code",
   "execution_count": 6,
   "metadata": {},
   "outputs": [],
   "source": [
    "# | export\n",
    "def generate_search_users_body_by_email(email_address: str) -> dict:\n",
    "    \"\"\"search does not appear to be case sensitive\"\"\"\n",
    "\n",
    "    return {\n",
    "        # \"showCount\": true,\n",
    "        # \"count\": false,\n",
    "        \"includeDeleted\": False,\n",
    "        \"includeSupport\": False,\n",
    "        \"limit\": 200,\n",
    "        \"offset\": 0,\n",
    "        \"sort\": {\"field\": \"displayName\", \"order\": \"ASC\"},\n",
    "        \"filters\": [\n",
    "            {\"filterType\": \"text\", \"field\": \"emailAddress\", \"text\": email_address}\n",
    "        ],\n",
    "    }\n"
   ]
  },
  {
   "cell_type": "code",
   "execution_count": 7,
   "metadata": {},
   "outputs": [],
   "source": [
    "#| export\n",
    "def process_v1_search_users_user(obj_user):\n",
    "    dd_user = dd.DictDot(obj_user)\n",
    "\n",
    "    return {\n",
    "        \"id\": dd_user.id,\n",
    "        \"displayName\": dd_user.displayName,\n",
    "        \"roleId\": dd_user.roleId,\n",
    "        \"userName\": dd_user.userName,\n",
    "        \"emailAddress\": dd_user.emailAddress,\n",
    "    }\n",
    "\n",
    "\n",
    "def process_v1_search_users(res_user_v1_search: rgd.ResponseGetData):\n",
    "    obj_users = res_user_v1_search.response.get(\"users\")\n",
    "\n",
    "    return [process_v1_search_users_user(obj_user) for obj_user in obj_users]"
   ]
  },
  {
   "cell_type": "code",
   "execution_count": 8,
   "metadata": {},
   "outputs": [],
   "source": [
    "# | export\n",
    "async def search_users(\n",
    "    auth: dmda.DomoAuth,\n",
    "    body: dict,\n",
    "    debug_api: bool = False,\n",
    "    process_users: bool = True,\n",
    ") -> rgd.ResponseGetData:\n",
    "\n",
    "    url = f\"https://{auth.domo_instance}.domo.com/api/identity/v1/users/search\"\n",
    "\n",
    "    res = await gd.get_data(\n",
    "        url=url,\n",
    "        method=\"POST\",\n",
    "        auth=auth,\n",
    "        body=body,\n",
    "        debug_api=debug_api,\n",
    "    )\n",
    "\n",
    "    if process_users and res.is_success:\n",
    "        res.response = process_v1_search_users(res)\n",
    "\n",
    "    return res"
   ]
  },
  {
   "attachments": {},
   "cell_type": "markdown",
   "metadata": {},
   "source": [
    "#### sample implementation of search_users\n"
   ]
  },
  {
   "cell_type": "code",
   "execution_count": 9,
   "metadata": {},
   "outputs": [
    {
     "data": {
      "text/plain": [
       "[{'id': 1893952720,\n",
       "  'displayName': 'Jae Wilson',\n",
       "  'roleId': 1,\n",
       "  'userName': 'jae@onyxreporting.com',\n",
       "  'emailAddress': 'jae@onyxreporting.com'}]"
      ]
     },
     "execution_count": 9,
     "metadata": {},
     "output_type": "execute_result"
    }
   ],
   "source": [
    "import os\n",
    "\n",
    "token_auth = dmda.DomoTokenAuth(\n",
    "    domo_instance=\"domo-dojo\", domo_access_token=os.environ[\"DOMO_DOJO_ACCESS_TOKEN\"]\n",
    ")\n",
    "\n",
    "search_email_body = generate_search_users_body_by_email(\n",
    "    email_address=\"jae@onyxreporting.com\"\n",
    ")\n",
    "\n",
    "res = await search_users(auth=token_auth, body=search_email_body, process_users=True)\n",
    "res.response"
   ]
  },
  {
   "attachments": {},
   "cell_type": "markdown",
   "metadata": {},
   "source": [
    "## Search Publish\n"
   ]
  },
  {
   "cell_type": "code",
   "execution_count": 10,
   "metadata": {},
   "outputs": [],
   "source": [
    "#| export\n",
    "async def search_virtual_user_by_subscriber_instance(\n",
    "    auth: dmda.DomoAuth,\n",
    "    subscriber_instance,\n",
    "    debug_api: bool = False,\n",
    ") -> rgd.ResponseGetData:\n",
    "    url = f\"https://{auth.domo_instance}.domo.com/api/publish/v2/proxy_user/domain/\"\n",
    "\n",
    "    body = {\"domains\": [f\"{subscriber_instance}.domo.com\"]}\n",
    "\n",
    "    return await gd.get_data(\n",
    "        url=url,\n",
    "        method=\"POST\",\n",
    "        auth=auth,\n",
    "        body=body,\n",
    "        debug_api=debug_api,\n",
    "    )"
   ]
  },
  {
   "attachments": {},
   "cell_type": "markdown",
   "metadata": {},
   "source": [
    "# CRUD Routes and Attributes\n"
   ]
  },
  {
   "cell_type": "code",
   "execution_count": 11,
   "metadata": {},
   "outputs": [],
   "source": [
    "# | export\n",
    "async def create_user(\n",
    "    auth: dmda.DomoAuth,\n",
    "    display_name: str,\n",
    "    email: str,\n",
    "    role_id: int,\n",
    "    debug_api: bool = False,\n",
    ") -> rgd.ResponseGetData:\n",
    "\n",
    "    url = f\"https://{auth.domo_instance}.domo.com/api/content/v3/users\"\n",
    "\n",
    "    body = {\"displayName\": display_name, \"detail\": {\n",
    "        \"email\": email}, \"roleId\": role_id}\n",
    "\n",
    "    return await gd.get_data(\n",
    "        url=url, method=\"POST\", body=body, auth=auth, debug_api=debug_api\n",
    "    )\n"
   ]
  },
  {
   "cell_type": "code",
   "execution_count": 12,
   "metadata": {},
   "outputs": [],
   "source": [
    "# | export\n",
    "async def reset_password(\n",
    "    auth: dmda.DomoAuth,\n",
    "    user_id: str,\n",
    "    new_password: str,\n",
    "    debug_api: bool = False,\n",
    ") -> rgd.ResponseGetData:\n",
    "\n",
    "    url = f\"https://{auth.domo_instance}.domo.com/api/identity/v1/password\"\n",
    "\n",
    "    body = {\"domoUserId\": user_id, \"password\": new_password}\n",
    "\n",
    "    return await gd.get_data(\n",
    "        url=url,\n",
    "        method=\"PUT\",\n",
    "        auth=auth,\n",
    "        body=body,\n",
    "        debug_api=debug_api,\n",
    "    )\n"
   ]
  },
  {
   "cell_type": "code",
   "execution_count": 13,
   "metadata": {},
   "outputs": [],
   "source": [
    "# | export\n",
    "async def request_password_reset(\n",
    "    domo_instance: str, email: str, \n",
    "    locale=\"en-us\", debug_api: bool = False\n",
    "):\n",
    "    url = f\"https://{domo_instance}.domo.com/api/domoweb/auth/sendReset\"\n",
    "\n",
    "    params = {\"email\": email, \"local\": locale}\n",
    "\n",
    "    return await gd.get_data(\n",
    "        url=url, method=\"GET\", params=params, auth=None, debug_api=debug_api\n",
    "    )"
   ]
  },
  {
   "cell_type": "code",
   "execution_count": 14,
   "metadata": {},
   "outputs": [],
   "source": [
    "# | export\n",
    "async def set_user_landing_page(\n",
    "    auth: dmda.DomoAuth, \n",
    "    user_id: str, page_id: \n",
    "    str, debug_api: bool = False\n",
    "):\n",
    "\n",
    "    url = f\"https://{auth.domo_instance}.domo.com/api/content/v1/landings/target/DESKTOP/entity/PAGE/id/{page_id}/{user_id}\"\n",
    "\n",
    "    return await gd.get_data(\n",
    "        url=url,\n",
    "        method=\"PUT\",\n",
    "        auth=auth,\n",
    "        # body = body,\n",
    "        debug=debug,\n",
    "    )"
   ]
  }
 ],
 "metadata": {
  "jupytext": {
   "split_at_heading": true
  },
  "kernelspec": {
   "display_name": "Python 3",
   "language": "python",
   "name": "python3"
  },
  "language_info": {
   "codemirror_mode": {
    "name": "ipython",
    "version": 3
   },
   "file_extension": ".py",
   "mimetype": "text/x-python",
   "name": "python",
   "nbconvert_exporter": "python",
   "pygments_lexer": "ipython3",
   "version": "3.10.4"
  },
  "vscode": {
   "interpreter": {
    "hash": "3ad933181bd8a04b432d3370b9dc3b0662ad032c4dfaa4e4f1596c548f763858"
   }
  }
 },
 "nbformat": 4,
 "nbformat_minor": 4
}
