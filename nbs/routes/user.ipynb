{
 "cells": [
  {
   "attachments": {},
   "cell_type": "markdown",
   "metadata": {},
   "source": [
    "# User Routes\n",
    "\n",
    "> a functional approach, routes only, to interacting with domo users.\n"
   ]
  },
  {
   "attachments": {},
   "cell_type": "raw",
   "metadata": {},
   "source": [
    "---\n",
    "output-file: user_routes.html\n",
    "---"
   ]
  },
  {
   "cell_type": "code",
   "execution_count": null,
   "metadata": {},
   "outputs": [],
   "source": [
    "# | default_exp routes.user\n"
   ]
  },
  {
   "cell_type": "code",
   "execution_count": null,
   "metadata": {},
   "outputs": [],
   "source": [
    "# | exporti\n",
    "import utils.DictDot as dd\n",
    "import domolibrary.client.get_data as gd\n",
    "import domolibrary.client.ResponseGetData as rgd\n",
    "import domolibrary.client.DomoAuth as dmda\n"
   ]
  },
  {
   "attachments": {},
   "cell_type": "markdown",
   "metadata": {},
   "source": [
    "# GET Users"
   ]
  },
  {
   "cell_type": "code",
   "execution_count": null,
   "metadata": {},
   "outputs": [],
   "source": [
    "# | export\n",
    "async def get_all_users(\n",
    "    auth: dmda.DomoAuth, debug_api: bool = False\n",
    ") -> rgd.ResponseGetData:\n",
    "\n",
    "    \"\"\"retrieves all users from Domo\"\"\"\n",
    "    url = f\"https://{ auth.domo_instance}.domo.com/api/content/v2/users\"\n",
    "\n",
    "    return await gd.get_data(url=url, method=\"GET\", auth=auth, debug_api=debug_api)"
   ]
  },
  {
   "attachments": {},
   "cell_type": "markdown",
   "metadata": {},
   "source": [
    "#### sample implementation of get_all_users\n"
   ]
  },
  {
   "cell_type": "code",
   "execution_count": null,
   "metadata": {},
   "outputs": [
    {
     "data": {
      "text/plain": [
       "'2f4cb212853732ef796abd46077cf1162c0a3ed7cf1ff079'"
      ]
     },
     "execution_count": null,
     "metadata": {},
     "output_type": "execute_result"
    }
   ],
   "source": [
    "import os\n",
    "import pandas as pd\n",
    "\n",
    "token_auth = dmda.DomoTokenAuth(\n",
    "    domo_instance=\"domo-dojo\", \n",
    "    domo_access_token=os.environ[\"DOMO_DOJO_ACCESS_TOKEN\"]\n",
    ")\n",
    "\n",
    "res = await get_all_users(auth=token_auth)\n",
    "pd.DataFrame(res.response[0:5])\n",
    "\n",
    "os.environ['DOMO_DOJO_ACCESS_TOKEN']\n"
   ]
  },
  {
   "attachments": {},
   "cell_type": "markdown",
   "metadata": {},
   "source": [
    "# Search Users\n",
    "This series of functions searchse the v1_users_api.  The body of the search api can be retrieved by searching admin in the Domo User interface."
   ]
  },
  {
   "cell_type": "code",
   "execution_count": null,
   "metadata": {},
   "outputs": [],
   "source": [
    "# | export\n",
    "def generate_search_users_body_by_id(\n",
    "    user_ids: list[str],  # list of user ids to search\n",
    ") -> dict:  # dict to pass to search v1_users_search_api\n",
    "    \"\"\"search v1_users_search_api\"\"\"\n",
    "\n",
    "    return {\n",
    "        # \"showCount\": true,\n",
    "        # \"count\": false,\n",
    "        \"includeDeleted\": False,\n",
    "        \"includeSupport\": False,\n",
    "        \"filters\": [\n",
    "            {\"field\": \"id\", \"filterType\": \"value\", \"values\": user_ids, \"operator\": \"EQ\"}\n",
    "        ],\n",
    "    }"
   ]
  },
  {
   "cell_type": "code",
   "execution_count": null,
   "metadata": {},
   "outputs": [],
   "source": [
    "# | export\n",
    "def generate_search_users_body_by_email(\n",
    "    user_email_ls: list[ str ],  # list of user emails to search.  Note:  search does not appear to be case sensitive\n",
    ") -> dict:  # dict to pass to search v1_users_search_api\n",
    "    \"\"\"search v1_users_search_api\"\"\"\n",
    "\n",
    "    return {\n",
    "        # \"showCount\": true,\n",
    "        # \"count\": false,\n",
    "        \"includeDeleted\": False,\n",
    "        \"includeSupport\": False,\n",
    "        \"limit\": 200,\n",
    "        \"offset\": 0,\n",
    "        \"sort\": {\"field\": \"displayName\", \"order\": \"ASC\"},\n",
    "        \"filters\": [\n",
    "            {\n",
    "                \"filterType\": \"text\",\n",
    "                \"field\": \"emailAddress\",\n",
    "                \"text\": \" \".join(user_email_ls),\n",
    "            }\n",
    "        ],\n",
    "    }"
   ]
  },
  {
   "cell_type": "code",
   "execution_count": null,
   "metadata": {},
   "outputs": [],
   "source": [
    "# | export\n",
    "def process_v1_search_users(v1_user_ls: list[dict] # list of users from v1_users_search API\n",
    ") -> list[dict]: # sanitized list of users.\n",
    "    \"\"\"sanitizes the response from v1_users_search API and removes unecessary attributes\"\"\"\n",
    "\n",
    "    clean_users = []\n",
    "\n",
    "    for obj_user in v1_user_ls:\n",
    "        \n",
    "        dd_user = dd.DictDot(obj_user)\n",
    "\n",
    "        clean_users.append( {\n",
    "            \"id\": dd_user.id,\n",
    "            \"displayName\": dd_user.displayName,\n",
    "            \"roleId\": dd_user.roleId,\n",
    "            \"userName\": dd_user.userName,\n",
    "            \"emailAddress\": dd_user.emailAddress,\n",
    "        })\n"
   ]
  },
  {
   "cell_type": "code",
   "execution_count": null,
   "metadata": {},
   "outputs": [],
   "source": [
    "# | export\n",
    "async def search_users(\n",
    "    auth: dmda.DomoAuth,\n",
    "    body: dict,\n",
    "    debug_api: bool = False,\n",
    "    process_users: bool = True,\n",
    ") -> rgd.ResponseGetData:\n",
    "\n",
    "    url = f\"https://{auth.domo_instance}.domo.com/api/identity/v1/users/search\"\n",
    "\n",
    "    res = await gd.get_data(\n",
    "        url=url,\n",
    "        method=\"POST\",\n",
    "        auth=auth,\n",
    "        body=body,\n",
    "        debug_api=debug_api,\n",
    "    )\n",
    "\n",
    "    if process_users and res.is_success:\n",
    "        res.response = process_v1_search_users(res.response.get('users'))\n",
    "\n",
    "    return res\n"
   ]
  },
  {
   "attachments": {},
   "cell_type": "markdown",
   "metadata": {},
   "source": [
    "#### sample implementation of search_users\n"
   ]
  },
  {
   "cell_type": "code",
   "execution_count": null,
   "metadata": {},
   "outputs": [
    {
     "data": {
      "text/html": [
       "<div>\n",
       "<style scoped>\n",
       "    .dataframe tbody tr th:only-of-type {\n",
       "        vertical-align: middle;\n",
       "    }\n",
       "\n",
       "    .dataframe tbody tr th {\n",
       "        vertical-align: top;\n",
       "    }\n",
       "\n",
       "    .dataframe thead th {\n",
       "        text-align: right;\n",
       "    }\n",
       "</style>\n",
       "<table border=\"1\" class=\"dataframe\">\n",
       "  <thead>\n",
       "    <tr style=\"text-align: right;\">\n",
       "      <th></th>\n",
       "    </tr>\n",
       "  </thead>\n",
       "  <tbody>\n",
       "  </tbody>\n",
       "</table>\n",
       "</div>"
      ],
      "text/plain": [
       "Empty DataFrame\n",
       "Columns: []\n",
       "Index: []"
      ]
     },
     "execution_count": null,
     "metadata": {},
     "output_type": "execute_result"
    }
   ],
   "source": [
    "import os\n",
    "import pandas as pd\n",
    "\n",
    "token_auth = dmda.DomoTokenAuth(\n",
    "    domo_instance=\"domo-dojo\", \n",
    "    domo_access_token=os.environ[\"DOMO_DOJO_ACCESS_TOKEN\"]\n",
    ")\n",
    "\n",
    "search_email_body = generate_search_users_body_by_email(\n",
    "    user_email_ls=[\"jae@onyxreporting.com\"]\n",
    ")\n",
    "\n",
    "res = await search_users(\n",
    "    auth=token_auth, \n",
    "    body=search_email_body, \n",
    "    process_users=True, \n",
    "    debug_api=False\n",
    ")\n",
    "\n",
    "pd.DataFrame(res.response)"
   ]
  },
  {
   "attachments": {},
   "cell_type": "markdown",
   "metadata": {},
   "source": [
    "# Publish and Virtual Users\n",
    "> Virtual Users are necessary for assigning PDP policies when publish jobs are created."
   ]
  },
  {
   "cell_type": "code",
   "execution_count": null,
   "metadata": {},
   "outputs": [],
   "source": [
    "# | export\n",
    "async def search_virtual_user_by_subscriber_instance(\n",
    "    auth: dmda.DomoAuth, # domo auth object\n",
    "    subscriber_instance_ls : list[str], # list of subscriber domo instances\n",
    "    debug_api: bool = False, # debug API requests\n",
    ") -> rgd.ResponseGetData: # list of virtual domo users\n",
    "    \"\"\"retrieve virtual users for subscriber instances tied to one publisher\"\"\"\n",
    "\n",
    "    url = f\"https://{auth.domo_instance}.domo.com/api/publish/v2/proxy_user/domain/\"\n",
    "\n",
    "    body = {\"domains\": [f\"{subscriber_instance}.domo.com\"\n",
    "                        for subscriber_instance in subscriber_instance_ls]}\n",
    "\n",
    "    return await gd.get_data(\n",
    "        url=url,\n",
    "        method=\"POST\",\n",
    "        auth=auth,\n",
    "        body=body,\n",
    "        debug_api=debug_api,\n",
    "    )"
   ]
  },
  {
   "attachments": {},
   "cell_type": "markdown",
   "metadata": {},
   "source": [
    "#### sample of search virtual users by subscriber_instance"
   ]
  },
  {
   "cell_type": "code",
   "execution_count": null,
   "metadata": {},
   "outputs": [
    {
     "data": {
      "text/html": [
       "<div>\n",
       "<style scoped>\n",
       "    .dataframe tbody tr th:only-of-type {\n",
       "        vertical-align: middle;\n",
       "    }\n",
       "\n",
       "    .dataframe tbody tr th {\n",
       "        vertical-align: top;\n",
       "    }\n",
       "\n",
       "    .dataframe thead th {\n",
       "        text-align: right;\n",
       "    }\n",
       "</style>\n",
       "<table border=\"1\" class=\"dataframe\">\n",
       "  <thead>\n",
       "    <tr style=\"text-align: right;\">\n",
       "      <th></th>\n",
       "      <th>id</th>\n",
       "      <th>publisherDomain</th>\n",
       "      <th>customerId</th>\n",
       "      <th>subscriberDomain</th>\n",
       "      <th>virtualUserId</th>\n",
       "      <th>created</th>\n",
       "      <th>activeSubscriptions</th>\n",
       "    </tr>\n",
       "  </thead>\n",
       "  <tbody>\n",
       "    <tr>\n",
       "      <th>0</th>\n",
       "      <td>2bcabab7-128e-4f47-8219-c8548588d7fc</td>\n",
       "      <td>domo-dojo.domo.com</td>\n",
       "      <td>mmmm-0012-0200</td>\n",
       "      <td>domo-dojo.domo.com</td>\n",
       "      <td>fc:ce69e5f0-ab88-46df-94ab-32b5f6dfd4e7</td>\n",
       "      <td>1674251102000</td>\n",
       "      <td>0</td>\n",
       "    </tr>\n",
       "    <tr>\n",
       "      <th>1</th>\n",
       "      <td>57999e9b-e8a2-48ab-80c6-edf2627b71fc</td>\n",
       "      <td>domo-dojo.domo.com</td>\n",
       "      <td>mmmm-0012-0200</td>\n",
       "      <td>test.domo.com</td>\n",
       "      <td>fc:b3d7aaa1-9bc8-4481-9d34-c153a9b91b22</td>\n",
       "      <td>1674253476000</td>\n",
       "      <td>0</td>\n",
       "    </tr>\n",
       "  </tbody>\n",
       "</table>\n",
       "</div>"
      ],
      "text/plain": [
       "                                     id     publisherDomain      customerId  \\\n",
       "0  2bcabab7-128e-4f47-8219-c8548588d7fc  domo-dojo.domo.com  mmmm-0012-0200   \n",
       "1  57999e9b-e8a2-48ab-80c6-edf2627b71fc  domo-dojo.domo.com  mmmm-0012-0200   \n",
       "\n",
       "     subscriberDomain                            virtualUserId        created  \\\n",
       "0  domo-dojo.domo.com  fc:ce69e5f0-ab88-46df-94ab-32b5f6dfd4e7  1674251102000   \n",
       "1       test.domo.com  fc:b3d7aaa1-9bc8-4481-9d34-c153a9b91b22  1674253476000   \n",
       "\n",
       "   activeSubscriptions  \n",
       "0                    0  \n",
       "1                    0  "
      ]
     },
     "execution_count": null,
     "metadata": {},
     "output_type": "execute_result"
    }
   ],
   "source": [
    "import os\n",
    "import pandas as pd\n",
    "\n",
    "token_auth = dmda.DomoTokenAuth(\n",
    "    domo_instance=\"domo-dojo\", \n",
    "    domo_access_token=os.environ[\"DOMO_DOJO_ACCESS_TOKEN\"]\n",
    ")\n",
    "\n",
    "res = await search_virtual_user_by_subscriber_instance(\n",
    "    auth = token_auth,\n",
    "    subscriber_instance_ls = ['domo-dojo', 'test'],\n",
    "    debug_api = False\n",
    "    )\n",
    "\n",
    "\n",
    "pd.DataFrame(res.response)"
   ]
  },
  {
   "attachments": {},
   "cell_type": "markdown",
   "metadata": {},
   "source": [
    "# CRUD Routes and User Attributes\n"
   ]
  },
  {
   "cell_type": "code",
   "execution_count": null,
   "metadata": {},
   "outputs": [],
   "source": [
    "# | export\n",
    "async def create_user(\n",
    "    auth: dmda.DomoAuth,\n",
    "    display_name: str,\n",
    "    email: str,\n",
    "    role_id: int,\n",
    "    debug_api: bool = False,\n",
    ") -> rgd.ResponseGetData:\n",
    "\n",
    "    url = f\"https://{auth.domo_instance}.domo.com/api/content/v3/users\"\n",
    "\n",
    "    body = {\"displayName\": display_name, \"detail\": {\"email\": email}, \"roleId\": role_id}\n",
    "\n",
    "    return await gd.get_data(\n",
    "        url=url, method=\"POST\", body=body, auth=auth, debug_api=debug_api\n",
    "    )"
   ]
  },
  {
   "cell_type": "code",
   "execution_count": null,
   "metadata": {},
   "outputs": [],
   "source": [
    "# | export\n",
    "async def set_user_landing_page(\n",
    "    auth: dmda.DomoAuth, user_id: str, page_id: str, debug_api: bool = False\n",
    "):\n",
    "\n",
    "    url = f\"https://{auth.domo_instance}.domo.com/api/content/v1/landings/target/DESKTOP/entity/PAGE/id/{page_id}/{user_id}\"\n",
    "\n",
    "    return await gd.get_data(\n",
    "        url=url,\n",
    "        method=\"PUT\",\n",
    "        auth=auth,\n",
    "        # body = body,\n",
    "        debug=debug,\n",
    "    )"
   ]
  },
  {
   "cell_type": "code",
   "execution_count": null,
   "metadata": {},
   "outputs": [],
   "source": [
    "# | export\n",
    "async def reset_password(\n",
    "    auth: dmda.DomoAuth,\n",
    "    user_id: str,\n",
    "    new_password: str,\n",
    "    debug_api: bool = False,\n",
    ") -> rgd.ResponseGetData:\n",
    "\n",
    "    url = f\"https://{auth.domo_instance}.domo.com/api/identity/v1/password\"\n",
    "\n",
    "    body = {\"domoUserId\": user_id, \"password\": new_password}\n",
    "\n",
    "    return await gd.get_data(\n",
    "        url=url,\n",
    "        method=\"PUT\",\n",
    "        auth=auth,\n",
    "        body=body,\n",
    "        debug_api=debug_api,\n",
    "    )"
   ]
  },
  {
   "cell_type": "code",
   "execution_count": null,
   "metadata": {},
   "outputs": [],
   "source": [
    "# | export\n",
    "async def request_password_reset(\n",
    "    domo_instance: str, email: str, locale=\"en-us\", debug_api: bool = False\n",
    "):\n",
    "    url = f\"https://{domo_instance}.domo.com/api/domoweb/auth/sendReset\"\n",
    "\n",
    "    params = {\"email\": email, \"local\": locale}\n",
    "\n",
    "    return await gd.get_data(\n",
    "        url=url, method=\"GET\", params=params, auth=None, debug_api=debug_api\n",
    "    )"
   ]
  },
  {
   "cell_type": "code",
   "execution_count": null,
   "metadata": {},
   "outputs": [
    {
     "ename": "AssertionError",
     "evalue": "",
     "output_type": "error",
     "traceback": [
      "\u001b[0;31m---------------------------------------------------------------------------\u001b[0m",
      "\u001b[0;31mAssertionError\u001b[0m                            Traceback (most recent call last)",
      "Cell \u001b[0;32mIn[16], line 4\u001b[0m\n\u001b[1;32m      1\u001b[0m \u001b[39m# | hide\u001b[39;00m\n\u001b[1;32m      2\u001b[0m \u001b[39mimport\u001b[39;00m \u001b[39mnbdev\u001b[39;00m\n\u001b[0;32m----> 4\u001b[0m nbdev\u001b[39m.\u001b[39;49mnbdev_export()\n",
      "File \u001b[0;32m~/.python/current/lib/python3.10/site-packages/fastcore/script.py:110\u001b[0m, in \u001b[0;36mcall_parse.<locals>._f\u001b[0;34m(*args, **kwargs)\u001b[0m\n\u001b[1;32m    107\u001b[0m \u001b[39m@wraps\u001b[39m(func)\n\u001b[1;32m    108\u001b[0m \u001b[39mdef\u001b[39;00m \u001b[39m_f\u001b[39m(\u001b[39m*\u001b[39margs, \u001b[39m*\u001b[39m\u001b[39m*\u001b[39mkwargs):\n\u001b[1;32m    109\u001b[0m     mod \u001b[39m=\u001b[39m inspect\u001b[39m.\u001b[39mgetmodule(inspect\u001b[39m.\u001b[39mcurrentframe()\u001b[39m.\u001b[39mf_back)\n\u001b[0;32m--> 110\u001b[0m     \u001b[39mif\u001b[39;00m \u001b[39mnot\u001b[39;00m mod: \u001b[39mreturn\u001b[39;00m func(\u001b[39m*\u001b[39;49margs, \u001b[39m*\u001b[39;49m\u001b[39m*\u001b[39;49mkwargs)\n\u001b[1;32m    111\u001b[0m     \u001b[39mif\u001b[39;00m \u001b[39mnot\u001b[39;00m SCRIPT_INFO\u001b[39m.\u001b[39mfunc \u001b[39mand\u001b[39;00m mod\u001b[39m.\u001b[39m\u001b[39m__name__\u001b[39m\u001b[39m==\u001b[39m\u001b[39m\"\u001b[39m\u001b[39m__main__\u001b[39m\u001b[39m\"\u001b[39m: SCRIPT_INFO\u001b[39m.\u001b[39mfunc \u001b[39m=\u001b[39m func\u001b[39m.\u001b[39m\u001b[39m__name__\u001b[39m\n\u001b[1;32m    112\u001b[0m     \u001b[39mif\u001b[39;00m \u001b[39mlen\u001b[39m(sys\u001b[39m.\u001b[39margv)\u001b[39m>\u001b[39m\u001b[39m1\u001b[39m \u001b[39mand\u001b[39;00m sys\u001b[39m.\u001b[39margv[\u001b[39m1\u001b[39m]\u001b[39m==\u001b[39m\u001b[39m'\u001b[39m\u001b[39m'\u001b[39m: sys\u001b[39m.\u001b[39margv\u001b[39m.\u001b[39mpop(\u001b[39m1\u001b[39m)\n",
      "File \u001b[0;32m~/.python/current/lib/python3.10/site-packages/nbdev/doclinks.py:137\u001b[0m, in \u001b[0;36mnbdev_export\u001b[0;34m(path, **kwargs)\u001b[0m\n\u001b[1;32m    135\u001b[0m \u001b[39mif\u001b[39;00m os\u001b[39m.\u001b[39menviron\u001b[39m.\u001b[39mget(\u001b[39m'\u001b[39m\u001b[39mIN_TEST\u001b[39m\u001b[39m'\u001b[39m,\u001b[39m0\u001b[39m): \u001b[39mreturn\u001b[39;00m\n\u001b[1;32m    136\u001b[0m files \u001b[39m=\u001b[39m nbglob(path\u001b[39m=\u001b[39mpath, \u001b[39m*\u001b[39m\u001b[39m*\u001b[39mkwargs)\n\u001b[0;32m--> 137\u001b[0m \u001b[39mfor\u001b[39;00m f \u001b[39min\u001b[39;00m files: nb_export(f)\n\u001b[1;32m    138\u001b[0m add_init(get_config()\u001b[39m.\u001b[39mlib_path)\n\u001b[1;32m    139\u001b[0m _build_modidx()\n",
      "File \u001b[0;32m~/.python/current/lib/python3.10/site-packages/nbdev/export.py:59\u001b[0m, in \u001b[0;36mnb_export\u001b[0;34m(nbname, lib_path, procs, debug, mod_maker, name)\u001b[0m\n\u001b[1;32m     57\u001b[0m     \u001b[39mreturn\u001b[39;00m\n\u001b[1;32m     58\u001b[0m mm \u001b[39m=\u001b[39m mod_maker(dest\u001b[39m=\u001b[39mlib_path, name\u001b[39m=\u001b[39mnm, nb_path\u001b[39m=\u001b[39mnbname, is_new\u001b[39m=\u001b[39m\u001b[39mbool\u001b[39m(name) \u001b[39mor\u001b[39;00m mod\u001b[39m==\u001b[39m\u001b[39m'\u001b[39m\u001b[39m#\u001b[39m\u001b[39m'\u001b[39m)\n\u001b[0;32m---> 59\u001b[0m mm\u001b[39m.\u001b[39;49mmake(cells, all_cells, lib_path\u001b[39m=\u001b[39;49mlib_path)\n",
      "File \u001b[0;32m~/.python/current/lib/python3.10/site-packages/nbdev/maker.py:195\u001b[0m, in \u001b[0;36mmake\u001b[0;34m(self, cells, all_cells, lib_path)\u001b[0m\n\u001b[1;32m    193\u001b[0m     \u001b[39mif\u001b[39;00m \u001b[39mnot\u001b[39;00m lib_path: lib_path \u001b[39m=\u001b[39m get_config()\u001b[39m.\u001b[39mlib_path\n\u001b[1;32m    194\u001b[0m     mod_dir \u001b[39m=\u001b[39m os\u001b[39m.\u001b[39mpath\u001b[39m.\u001b[39mrelpath(\u001b[39mself\u001b[39m\u001b[39m.\u001b[39mfname\u001b[39m.\u001b[39mparent, Path(lib_path)\u001b[39m.\u001b[39mparent)\n\u001b[0;32m--> 195\u001b[0m     _import2relative(all_cells, mod_dir)\n\u001b[1;32m    196\u001b[0m \u001b[39mif\u001b[39;00m \u001b[39mnot\u001b[39;00m \u001b[39mself\u001b[39m\u001b[39m.\u001b[39mis_new: \u001b[39mreturn\u001b[39;00m \u001b[39mself\u001b[39m\u001b[39m.\u001b[39m_make_exists(cells, all_cells)\n\u001b[1;32m    198\u001b[0m \u001b[39mself\u001b[39m\u001b[39m.\u001b[39mfname\u001b[39m.\u001b[39mparent\u001b[39m.\u001b[39mmkdir(exist_ok\u001b[39m=\u001b[39m\u001b[39mTrue\u001b[39;00m, parents\u001b[39m=\u001b[39m\u001b[39mTrue\u001b[39;00m)\n",
      "File \u001b[0;32m~/.python/current/lib/python3.10/site-packages/nbdev/maker.py:174\u001b[0m, in \u001b[0;36m_import2relative\u001b[0;34m(cells, lib_name)\u001b[0m\n\u001b[1;32m    172\u001b[0m \u001b[39m\"\u001b[39m\u001b[39mConverts `cells` to use `import2relative` based on `lib_name`\u001b[39m\u001b[39m\"\u001b[39m\n\u001b[1;32m    173\u001b[0m \u001b[39mif\u001b[39;00m lib_name \u001b[39mis\u001b[39;00m \u001b[39mNone\u001b[39;00m: lib_name \u001b[39m=\u001b[39m get_config()\u001b[39m.\u001b[39mlib_name\n\u001b[0;32m--> 174\u001b[0m \u001b[39mfor\u001b[39;00m cell \u001b[39min\u001b[39;00m cells: cell\u001b[39m.\u001b[39;49mimport2relative(lib_name)\n",
      "File \u001b[0;32m~/.python/current/lib/python3.10/site-packages/nbdev/maker.py:158\u001b[0m, in \u001b[0;36mimport2relative\u001b[0;34m(cell, libname)\u001b[0m\n\u001b[1;32m    156\u001b[0m \u001b[39m@patch\u001b[39m\n\u001b[1;32m    157\u001b[0m \u001b[39mdef\u001b[39;00m \u001b[39mimport2relative\u001b[39m(cell:NbCell, libname):\n\u001b[0;32m--> 158\u001b[0m     src \u001b[39m=\u001b[39m update_import(cell\u001b[39m.\u001b[39;49msource, cell\u001b[39m.\u001b[39;49mparsed_(), libname)\n\u001b[1;32m    159\u001b[0m     \u001b[39mif\u001b[39;00m src: cell\u001b[39m.\u001b[39mset_source(src)\n",
      "File \u001b[0;32m~/.python/current/lib/python3.10/site-packages/nbdev/maker.py:149\u001b[0m, in \u001b[0;36mupdate_import\u001b[0;34m(source, tree, libname, f)\u001b[0m\n\u001b[1;32m    147\u001b[0m src \u001b[39m=\u001b[39m source\u001b[39m.\u001b[39msplitlines(\u001b[39mTrue\u001b[39;00m)\n\u001b[1;32m    148\u001b[0m \u001b[39mfor\u001b[39;00m imp \u001b[39min\u001b[39;00m imps:\n\u001b[0;32m--> 149\u001b[0m     nmod \u001b[39m=\u001b[39m f(imp\u001b[39m.\u001b[39;49mmodule, libname, imp\u001b[39m.\u001b[39;49mlevel)\n\u001b[1;32m    150\u001b[0m     lin \u001b[39m=\u001b[39m imp\u001b[39m.\u001b[39mlineno\u001b[39m-\u001b[39m\u001b[39m1\u001b[39m\n\u001b[1;32m    151\u001b[0m     sec \u001b[39m=\u001b[39m src[lin][imp\u001b[39m.\u001b[39mcol_offset:imp\u001b[39m.\u001b[39mend_col_offset]\n",
      "File \u001b[0;32m~/.python/current/lib/python3.10/site-packages/nbdev/maker.py:114\u001b[0m, in \u001b[0;36mrelative_import\u001b[0;34m(name, fname, level)\u001b[0m\n\u001b[1;32m    112\u001b[0m \u001b[39mdef\u001b[39;00m \u001b[39mrelative_import\u001b[39m(name, fname, level\u001b[39m=\u001b[39m\u001b[39m0\u001b[39m):\n\u001b[1;32m    113\u001b[0m     \u001b[39m\"\u001b[39m\u001b[39mConvert a module `name` to a name relative to `fname`\u001b[39m\u001b[39m\"\u001b[39m\n\u001b[0;32m--> 114\u001b[0m     \u001b[39massert\u001b[39;00m \u001b[39mnot\u001b[39;00m level\n\u001b[1;32m    115\u001b[0m     sname \u001b[39m=\u001b[39m name\u001b[39m.\u001b[39mreplace(\u001b[39m'\u001b[39m\u001b[39m.\u001b[39m\u001b[39m'\u001b[39m,\u001b[39m'\u001b[39m\u001b[39m/\u001b[39m\u001b[39m'\u001b[39m)\n\u001b[1;32m    116\u001b[0m     \u001b[39mif\u001b[39;00m \u001b[39mnot\u001b[39;00m(os\u001b[39m.\u001b[39mpath\u001b[39m.\u001b[39mcommonpath([sname,fname])): \u001b[39mreturn\u001b[39;00m name\n",
      "\u001b[0;31mAssertionError\u001b[0m: "
     ]
    }
   ],
   "source": [
    "# | hide\n",
    "import nbdev\n",
    "\n",
    "nbdev.nbdev_export()\n"
   ]
  }
 ],
 "metadata": {
  "jupytext": {
   "split_at_heading": true
  },
  "kernelspec": {
   "display_name": "Python 3",
   "language": "python",
   "name": "python3"
  }
 },
 "nbformat": 4,
 "nbformat_minor": 4
}
