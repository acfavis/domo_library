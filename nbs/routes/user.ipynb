{
 "cells": [
  {
   "attachments": {},
   "cell_type": "markdown",
   "metadata": {},
   "source": [
    "# User Routes\n",
    "\n",
    "> a functional approach, routes only, to interacting with domo users.\n"
   ]
  },
  {
   "attachments": {},
   "cell_type": "raw",
   "metadata": {},
   "source": [
    "---\n",
    "output-file: user_routes.html\n",
    "---"
   ]
  },
  {
   "cell_type": "code",
   "execution_count": null,
   "metadata": {},
   "outputs": [],
   "source": [
    "# | default_exp routes.user\n"
   ]
  },
  {
   "cell_type": "code",
   "execution_count": null,
   "metadata": {},
   "outputs": [],
   "source": [
    "# | exporti\n",
    "import utils.DictDot as dd\n",
    "import domolibrary.client.get_data as gd\n",
    "import domolibrary.client.ResponseGetData as rgd\n",
    "import domolibrary.client.DomoAuth as dmda\n"
   ]
  },
  {
   "attachments": {},
   "cell_type": "markdown",
   "metadata": {},
   "source": [
    "# GET Users"
   ]
  },
  {
   "cell_type": "code",
   "execution_count": null,
   "metadata": {},
   "outputs": [],
   "source": [
    "# | export\n",
    "async def get_all_users(\n",
    "    auth: dmda.DomoAuth, debug_api: bool = False\n",
    ") -> rgd.ResponseGetData:\n",
    "\n",
    "    \"\"\"retrieves all users from Domo\"\"\"\n",
    "    url = f\"https://{ auth.domo_instance}.domo.com/api/content/v2/users\"\n",
    "\n",
    "    return await gd.get_data(url=url, method=\"GET\", auth=auth, debug_api=debug_api)"
   ]
  },
  {
   "attachments": {},
   "cell_type": "markdown",
   "metadata": {},
   "source": [
    "#### sample implementation of get_all_users\n"
   ]
  },
  {
   "cell_type": "code",
   "execution_count": null,
   "metadata": {},
   "outputs": [
    {
     "data": {
      "text/plain": [
       "'2f4cb212853732ef796abd46077cf1162c0a3ed7cf1ff079'"
      ]
     },
     "execution_count": null,
     "metadata": {},
     "output_type": "execute_result"
    }
   ],
   "source": [
    "import os\n",
    "import pandas as pd\n",
    "\n",
    "token_auth = dmda.DomoTokenAuth(\n",
    "    domo_instance=\"domo-dojo\", \n",
    "    domo_access_token=os.environ[\"DOMO_DOJO_ACCESS_TOKEN\"]\n",
    ")\n",
    "\n",
    "res = await get_all_users(auth=token_auth)\n",
    "pd.DataFrame(res.response[0:5])\n",
    "\n",
    "os.environ['DOMO_DOJO_ACCESS_TOKEN']\n"
   ]
  },
  {
   "attachments": {},
   "cell_type": "markdown",
   "metadata": {},
   "source": [
    "# Search Users\n",
    "This series of functions searchse the v1_users_api.  The body of the search api can be retrieved by searching admin in the Domo User interface."
   ]
  },
  {
   "cell_type": "code",
   "execution_count": null,
   "metadata": {},
   "outputs": [],
   "source": [
    "# | export\n",
    "def generate_search_users_body_by_id(\n",
    "    user_ids: list[str],  # list of user ids to search\n",
    ") -> dict:  # dict to pass to search v1_users_search_api\n",
    "    \"\"\"search v1_users_search_api\"\"\"\n",
    "\n",
    "    return {\n",
    "        # \"showCount\": true,\n",
    "        # \"count\": false,\n",
    "        \"includeDeleted\": False,\n",
    "        \"includeSupport\": False,\n",
    "        \"filters\": [\n",
    "            {\"field\": \"id\", \"filterType\": \"value\", \"values\": user_ids, \"operator\": \"EQ\"}\n",
    "        ],\n",
    "    }"
   ]
  },
  {
   "cell_type": "code",
   "execution_count": null,
   "metadata": {},
   "outputs": [],
   "source": [
    "# | export\n",
    "def generate_search_users_body_by_email(\n",
    "    user_email_ls: list[ str ],  # list of user emails to search.  Note:  search does not appear to be case sensitive\n",
    ") -> dict:  # dict to pass to search v1_users_search_api\n",
    "    \"\"\"search v1_users_search_api\"\"\"\n",
    "\n",
    "    return {\n",
    "        # \"showCount\": true,\n",
    "        # \"count\": false,\n",
    "        \"includeDeleted\": False,\n",
    "        \"includeSupport\": False,\n",
    "        \"limit\": 200,\n",
    "        \"offset\": 0,\n",
    "        \"sort\": {\"field\": \"displayName\", \"order\": \"ASC\"},\n",
    "        \"filters\": [\n",
    "            {\n",
    "                \"filterType\": \"text\",\n",
    "                \"field\": \"emailAddress\",\n",
    "                \"text\": \" \".join(user_email_ls),\n",
    "            }\n",
    "        ],\n",
    "    }"
   ]
  },
  {
   "cell_type": "code",
   "execution_count": null,
   "metadata": {},
   "outputs": [
    {
     "data": {
      "text/plain": [
       "'2f4cb212853732ef796abd46077cf1162c0a3ed7cf1ff079'"
      ]
     },
     "execution_count": null,
     "metadata": {},
     "output_type": "execute_result"
    }
   ],
   "source": [
    "os.environ['DOMO_DOJO_ACCESS_TOKEN']"
   ]
  },
  {
   "cell_type": "code",
   "execution_count": null,
   "metadata": {},
   "outputs": [],
   "source": [
    "# | export\n",
    "def process_v1_search_users(v1_user_ls: list[dict] # list of users from v1_users_search API\n",
    ") -> list[dict]: # sanitized list of users.\n",
    "    \"\"\"sanitizes the response from v1_users_search API and removes unecessary attributes\"\"\"\n",
    "\n",
    "    clean_users = []\n",
    "\n",
    "    for obj_user in v1_user_ls:\n",
    "        \n",
    "        dd_user = dd.DictDot(obj_user)\n",
    "\n",
    "        clean_users.append( {\n",
    "            \"id\": dd_user.id,\n",
    "            \"displayName\": dd_user.displayName,\n",
    "            \"roleId\": dd_user.roleId,\n",
    "            \"userName\": dd_user.userName,\n",
    "            \"emailAddress\": dd_user.emailAddress,\n",
    "        })\n",
    "    \n",
    "    return clean_users\n"
   ]
  },
  {
   "cell_type": "code",
   "execution_count": null,
   "metadata": {},
   "outputs": [],
   "source": [
    "# | export\n",
    "async def search_users(\n",
    "    auth: dmda.DomoAuth,\n",
    "    body: dict,\n",
    "    debug_api: bool = False,\n",
    "    process_users: bool = True,\n",
    ") -> rgd.ResponseGetData:\n",
    "\n",
    "    url = f\"https://{auth.domo_instance}.domo.com/api/identity/v1/users/search\"\n",
    "\n",
    "    res = await gd.get_data(\n",
    "        url=url,\n",
    "        method=\"POST\",\n",
    "        auth=auth,\n",
    "        body=body,\n",
    "        debug_api=debug_api,\n",
    "    )\n",
    "\n",
    "    if process_users and res.is_success:\n",
    "        res.response = process_v1_search_users(res.response.get('users'))\n",
    "\n",
    "    return res\n"
   ]
  },
  {
   "attachments": {},
   "cell_type": "markdown",
   "metadata": {},
   "source": [
    "#### sample implementation of search_users\n"
   ]
  },
  {
   "cell_type": "code",
   "execution_count": null,
   "metadata": {},
   "outputs": [
    {
     "data": {
      "text/html": [
       "<div>\n",
       "<style scoped>\n",
       "    .dataframe tbody tr th:only-of-type {\n",
       "        vertical-align: middle;\n",
       "    }\n",
       "\n",
       "    .dataframe tbody tr th {\n",
       "        vertical-align: top;\n",
       "    }\n",
       "\n",
       "    .dataframe thead th {\n",
       "        text-align: right;\n",
       "    }\n",
       "</style>\n",
       "<table border=\"1\" class=\"dataframe\">\n",
       "  <thead>\n",
       "    <tr style=\"text-align: right;\">\n",
       "      <th></th>\n",
       "      <th>id</th>\n",
       "      <th>displayName</th>\n",
       "      <th>roleId</th>\n",
       "      <th>userName</th>\n",
       "      <th>emailAddress</th>\n",
       "    </tr>\n",
       "  </thead>\n",
       "  <tbody>\n",
       "    <tr>\n",
       "      <th>0</th>\n",
       "      <td>1893952720</td>\n",
       "      <td>Jae Wilson</td>\n",
       "      <td>1</td>\n",
       "      <td>jae@onyxreporting.com</td>\n",
       "      <td>jae@onyxreporting.com</td>\n",
       "    </tr>\n",
       "  </tbody>\n",
       "</table>\n",
       "</div>"
      ],
      "text/plain": [
       "           id displayName  roleId               userName  \\\n",
       "0  1893952720  Jae Wilson       1  jae@onyxreporting.com   \n",
       "\n",
       "            emailAddress  \n",
       "0  jae@onyxreporting.com  "
      ]
     },
     "execution_count": null,
     "metadata": {},
     "output_type": "execute_result"
    }
   ],
   "source": [
    "import os\n",
    "import pandas as pd\n",
    "\n",
    "token_auth = dmda.DomoTokenAuth(\n",
    "    domo_instance=\"domo-dojo\", \n",
    "    domo_access_token=os.environ[\"DOMO_DOJO_ACCESS_TOKEN\"]\n",
    ")\n",
    "\n",
    "search_email_body = generate_search_users_body_by_email(\n",
    "    user_email_ls=[\"jae@onyxreporting.com\"]\n",
    ")\n",
    "\n",
    "res = await search_users(\n",
    "    auth=token_auth, \n",
    "    body=search_email_body, \n",
    "    process_users=True, \n",
    "    debug_api=False\n",
    ")\n",
    "\n",
    "pd.DataFrame(res.response)"
   ]
  },
  {
   "attachments": {},
   "cell_type": "markdown",
   "metadata": {},
   "source": [
    "# Publish and Virtual Users\n",
    "> Virtual Users are necessary for assigning PDP policies when publish jobs are created."
   ]
  },
  {
   "cell_type": "code",
   "execution_count": null,
   "metadata": {},
   "outputs": [],
   "source": [
    "# | export\n",
    "async def search_virtual_user_by_subscriber_instance(\n",
    "    auth: dmda.DomoAuth, # domo auth object\n",
    "    subscriber_instance_ls : list[str], # list of subscriber domo instances\n",
    "    debug_api: bool = False, # debug API requests\n",
    ") -> rgd.ResponseGetData: # list of virtual domo users\n",
    "    \"\"\"retrieve virtual users for subscriber instances tied to one publisher\"\"\"\n",
    "\n",
    "    url = f\"https://{auth.domo_instance}.domo.com/api/publish/v2/proxy_user/domain/\"\n",
    "\n",
    "    body = {\"domains\": [f\"{subscriber_instance}.domo.com\"\n",
    "                        for subscriber_instance in subscriber_instance_ls]}\n",
    "\n",
    "    return await gd.get_data(\n",
    "        url=url,\n",
    "        method=\"POST\",\n",
    "        auth=auth,\n",
    "        body=body,\n",
    "        debug_api=debug_api,\n",
    "    )"
   ]
  },
  {
   "attachments": {},
   "cell_type": "markdown",
   "metadata": {},
   "source": [
    "#### sample of search virtual users by subscriber_instance"
   ]
  },
  {
   "cell_type": "code",
   "execution_count": null,
   "metadata": {},
   "outputs": [
    {
     "data": {
      "text/html": [
       "<div>\n",
       "<style scoped>\n",
       "    .dataframe tbody tr th:only-of-type {\n",
       "        vertical-align: middle;\n",
       "    }\n",
       "\n",
       "    .dataframe tbody tr th {\n",
       "        vertical-align: top;\n",
       "    }\n",
       "\n",
       "    .dataframe thead th {\n",
       "        text-align: right;\n",
       "    }\n",
       "</style>\n",
       "<table border=\"1\" class=\"dataframe\">\n",
       "  <thead>\n",
       "    <tr style=\"text-align: right;\">\n",
       "      <th></th>\n",
       "      <th>id</th>\n",
       "      <th>publisherDomain</th>\n",
       "      <th>customerId</th>\n",
       "      <th>subscriberDomain</th>\n",
       "      <th>virtualUserId</th>\n",
       "      <th>created</th>\n",
       "      <th>activeSubscriptions</th>\n",
       "    </tr>\n",
       "  </thead>\n",
       "  <tbody>\n",
       "    <tr>\n",
       "      <th>0</th>\n",
       "      <td>2bcabab7-128e-4f47-8219-c8548588d7fc</td>\n",
       "      <td>domo-dojo.domo.com</td>\n",
       "      <td>mmmm-0012-0200</td>\n",
       "      <td>domo-dojo.domo.com</td>\n",
       "      <td>fc:ce69e5f0-ab88-46df-94ab-32b5f6dfd4e7</td>\n",
       "      <td>1674251102000</td>\n",
       "      <td>0</td>\n",
       "    </tr>\n",
       "    <tr>\n",
       "      <th>1</th>\n",
       "      <td>57999e9b-e8a2-48ab-80c6-edf2627b71fc</td>\n",
       "      <td>domo-dojo.domo.com</td>\n",
       "      <td>mmmm-0012-0200</td>\n",
       "      <td>test.domo.com</td>\n",
       "      <td>fc:b3d7aaa1-9bc8-4481-9d34-c153a9b91b22</td>\n",
       "      <td>1674253476000</td>\n",
       "      <td>0</td>\n",
       "    </tr>\n",
       "  </tbody>\n",
       "</table>\n",
       "</div>"
      ],
      "text/plain": [
       "                                     id     publisherDomain      customerId  \\\n",
       "0  2bcabab7-128e-4f47-8219-c8548588d7fc  domo-dojo.domo.com  mmmm-0012-0200   \n",
       "1  57999e9b-e8a2-48ab-80c6-edf2627b71fc  domo-dojo.domo.com  mmmm-0012-0200   \n",
       "\n",
       "     subscriberDomain                            virtualUserId        created  \\\n",
       "0  domo-dojo.domo.com  fc:ce69e5f0-ab88-46df-94ab-32b5f6dfd4e7  1674251102000   \n",
       "1       test.domo.com  fc:b3d7aaa1-9bc8-4481-9d34-c153a9b91b22  1674253476000   \n",
       "\n",
       "   activeSubscriptions  \n",
       "0                    0  \n",
       "1                    0  "
      ]
     },
     "execution_count": null,
     "metadata": {},
     "output_type": "execute_result"
    }
   ],
   "source": [
    "import os\n",
    "import pandas as pd\n",
    "\n",
    "token_auth = dmda.DomoTokenAuth(\n",
    "    domo_instance=\"domo-dojo\", \n",
    "    domo_access_token=os.environ[\"DOMO_DOJO_ACCESS_TOKEN\"]\n",
    ")\n",
    "\n",
    "res = await search_virtual_user_by_subscriber_instance(\n",
    "    auth = token_auth,\n",
    "    subscriber_instance_ls = ['domo-dojo', 'test'],\n",
    "    debug_api = False\n",
    "    )\n",
    "\n",
    "\n",
    "pd.DataFrame(res.response)"
   ]
  },
  {
   "attachments": {},
   "cell_type": "markdown",
   "metadata": {},
   "source": [
    "# CRUD Routes and User Attributes\n"
   ]
  },
  {
   "cell_type": "code",
   "execution_count": null,
   "metadata": {},
   "outputs": [],
   "source": [
    "# | export\n",
    "async def create_user(\n",
    "    auth: dmda.DomoAuth,\n",
    "    display_name: str,\n",
    "    email: str,\n",
    "    role_id: int,\n",
    "    debug_api: bool = False,\n",
    ") -> rgd.ResponseGetData:\n",
    "\n",
    "    url = f\"https://{auth.domo_instance}.domo.com/api/content/v3/users\"\n",
    "\n",
    "    body = {\"displayName\": display_name, \"detail\": {\"email\": email}, \"roleId\": role_id}\n",
    "\n",
    "    return await gd.get_data(\n",
    "        url=url, method=\"POST\", body=body, auth=auth, debug_api=debug_api\n",
    "    )"
   ]
  },
  {
   "cell_type": "code",
   "execution_count": null,
   "metadata": {},
   "outputs": [],
   "source": [
    "# | export\n",
    "async def set_user_landing_page(\n",
    "    auth: dmda.DomoAuth, user_id: str, page_id: str, debug_api: bool = False\n",
    "):\n",
    "\n",
    "    url = f\"https://{auth.domo_instance}.domo.com/api/content/v1/landings/target/DESKTOP/entity/PAGE/id/{page_id}/{user_id}\"\n",
    "\n",
    "    return await gd.get_data(\n",
    "        url=url,\n",
    "        method=\"PUT\",\n",
    "        auth=auth,\n",
    "        # body = body,\n",
    "        debug_api=debug_api,\n",
    "    )"
   ]
  },
  {
   "cell_type": "code",
   "execution_count": null,
   "metadata": {},
   "outputs": [],
   "source": [
    "# | export\n",
    "async def reset_password(\n",
    "    auth: dmda.DomoAuth,\n",
    "    user_id: str,\n",
    "    new_password: str,\n",
    "    debug_api: bool = False,\n",
    ") -> rgd.ResponseGetData:\n",
    "\n",
    "    url = f\"https://{auth.domo_instance}.domo.com/api/identity/v1/password\"\n",
    "\n",
    "    body = {\"domoUserId\": user_id, \"password\": new_password}\n",
    "\n",
    "    return await gd.get_data(\n",
    "        url=url,\n",
    "        method=\"PUT\",\n",
    "        auth=auth,\n",
    "        body=body,\n",
    "        debug_api=debug_api,\n",
    "    )"
   ]
  },
  {
   "cell_type": "code",
   "execution_count": null,
   "metadata": {},
   "outputs": [],
   "source": [
    "# | export\n",
    "async def request_password_reset(\n",
    "    domo_instance: str, email: str, locale=\"en-us\", debug_api: bool = False\n",
    "):\n",
    "    url = f\"https://{domo_instance}.domo.com/api/domoweb/auth/sendReset\"\n",
    "\n",
    "    params = {\"email\": email, \"local\": locale}\n",
    "\n",
    "    return await gd.get_data(\n",
    "        url=url, method=\"GET\", params=params, auth=None, debug_api=debug_api\n",
    "    )"
   ]
  },
  {
   "cell_type": "code",
   "execution_count": null,
   "metadata": {},
   "outputs": [],
   "source": [
    "# | hide\n",
    "import nbdev\n",
    "\n",
    "nbdev.nbdev_export()\n"
   ]
  }
 ],
 "metadata": {
  "jupytext": {
   "split_at_heading": true
  },
  "kernelspec": {
   "display_name": "Python 3",
   "language": "python",
   "name": "python3"
  }
 },
 "nbformat": 4,
 "nbformat_minor": 4
}
