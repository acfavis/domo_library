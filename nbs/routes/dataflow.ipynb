{
 "cells": [
  {
   "cell_type": "raw",
   "metadata": {},
   "source": [
    "---\n",
    "description: Default description (change me)\n",
    "output-file: routes.dataflow_routes.html\n",
    "title: Default Title (change me)\n",
    "\n",
    "---\n",
    "\n"
   ]
  },
  {
   "cell_type": "code",
   "execution_count": null,
   "metadata": {},
   "outputs": [],
   "source": [
    "#| default_exp routes.dataflow_routes"
   ]
  },
  {
   "cell_type": "code",
   "execution_count": null,
   "metadata": {},
   "outputs": [],
   "source": [
    "#| exporti\n",
    "import httpx\n",
    "import pandas as pd\n",
    "import io\n",
    "from pprint import pprint\n",
    "\n",
    "import utils.DictDot as dd\n",
    "import domolibrary.client.get_data as gd\n",
    "import domolibrary.client.ResponseGetData as rgd\n",
    "import domolibrary.client.DomoAuth as dmda"
   ]
  },
  {
   "cell_type": "code",
   "execution_count": null,
   "metadata": {},
   "outputs": [],
   "source": [
    "#| export\n",
    "async def get_dataflow_by_id(dataflow_id: int,\n",
    "                            auth: dmda.DomoAuth,\n",
    "                            debug_api: bool = False) -> rgd.ResponseGetData:\n",
    "    domo_instance = auth.domo_instance\n",
    "\n",
    "    url = f'https://{domo_instance}.domo.com/api/dataprocessing/v1/dataflows/{dataflow_id}'\n",
    "\n",
    "    return await gd.get_data(\n",
    "        auth=auth,\n",
    "        url=url,\n",
    "        method='GET',\n",
    "        debug_api=debug_api,\n",
    "    )\n",
    "\n",
    "\n"
   ]
  },
  {
   "attachments": {},
   "cell_type": "markdown",
   "metadata": {},
   "source": [
    "#### Sample implementation of get_dataset by ID"
   ]
  },
  {
   "cell_type": "code",
   "execution_count": null,
   "metadata": {},
   "outputs": [
    {
     "data": {
      "text/plain": [
       "dict_keys(['id', 'name', 'dapDataFlowId', 'responsibleUserId', 'runState', 'onboardFlowVersion', 'lastExecution', 'created', 'modified', 'actions', 'engineProperties', 'inputs', 'outputs', 'executionCount', 'executionSuccessCount', 'hydrationState', 'useLegacyTriggerBehavior', 'passwordProtected', 'deleted', 'abandoned', 'neverAbandon', 'settings', 'paused', 'enabled', 'editable', 'restricted', 'container', 'databaseType', 'triggeredByInput', 'draft', 'numInputs', 'numOutputs', 'magic'])"
      ]
     },
     "execution_count": null,
     "metadata": {},
     "output_type": "execute_result"
    }
   ],
   "source": [
    "import os\n",
    "import pandas as pd\n",
    "\n",
    "token_auth = dmda.DomoTokenAuth(\n",
    "    domo_instance=\"domo-dojo\", \n",
    "    domo_access_token=os.environ[\"DOMO_DOJO_ACCESS_TOKEN\"]\n",
    ")\n",
    "\n",
    "res = await get_dataflow_by_id(dataflow_id = 102, auth=token_auth)\n",
    "res.response.keys()"
   ]
  }
 ],
 "metadata": {
  "jupytext": {
   "split_at_heading": true
  },
  "kernelspec": {
   "display_name": "Python 3",
   "language": "python",
   "name": "python3"
  }
 },
 "nbformat": 4,
 "nbformat_minor": 4
}
