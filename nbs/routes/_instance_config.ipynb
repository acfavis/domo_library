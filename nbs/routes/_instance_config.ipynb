{
  "cells": [
    {
      "cell_type": "raw",
      "metadata": {},
      "source": [
        "---\n",
        "title: Instance Config Routes\n",
        "output-file: instance_config_routes.html\n",
        "---\n",
        "\n"
      ]
    },
    {
      "cell_type": "code",
      "execution_count": 1,
      "metadata": {},
      "outputs": [],
      "source": [
        "# | default_exp routes.instance_config"
      ]
    },
    {
      "cell_type": "code",
      "execution_count": 2,
      "metadata": {},
      "outputs": [],
      "source": [
        "# | export\n",
        "import httpx\n",
        "\n",
        "import domolibrary.client.get_data as gd\n",
        "import domolibrary.client.ResponseGetData as rgd\n",
        "import domolibrary.client.DomoAuth as dmda"
      ]
    },
    {
      "cell_type": "code",
      "execution_count": 3,
      "metadata": {},
      "outputs": [],
      "source": [
        "# | export\n",
        "async def get_allowlist(\n",
        "    auth: dmda.DomoFullAuth,\n",
        "    session: httpx.AsyncClient = None,\n",
        "    debug_api: bool = False,\n",
        ") -> rgd.ResponseGetData:\n",
        "\n",
        "    if auth.__class__.__name__ != 'DomoFullAuth':\n",
        "        raise dmda.InvalidAuthTypeError(function_name='get_allowlist',\n",
        "                                        domo_instance=auth.domo_instance, \n",
        "                                        required_auth_type =  dmda.DomoFullAuth )\n",
        "\n",
        "    url = f\"https://{auth.domo_instance}.domo.com/admin/companysettings/whitelist\"\n",
        "\n",
        "    res = await gd.get_data(auth=auth, url=url, method=\"GET\", session=session, debug_api=debug_api, is_allow_redirects = True)\n",
        "\n",
        "    return res\n"
      ]
    },
    {
      "cell_type": "code",
      "execution_count": 4,
      "metadata": {},
      "outputs": [
        {
          "name": "stdout",
          "output_type": "stream",
          "text": [
            "get_allowlist: This API rquires DomoFullAuth at domo-dojo\n"
          ]
        }
      ],
      "source": [
        "import os\n",
        "import requests\n",
        "\n",
        "auth = dmda.DomoTokenAuth(\n",
        "    domo_instance=\"domo-dojo\",\n",
        "    domo_access_token = os.environ['DOMO_DOJO_ACCESS_TOKEN']\n",
        ")\n",
        "\n",
        "try:\n",
        "    await get_allowlist(auth = auth)\n",
        "except dmda.InvalidAuthTypeError as e:\n",
        "    print(e)"
      ]
    },
    {
      "cell_type": "code",
      "execution_count": 5,
      "metadata": {},
      "outputs": [
        {
          "name": "stdout",
          "output_type": "stream",
          "text": [
            "eyJjdXN0b21lcklkIjoibW1tbS0wMDEyLTAzNTAiLCJleHBpcmF0aW9uIjoxNjc1OTIzNjUzMTMwLCJobWFjU2lnbmF0dXJlIjoiYzQxYjdmNDQwNTBlNTMzYTlhZmJjY2FiMjVjMjkwNWE3YzdkNTk3YTU4NDUzM2JkYThhM2U4ZjU5YTdmZWNiMiIsInJvbGUiOiJBZG1pbiIsInNpZCI6IjgxYzM1ODNhLWJlZjktNGZhYy1hZGM0LTkxZDM3NDUwNTRiNCIsInRpbWVzdGFtcCI6MTY3NTg5NDg1MzEzMCwidG9lcyI6IlVOS05PV05TSUQiLCJ1c2VySWQiOiI5NjQ4MjgyMDkifQ%3D%3D\n"
          ]
        },
        {
          "ename": "TypeError",
          "evalue": "get_data() got an unexpected keyword argument 'is_allow_redirects'",
          "output_type": "error",
          "traceback": [
            "\u001b[0;31m---------------------------------------------------------------------------\u001b[0m",
            "\u001b[0;31mTypeError\u001b[0m                                 Traceback (most recent call last)",
            "Cell \u001b[0;32mIn[5], line 21\u001b[0m\n\u001b[1;32m     17\u001b[0m \u001b[39mprint\u001b[39m(\u001b[39mawait\u001b[39;00m auth\u001b[39m.\u001b[39mget_auth_token())\n\u001b[1;32m     18\u001b[0m url \u001b[39m=\u001b[39m \u001b[39mf\u001b[39m\u001b[39m\"\u001b[39m\u001b[39mhttps://\u001b[39m\u001b[39m{\u001b[39;00mauth\u001b[39m.\u001b[39mdomo_instance\u001b[39m}\u001b[39;00m\u001b[39m.domo.com/admin/companysettings/whitelist\u001b[39m\u001b[39m\"\u001b[39m\n\u001b[0;32m---> 21\u001b[0m res \u001b[39m=\u001b[39m \u001b[39mawait\u001b[39;00m get_allowlist(auth \u001b[39m=\u001b[39m auth)\n\u001b[1;32m     22\u001b[0m res\n",
            "Cell \u001b[0;32mIn[3], line 15\u001b[0m, in \u001b[0;36mget_allowlist\u001b[0;34m(auth, session, debug_api)\u001b[0m\n\u001b[1;32m      9\u001b[0m     \u001b[39mraise\u001b[39;00m dmda\u001b[39m.\u001b[39mInvalidAuthTypeError(function_name\u001b[39m=\u001b[39m\u001b[39m'\u001b[39m\u001b[39mget_allowlist\u001b[39m\u001b[39m'\u001b[39m,\n\u001b[1;32m     10\u001b[0m                                     domo_instance\u001b[39m=\u001b[39mauth\u001b[39m.\u001b[39mdomo_instance, \n\u001b[1;32m     11\u001b[0m                                     required_auth_type \u001b[39m=\u001b[39m  dmda\u001b[39m.\u001b[39mDomoFullAuth )\n\u001b[1;32m     13\u001b[0m url \u001b[39m=\u001b[39m \u001b[39mf\u001b[39m\u001b[39m\"\u001b[39m\u001b[39mhttps://\u001b[39m\u001b[39m{\u001b[39;00mauth\u001b[39m.\u001b[39mdomo_instance\u001b[39m}\u001b[39;00m\u001b[39m.domo.com/admin/companysettings/whitelist\u001b[39m\u001b[39m\"\u001b[39m\n\u001b[0;32m---> 15\u001b[0m res \u001b[39m=\u001b[39m \u001b[39mawait\u001b[39;00m gd\u001b[39m.\u001b[39;49mget_data(auth\u001b[39m=\u001b[39;49mauth, url\u001b[39m=\u001b[39;49murl, method\u001b[39m=\u001b[39;49m\u001b[39m\"\u001b[39;49m\u001b[39mGET\u001b[39;49m\u001b[39m\"\u001b[39;49m, session\u001b[39m=\u001b[39;49msession, debug_api\u001b[39m=\u001b[39;49mdebug_api, is_allow_redirects \u001b[39m=\u001b[39;49m \u001b[39mTrue\u001b[39;49;00m)\n\u001b[1;32m     17\u001b[0m \u001b[39mreturn\u001b[39;00m res\n",
            "\u001b[0;31mTypeError\u001b[0m: get_data() got an unexpected keyword argument 'is_allow_redirects'"
          ]
        }
      ],
      "source": [
        "import os\n",
        "import requests\n",
        "\n",
        "auth = dmda.DomoFullAuth(\n",
        "    domo_instance=\"domo-dojo\",\n",
        "    domo_username = \"jae@onyxreporting.com\",\n",
        "    domo_password = os.environ['DOJO_PASSWORD']\n",
        ")\n",
        "\n",
        "auth = dmda.DomoFullAuth(\n",
        "    domo_instance=os.environ['BETA_INSTANCE'],\n",
        "    domo_username = os.environ['BETA_USERNAME'],\n",
        "    domo_password = os.environ['BETA_PASSWORD']\n",
        ")\n",
        "# await get_allowlist(auth = auth)\n",
        "\n",
        "print(await auth.get_auth_token())\n",
        "url = f\"https://{auth.domo_instance}.domo.com/admin/companysettings/whitelist\"\n",
        "\n",
        "\n",
        "res = await get_allowlist(auth = auth)\n",
        "res\n"
      ]
    },
    {
      "cell_type": "code",
      "execution_count": null,
      "metadata": {},
      "outputs": [
        {
          "ename": "InvalidAuthTypeError",
          "evalue": "get_allowlist: This API rquires DomoFullAuth at domo-dojo",
          "output_type": "error",
          "traceback": [
            "\u001b[0;31m---------------------------------------------------------------------------\u001b[0m",
            "\u001b[0;31mInvalidAuthTypeError\u001b[0m                      Traceback (most recent call last)",
            "Cell \u001b[0;32mIn[7], line 9\u001b[0m\n\u001b[1;32m      2\u001b[0m \u001b[39mimport\u001b[39;00m \u001b[39mpandas\u001b[39;00m \u001b[39mas\u001b[39;00m \u001b[39mpd\u001b[39;00m\n\u001b[1;32m      4\u001b[0m token_auth \u001b[39m=\u001b[39m dmda\u001b[39m.\u001b[39mDomoTokenAuth(\n\u001b[1;32m      5\u001b[0m     domo_instance\u001b[39m=\u001b[39m\u001b[39m\"\u001b[39m\u001b[39mdomo-dojo\u001b[39m\u001b[39m\"\u001b[39m,\n\u001b[1;32m      6\u001b[0m     domo_access_token\u001b[39m=\u001b[39mos\u001b[39m.\u001b[39menviron[\u001b[39m\"\u001b[39m\u001b[39mDOMO_DOJO_ACCESS_TOKEN\u001b[39m\u001b[39m\"\u001b[39m]\n\u001b[1;32m      7\u001b[0m )\n\u001b[0;32m----> 9\u001b[0m \u001b[39mawait\u001b[39;00m get_allowlist(auth \u001b[39m=\u001b[39mtoken_auth)\n",
            "Cell \u001b[0;32mIn[3], line 9\u001b[0m, in \u001b[0;36mget_allowlist\u001b[0;34m(auth, session, debug_api)\u001b[0m\n\u001b[1;32m      2\u001b[0m \u001b[39masync\u001b[39;00m \u001b[39mdef\u001b[39;00m \u001b[39mget_allowlist\u001b[39m(\n\u001b[1;32m      3\u001b[0m     auth: dmda\u001b[39m.\u001b[39mDomoFullAuth,\n\u001b[1;32m      4\u001b[0m     session: httpx\u001b[39m.\u001b[39mAsyncClient \u001b[39m=\u001b[39m \u001b[39mNone\u001b[39;00m,\n\u001b[1;32m      5\u001b[0m     debug_api: \u001b[39mbool\u001b[39m \u001b[39m=\u001b[39m \u001b[39mFalse\u001b[39;00m,\n\u001b[1;32m      6\u001b[0m ) \u001b[39m-\u001b[39m\u001b[39m>\u001b[39m rgd\u001b[39m.\u001b[39mResponseGetData:\n\u001b[1;32m      8\u001b[0m     \u001b[39mif\u001b[39;00m auth\u001b[39m.\u001b[39m\u001b[39m__class__\u001b[39m\u001b[39m.\u001b[39m\u001b[39m__name__\u001b[39m \u001b[39m!=\u001b[39m \u001b[39m'\u001b[39m\u001b[39mDomoFullAuth\u001b[39m\u001b[39m'\u001b[39m:\n\u001b[0;32m----> 9\u001b[0m         \u001b[39mraise\u001b[39;00m dmda\u001b[39m.\u001b[39mInvalidAuthTypeError(function_name\u001b[39m=\u001b[39m\u001b[39m'\u001b[39m\u001b[39mget_allowlist\u001b[39m\u001b[39m'\u001b[39m,\n\u001b[1;32m     10\u001b[0m                                         domo_instance\u001b[39m=\u001b[39mauth\u001b[39m.\u001b[39mdomo_instance, \n\u001b[1;32m     11\u001b[0m                                         required_auth_type \u001b[39m=\u001b[39m  dmda\u001b[39m.\u001b[39mDomoFullAuth )\n\u001b[1;32m     13\u001b[0m     url \u001b[39m=\u001b[39m \u001b[39mf\u001b[39m\u001b[39m\"\u001b[39m\u001b[39mhttps://\u001b[39m\u001b[39m{\u001b[39;00mauth\u001b[39m.\u001b[39mdomo_instance\u001b[39m}\u001b[39;00m\u001b[39m.domo.com/admin/companysettings/whitelist\u001b[39m\u001b[39m\"\u001b[39m\n\u001b[1;32m     15\u001b[0m     res \u001b[39m=\u001b[39m \u001b[39mawait\u001b[39;00m gd\u001b[39m.\u001b[39mget_data(auth\u001b[39m=\u001b[39mauth, url\u001b[39m=\u001b[39murl, method\u001b[39m=\u001b[39m\u001b[39m\"\u001b[39m\u001b[39mGET\u001b[39m\u001b[39m\"\u001b[39m, session\u001b[39m=\u001b[39msession, debug_api\u001b[39m=\u001b[39mdebug_api, is_allow_redirects \u001b[39m=\u001b[39m \u001b[39mTrue\u001b[39;00m)\n",
            "\u001b[0;31mInvalidAuthTypeError\u001b[0m: get_allowlist: This API rquires DomoFullAuth at domo-dojo"
          ]
        }
      ],
      "source": [
        "import os\n",
        "import pandas as pd\n",
        "\n",
        "token_auth = dmda.DomoTokenAuth(\n",
        "    domo_instance=\"domo-dojo\",\n",
        "    domo_access_token=os.environ[\"DOMO_DOJO_ACCESS_TOKEN\"]\n",
        ")\n",
        "\n",
        "await get_allowlist(auth =token_auth)"
      ]
    },
    {
      "cell_type": "code",
      "execution_count": null,
      "metadata": {},
      "outputs": [
        {
          "ename": "NameError",
          "evalue": "name 'DomoAuth' is not defined",
          "output_type": "error",
          "traceback": [
            "\u001b[0;31m---------------------------------------------------------------------------\u001b[0m",
            "\u001b[0;31mNameError\u001b[0m                                 Traceback (most recent call last)",
            "Cell \u001b[0;32mIn[5], line 3\u001b[0m\n\u001b[1;32m      1\u001b[0m \u001b[39m# | export\u001b[39;00m\n\u001b[1;32m      2\u001b[0m \u001b[39masync\u001b[39;00m \u001b[39mdef\u001b[39;00m \u001b[39mupdate_whitelist\u001b[39m(\n\u001b[0;32m----> 3\u001b[0m     auth: DomoAuth,\n\u001b[1;32m      4\u001b[0m     ip_address_list: \u001b[39mlist\u001b[39m[\u001b[39mstr\u001b[39m],\n\u001b[1;32m      5\u001b[0m     debug_api: \u001b[39mbool\u001b[39m \u001b[39m=\u001b[39m \u001b[39mFalse\u001b[39;00m,\n\u001b[1;32m      6\u001b[0m     log_results: \u001b[39mbool\u001b[39m \u001b[39m=\u001b[39m \u001b[39mFalse\u001b[39;00m,\n\u001b[1;32m      7\u001b[0m ) \u001b[39m-\u001b[39m\u001b[39m>\u001b[39m rgd\u001b[39m.\u001b[39mResponseGetData:\n\u001b[1;32m      8\u001b[0m     url \u001b[39m=\u001b[39m \u001b[39mf\u001b[39m\u001b[39m\"\u001b[39m\u001b[39mhttps://\u001b[39m\u001b[39m{\u001b[39;00mauth\u001b[39m.\u001b[39mdomo_instance\u001b[39m}\u001b[39;00m\u001b[39m.domo.com/admin/companysettings/whitelist\u001b[39m\u001b[39m\"\u001b[39m\n\u001b[1;32m     10\u001b[0m     body \u001b[39m=\u001b[39m {\u001b[39m\"\u001b[39m\u001b[39maddresses\u001b[39m\u001b[39m\"\u001b[39m: ip_address_list}\n",
            "\u001b[0;31mNameError\u001b[0m: name 'DomoAuth' is not defined"
          ]
        }
      ],
      "source": [
        "# | export\n",
        "async def update_whitelist(\n",
        "    auth: DomoAuth,\n",
        "    ip_address_list: list[str],\n",
        "    debug_api: bool = False,\n",
        "    log_results: bool = False,\n",
        ") -> rgd.ResponseGetData:\n",
        "    url = f\"https://{auth.domo_instance}.domo.com/admin/companysettings/whitelist\"\n",
        "\n",
        "    body = {\"addresses\": ip_address_list}\n",
        "\n",
        "    if debug_api:\n",
        "        print(url)\n",
        "        print(body)\n",
        "\n",
        "    res = await gd.get_data(\n",
        "        auth=auth,\n",
        "        url=url,\n",
        "        method=\"PUT\",\n",
        "        body=body,\n",
        "        log_results=log_results,\n",
        "        debug_api=debug_api,\n",
        "    )\n",
        "\n",
        "    return res"
      ]
    },
    {
      "cell_type": "code",
      "execution_count": null,
      "metadata": {},
      "outputs": [],
      "source": [
        "# | export\n",
        "async def update_authorized_domains(\n",
        "    auth: DomoAuth,\n",
        "    authorized_domain_list: list[str],\n",
        "    debug_api: bool = False,\n",
        "    log_results: bool = False,\n",
        "    session: httpx.AsyncClient = None,\n",
        "):\n",
        "    url = f\"https://{auth.domo_instance}.domo.com/api/content/v1/customer-states/authorized-domains\"\n",
        "\n",
        "    body = {\"name\": \"authorized-domains\", \"value\": \",\".join(authorized_domain_list)}\n",
        "\n",
        "    if debug_api:\n",
        "        print(url)\n",
        "\n",
        "    res = await gd.get_data(\n",
        "        auth=auth,\n",
        "        url=url,\n",
        "        method=\"PUT\",\n",
        "        body=body,\n",
        "        log_results=log_results,\n",
        "        debug_api=debug_api,\n",
        "        session=session,\n",
        "    )\n",
        "\n",
        "    return res"
      ]
    },
    {
      "cell_type": "code",
      "execution_count": null,
      "metadata": {},
      "outputs": [],
      "source": [
        "# | export\n",
        "async def get_authorized_domains(\n",
        "    auth: DomoAuth,\n",
        "    debug_api: bool = False,\n",
        "    log_results: bool = False,\n",
        "    session: httpx.AsyncClient = None,\n",
        "):\n",
        "    url = f\"https://{auth.domo_instance}.domo.com/api/content/v1/customer-states/authorized-domains\"\n",
        "\n",
        "    if debug_api:\n",
        "        print(url)\n",
        "\n",
        "    res = await gd.get_data(\n",
        "        auth=auth,\n",
        "        url=url,\n",
        "        method=\"GET\",\n",
        "        log_results=log_results,\n",
        "        debug_api=debug_api,\n",
        "        session=session,\n",
        "    )\n",
        "\n",
        "    return res"
      ]
    },
    {
      "cell_type": "code",
      "execution_count": null,
      "metadata": {},
      "outputs": [],
      "source": [
        "# | hide\n",
        "import nbdev\n",
        "\n",
        "nbdev.nbdev_export()"
      ]
    }
  ],
  "metadata": {
    "jupytext": {
      "split_at_heading": true
    },
    "kernelspec": {
      "display_name": "Python 3",
      "language": "python",
      "name": "python3"
    },
    "language_info": {
      "codemirror_mode": {
        "name": "ipython",
        "version": 3
      },
      "file_extension": ".py",
      "mimetype": "text/x-python",
      "name": "python",
      "nbconvert_exporter": "python",
      "pygments_lexer": "ipython3",
      "version": "3.10.4"
    },
    "vscode": {
      "interpreter": {
        "hash": "3ad933181bd8a04b432d3370b9dc3b0662ad032c4dfaa4e4f1596c548f763858"
      }
    }
  },
  "nbformat": 4,
  "nbformat_minor": 4
}
