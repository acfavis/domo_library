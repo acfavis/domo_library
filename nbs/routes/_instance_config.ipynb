{
 "cells": [
  {
   "cell_type": "raw",
   "metadata": {},
   "source": [
    "---\n",
    "title: Instance Config Routes\n",
    "output-file: instance_config_routes.html\n",
    "---\n",
    "\n"
   ]
  },
  {
   "cell_type": "code",
   "execution_count": null,
   "metadata": {},
   "outputs": [],
   "source": [
    "# | default_exp routes.instance_config\n"
   ]
  },
  {
   "cell_type": "code",
   "execution_count": null,
   "metadata": {},
   "outputs": [],
   "source": [
    "# | export\n",
    "import httpx\n",
    "\n",
    "import domolibrary.client.get_data as gd\n",
    "import domolibrary.client.ResponseGetData as rgd\n",
    "import domolibrary.client.DomoAuth as dmda\n",
    "import domolibrary.client.DomoError as de\n"
   ]
  },
  {
   "cell_type": "code",
   "execution_count": null,
   "metadata": {},
   "outputs": [],
   "source": [
    "# | export\n",
    "async def get_allowlist(\n",
    "    auth: dmda.DomoFullAuth,\n",
    "    session: httpx.AsyncClient = None,\n",
    "    debug_api: bool = False,\n",
    "    return_raw: bool = False,\n",
    ") -> rgd.ResponseGetData:\n",
    "\n",
    "    if auth.__class__.__name__ != \"DomoFullAuth\":\n",
    "        raise dmda.InvalidAuthTypeError(\n",
    "            function_name=\"get_allowlist\",\n",
    "            domo_instance=auth.domo_instance,\n",
    "            required_auth_type=dmda.DomoFullAuth,\n",
    "        )\n",
    "\n",
    "    url = f\"https://{auth.domo_instance}.domo.com/admin/companysettings/whitelist\"\n",
    "\n",
    "    res = await gd.get_data(\n",
    "        auth=auth,\n",
    "        url=url,\n",
    "        method=\"GET\",\n",
    "        headers={\"accept\": \"*/*\"},\n",
    "        session=session,\n",
    "        debug_api=debug_api,\n",
    "        is_follow_redirects=True,\n",
    "        return_raw=return_raw,\n",
    "    )\n",
    "\n",
    "    return res"
   ]
  },
  {
   "attachments": {},
   "cell_type": "markdown",
   "metadata": {},
   "source": [
    "#### sample implementation of get_allowlist with the wrong auth type\n"
   ]
  },
  {
   "cell_type": "code",
   "execution_count": null,
   "metadata": {},
   "outputs": [
    {
     "name": "stdout",
     "output_type": "stream",
     "text": [
      "get_allowlist: This API rquires DomoFullAuth at domo-dojo\n"
     ]
    }
   ],
   "source": [
    "import os\n",
    "import requests\n",
    "\n",
    "auth = dmda.DomoTokenAuth(\n",
    "    domo_instance=\"domo-dojo\", domo_access_token=os.environ[\"DOMO_DOJO_ACCESS_TOKEN\"]\n",
    ")\n",
    "\n",
    "try:\n",
    "    await get_allowlist(auth=auth)\n",
    "except dmda.InvalidAuthTypeError as e:\n",
    "    print(e)"
   ]
  },
  {
   "attachments": {},
   "cell_type": "markdown",
   "metadata": {},
   "source": [
    "#### sample implementation of get_allowlist with the correct auth type\n"
   ]
  },
  {
   "cell_type": "code",
   "execution_count": null,
   "metadata": {},
   "outputs": [
    {
     "data": {
      "text/plain": [
       "ResponseGetData(status=200, response={'addresses': ['0.0.0.0/0', '20.171.67.126']}, is_success=True)"
      ]
     },
     "execution_count": null,
     "metadata": {},
     "output_type": "execute_result"
    }
   ],
   "source": [
    "import os\n",
    "import requests\n",
    "\n",
    "auth = dmda.DomoFullAuth(\n",
    "    domo_instance=\"domo-dojo\",\n",
    "    domo_username=\"jae@onyxreporting.com\",\n",
    "    domo_password=os.environ[\"DOJO_PASSWORD\"],\n",
    ")\n",
    "\n",
    "res = await get_allowlist(auth=auth)\n",
    "\n",
    "res"
   ]
  },
  {
   "cell_type": "code",
   "execution_count": null,
   "metadata": {},
   "outputs": [],
   "source": [
    "# | export\n",
    "class Allowlist_UnableToUpdate(de.DomoError):\n",
    "    def __init__(\n",
    "        self, \n",
    "        status: int, reason: str, domo_instance:str, function_name: str = \"update_allowlist\"\n",
    "    ):\n",
    "\n",
    "        super().__init__(\n",
    "            function_name=function_name,\n",
    "            status=status,\n",
    "            message=f\"unable to update allowlist: {reason}\",\n",
    "            domo_instance=domo_instance,\n",
    "        )"
   ]
  },
  {
   "cell_type": "code",
   "execution_count": null,
   "metadata": {},
   "outputs": [],
   "source": [
    "# | export\n",
    "\n",
    "\n",
    "async def set_allowlist(\n",
    "    auth: dmda.DomoAuth,\n",
    "    ip_address_ls: list[str],\n",
    "    debug_api: bool = False,\n",
    "    return_raw: bool = False,\n",
    "    session: httpx.AsyncClient = None\n",
    ") -> rgd.ResponseGetData:\n",
    "    \"\"\"companysettings/whitelist API only allows users to SET the allowlist does not allow INSERT or UPDATE\"\"\"\n",
    "\n",
    "    url = f\"https://{auth.domo_instance}.domo.com/admin/companysettings/whitelist\"\n",
    "\n",
    "    body = {\"addresses\": ip_address_ls}\n",
    "\n",
    "    res = await gd.get_data(\n",
    "        auth=auth,\n",
    "        url=url,\n",
    "        method=\"PUT\",\n",
    "        body=body,\n",
    "        debug_api=debug_api,\n",
    "        is_follow_redirects=True,\n",
    "        return_raw=return_raw,\n",
    "        session = session,\n",
    "        headers={\"accept\": \"text/plain\"},\n",
    "    )\n",
    "    if not res.is_success:\n",
    "        raise Allowlist_UnableToUpdate(\n",
    "            status=res.status, reason=res.response, domo_instance=auth.domo_instance\n",
    "        )\n",
    "\n",
    "    if res.is_success:\n",
    "        res.response = f\"allow list updated from {res.response}\"\n",
    "\n",
    "    return res"
   ]
  },
  {
   "cell_type": "code",
   "execution_count": null,
   "metadata": {},
   "outputs": [
    {
     "data": {
      "text/plain": [
       "ResponseGetData(status=200, response='allow list updated from 20.171.67.126', is_success=True)"
      ]
     },
     "execution_count": null,
     "metadata": {},
     "output_type": "execute_result"
    }
   ],
   "source": [
    "import os\n",
    "\n",
    "ip_address_ls = [\"0.0.0.0/0\"]\n",
    "\n",
    "auth = dmda.DomoTokenAuth(\n",
    "    domo_instance=\"domo-dojo\", domo_access_token=os.environ[\"DOMO_DOJO_ACCESS_TOKEN\"]\n",
    ")\n",
    "\n",
    "auth = dmda.DomoFullAuth(\n",
    "    domo_instance=\"domo-dojo\",\n",
    "    domo_username=\"jae@onyxreporting.com\",\n",
    "    domo_password=os.environ[\"DOJO_PASSWORD\"],\n",
    ")\n",
    "\n",
    "res = await set_allowlist(auth=auth, ip_address_ls=ip_address_ls)\n",
    "res"
   ]
  },
  {
   "cell_type": "code",
   "execution_count": null,
   "metadata": {},
   "outputs": [],
   "source": [
    "# # | export\n",
    "# async def update_authorized_domains(\n",
    "#     auth: DomoAuth,\n",
    "#     authorized_domain_list: list[str],\n",
    "#     debug_api: bool = False,\n",
    "#     session: httpx.AsyncClient = None,\n",
    "# ):\n",
    "#     url = f\"https://{auth.domo_instance}.domo.com/api/content/v1/customer-states/authorized-domains\"\n",
    "\n",
    "#     body = {\"name\": \"authorized-domains\", \"value\": \",\".join(authorized_domain_list)}\n",
    "\n",
    "#     if debug_api:\n",
    "#         print(url)\n",
    "\n",
    "#     res = await gd.get_data(\n",
    "#         auth=auth,\n",
    "#         url=url,\n",
    "#         method=\"PUT\",\n",
    "#         body=body,\n",
    "#         log_results=log_results,\n",
    "#         debug_api=debug_api,\n",
    "#         session=session,\n",
    "#     )\n",
    "\n",
    "#     return res\n"
   ]
  },
  {
   "cell_type": "code",
   "execution_count": null,
   "metadata": {},
   "outputs": [],
   "source": [
    "# # | export\n",
    "# async def get_authorized_domains(\n",
    "#     auth: DomoAuth,\n",
    "#     debug_api: bool = False,\n",
    "#     log_results: bool = False,\n",
    "#     session: httpx.AsyncClient = None,\n",
    "# ):\n",
    "#     url = f\"https://{auth.domo_instance}.domo.com/api/content/v1/customer-states/authorized-domains\"\n",
    "\n",
    "#     if debug_api:\n",
    "#         print(url)\n",
    "\n",
    "#     res = await gd.get_data(\n",
    "#         auth=auth,\n",
    "#         url=url,\n",
    "#         method=\"GET\",\n",
    "#         log_results=log_results,\n",
    "#         debug_api=debug_api,\n",
    "#         session=session,\n",
    "#     )\n",
    "\n",
    "#     return res\n"
   ]
  },
  {
   "cell_type": "code",
   "execution_count": null,
   "metadata": {},
   "outputs": [
    {
     "name": "stderr",
     "output_type": "stream",
     "text": [
      "Bad pipe message: %s [b'}p\\xce\\xd0\\x0f\\x91T\\xbe\\x98\\xc9\\x8aZp\\xd9m\\x06\\xf6\\x9e \\xb7\\xe8\\x97\\xbd\\xc5\\xc2\\xbe\\x17Yx,e', b'9\\x81\\x7f\\x8c\\xe5`\\xce\\xc2`\\x98J\\x1dV\\x9f\\x1bLX\\xf0\\x00\\x08\\x13\\x02\\x13\\x03\\x13\\x01\\x00\\xff\\x01\\x00\\x00\\x8f\\x00\\x00\\x00\\x0e\\x00\\x0c\\x00\\x00']\n",
      "Bad pipe message: %s [b'\\xda\\xc2\\xe7gB\\xb0\\x08\\xd4H\\x08~\\x0e\\x08\\xa4\\x84\\xcb\\xb9s\\x00\\x00>\\xc0\\x14\\xc0\\n\\x009\\x008\\x007\\x006\\xc0\\x0f\\xc0\\x05\\x005\\xc0\\x13\\xc0\\t\\x003\\x002\\x001\\x000\\xc0\\x0e\\xc0\\x04\\x00/\\x00\\x9a\\x00\\x99\\x00\\x98\\x00\\x97\\x00\\x96\\x00\\x07\\xc0\\x11\\xc0\\x07\\xc0\\x0c\\xc0\\x02\\x00\\x05\\x00\\x04\\x00\\xff\\x02\\x01\\x00\\x00C\\x00\\x00\\x00\\x0e\\x00\\x0c\\x00\\x00\\t127.0.0.1\\x00\\x0b\\x00\\x04\\x03\\x00\\x01\\x02\\x00\\n\\x00\\x1c\\x00\\x1a\\x00\\x17\\x00\\x19\\x00\\x1c\\x00\\x1b\\x00\\x18\\x00\\x1a\\x00\\x16\\x00\\x0e\\x00\\r\\x00\\x0b\\x00', b'\\t\\x00\\n\\x00#\\x00\\x00\\x00\\x0f\\x00\\x01']\n",
      "Bad pipe message: %s [b'', b'\\x00\\x02']\n",
      "Bad pipe message: %s [b'\\x8e\\x1e\\x8a\\x1fV\\x97\\xc4\\x9a\\x93\\x00\\x1bS\\xa40\\xe2\\xe8u\\xc2\\x00\\x00\\xa2\\xc0\\x14\\xc0\\n\\x009\\x008\\x007\\x006\\x00\\x88\\x00\\x87\\x00\\x86\\x00\\x85\\xc0\\x19\\x00:\\x00\\x89\\xc0\\x0f\\xc0\\x05\\x005\\x00\\x84\\xc0\\x13\\xc0\\t\\x003\\x002\\x001\\x000\\x00\\x9a\\x00\\x99\\x00\\x98\\x00\\x97\\x00', b'D\\x00C\\x00B\\xc0\\x18\\x004\\x00\\x9b\\x00F\\xc0\\x0e\\xc0\\x04\\x00/\\x00\\x96\\x00A\\x00\\x07\\xc0\\x11\\xc0\\x07\\xc0\\x16\\x00\\x18\\xc0\\x0c\\xc0\\x02\\x00\\x05\\x00\\x04\\xc0\\x12\\xc0\\x08\\x00\\x16\\x00\\x13\\x00\\x10\\x00\\r\\xc0\\x17\\x00\\x1b\\xc0\\r\\xc0\\x03\\x00\\n\\x00\\x15\\x00\\x12\\x00']\n",
      "Bad pipe message: %s [b'\\x0c\\x00\\x1a\\x00\\t\\x00\\x14\\x00\\x11\\x00\\x19\\x00\\x08\\x00']\n",
      "Bad pipe message: %s [b'\\x17\\x00\\x03\\xc0\\x10']\n",
      "Bad pipe message: %s [b'7\\x92\\x93\\xf9l\\xd7\\x8f\\t\\x18\\xfbn\\xc2Hf\\x0c\\xfc\\xdbu\\x00\\x00>\\xc0\\x14\\xc0\\n\\x009\\x008\\x007\\x006\\xc0\\x0f\\xc0\\x05\\x005\\xc0\\x13\\xc0\\t\\x003\\x002\\x001\\x000\\xc0\\x0e\\xc0\\x04\\x00/\\x00\\x9a\\x00\\x99\\x00\\x98\\x00\\x97\\x00\\x96\\x00\\x07\\xc0\\x11\\xc0\\x07\\xc0\\x0c\\xc0\\x02\\x00\\x05\\x00\\x04\\x00\\xff\\x02\\x01\\x00\\x00C\\x00']\n",
      "Bad pipe message: %s [b'\\xc3(\\xac\\xd7 \\xba\\xd7\\x103,\\x94q\\xe4\\xd9_Z\\x1f\\xb5\\x00\\x00\\xa2\\xc0\\x14\\xc0\\n\\x009\\x008\\x007\\x006\\x00\\x88\\x00\\x87\\x00\\x86\\x00\\x85\\xc0\\x19\\x00:\\x00\\x89\\xc0\\x0f\\xc0\\x05\\x005\\x00\\x84\\xc0\\x13\\xc0\\t\\x003\\x002\\x001\\x000\\x00\\x9a\\x00\\x99\\x00\\x98\\x00\\x97\\x00E\\x00D\\x00C\\x00B\\xc0\\x18\\x004\\x00\\x9b\\x00F\\xc0\\x0e\\xc0\\x04\\x00/\\x00\\x96\\x00A\\x00\\x07\\xc0\\x11\\xc0\\x07\\xc0\\x16\\x00\\x18\\xc0\\x0c\\xc0\\x02\\x00\\x05\\x00\\x04\\xc0\\x12\\xc0\\x08\\x00\\x16\\x00\\x13\\x00\\x10\\x00\\r\\xc0\\x17\\x00\\x1b\\xc0\\r\\xc0\\x03\\x00\\n\\x00\\x15\\x00\\x12\\x00\\x0f\\x00\\x0c\\x00\\x1a\\x00\\t\\x00\\x14\\x00\\x11\\x00\\x19\\x00\\x08\\x00\\x06\\x00\\x17\\x00\\x03\\xc0\\x10\\xc0\\x06\\xc0\\x15\\xc0\\x0b\\xc0\\x01\\x00\\x02\\x00\\x01\\x00\\xff\\x02\\x01\\x00\\x00C\\x00\\x00\\x00\\x0e\\x00\\x0c\\x00\\x00\\t127.0.0.1\\x00\\x0b\\x00\\x04\\x03\\x00\\x01\\x02\\x00\\n\\x00\\x1c\\x00\\x1a\\x00\\x17\\x00\\x19\\x00\\x1c\\x00\\x1b\\x00\\x18\\x00\\x1a']\n",
      "Bad pipe message: %s [b'K\\x1b\\xc3\\xb2\\xa67\\x87Rr\\xbb\\xaf5\\xc37\\xdb\\xff\\xaa]\\x00\\x00\\xa2\\xc0\\x14\\xc0\\n\\x009\\x008\\x007\\x006\\x00\\x88\\x00\\x87\\x00\\x86\\x00\\x85\\xc0\\x19\\x00:\\x00\\x89\\xc0\\x0f\\xc0\\x05\\x005\\x00\\x84\\xc0\\x13\\xc0', b'3\\x002\\x001\\x000\\x00']\n",
      "Bad pipe message: %s [b\"\\x01.`\\xafm\\x94\\x15W=\\xa0\\xb4GR\\x05o\\xa5'\\x9c\\x00\\x00\\xf4\\xc00\\xc0,\\xc0(\\xc0$\\xc0\\x14\\xc0\\n\\x00\\xa5\\x00\\xa3\\x00\\xa1\\x00\\x9f\\x00k\\x00j\\x00i\\x00h\\x009\\x008\\x007\\x006\\x00\\x88\\x00\\x87\\x00\\x86\\x00\\x85\\xc0\\x19\\x00\\xa7\\x00m\\x00:\\x00\\x89\\xc02\\xc0.\\xc0*\\xc0&\\xc0\\x0f\\xc0\\x05\\x00\\x9d\\x00=\\x005\\x00\\x84\\xc0/\\xc0+\\xc0'\\xc0#\\xc0\\x13\\xc0\\t\\x00\\xa4\\x00\\xa2\\x00\\xa0\\x00\\x9e\\x00g\\x00@\\x00?\\x00>\\x003\\x002\\x001\\x000\\x00\\x9a\\x00\\x99\\x00\\x98\\x00\\x97\\x00E\\x00D\\x00C\\x00B\\xc0\\x18\\x00\\xa6\\x00l\\x004\\x00\\x9b\"]\n"
     ]
    }
   ],
   "source": [
    "# | hide\n",
    "import nbdev\n",
    "\n",
    "nbdev.nbdev_export()\n"
   ]
  }
 ],
 "metadata": {
  "jupytext": {
   "split_at_heading": true
  },
  "kernelspec": {
   "display_name": "Python 3",
   "language": "python",
   "name": "python3"
  }
 },
 "nbformat": 4,
 "nbformat_minor": 4
}
