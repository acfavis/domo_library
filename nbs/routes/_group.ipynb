{
 "cells": [
  {
   "cell_type": "raw",
   "metadata": {},
   "source": [
    "---\n",
    "output-file: group_routes.html\n",
    "title: Group Routes\n",
    "\n",
    "---\n",
    "\n"
   ]
  },
  {
   "cell_type": "code",
   "execution_count": 5,
   "metadata": {},
   "outputs": [],
   "source": [
    "#| default_exp routes.group"
   ]
  },
  {
   "cell_type": "code",
   "execution_count": 6,
   "metadata": {},
   "outputs": [],
   "source": [
    "#| exporti\n",
    "import httpx\n",
    "#from .get_data import get_data\n",
    "#from ..DomoAuth import DomoFullAuth\n",
    "#from ...utils.ResponseGetData import ResponseGetData\n",
    "\n",
    "import utils.DictDot as dd\n",
    "import domolibrary.client.get_data as gd\n",
    "import domolibrary.client.ResponseGetData as rgd\n",
    "import domolibrary.client.DomoAuth as dmda"
   ]
  },
  {
   "cell_type": "code",
   "execution_count": 11,
   "metadata": {},
   "outputs": [],
   "source": [
    "# | export\n",
    "def generate_body_create_group(group_name: str,\n",
    "                               group_type: str = 'open',\n",
    "                               description: str = '') -> dict:\n",
    "    \"\"\" Generates the body to create group for v2 API\"\"\"\n",
    "    body = {\"name\": group_name, \n",
    "            \"type\": group_type,\n",
    "            \"description\": description}\n",
    "\n",
    "    return body\n"
   ]
  },
  {
   "cell_type": "code",
   "execution_count": 14,
   "metadata": {},
   "outputs": [],
   "source": [
    "#| export\n",
    "async def create_group(auth: dmda.DomoAuth,\n",
    "                       group_name: str,\n",
    "                       group_type: str = 'open',\n",
    "                       description: str = '',\n",
    "                       debug_api: bool = False) -> rgd.ResponseGetData:\n",
    "    # body : {\"name\": \"GROUP_NAME\", \"type\": \"open\", \"description\": \"\"}\n",
    "\n",
    "    body = generate_body_create_group(\n",
    "        group_name=group_name, group_type=group_type, description=description)\n",
    "\n",
    "    url = f'https://{auth.domo_instance}.domo.com/api/content/v2/groups/'\n",
    "\n",
    "    res= await gd.get_data(\n",
    "        auth=auth,\n",
    "        url=url,\n",
    "        method='POST',\n",
    "        body=body,\n",
    "        debug_api=debug_api\n",
    "    )\n",
    "\n",
    "    if not res.is_success:\n",
    "        raise Error"
   ]
  },
  {
   "attachments": {},
   "cell_type": "markdown",
   "metadata": {},
   "source": [
    "#### Sample implementation of create_group"
   ]
  },
  {
   "cell_type": "code",
   "execution_count": 24,
   "metadata": {},
   "outputs": [
    {
     "data": {
      "text/plain": [
       "<Response [400 Bad Request]>"
      ]
     },
     "execution_count": 24,
     "metadata": {},
     "output_type": "execute_result"
    }
   ],
   "source": [
    "import os\n",
    "\n",
    "token_auth = dmda.DomoTokenAuth(\n",
    "    domo_instance=\"domo-dojo\", \n",
    "    domo_access_token=os.environ[\"DOMO_DOJO_ACCESS_TOKEN\"]\n",
    ")\n",
    "\n",
    "token = await token_auth.get_auth_token()\n",
    "headers = token_auth.generate_auth_header(token = token)\n",
    "\n",
    "# res = await create_group(auth=token_auth, group_name='Test Group 2', debug_api=True)\n",
    "# res.response\n",
    "\n",
    "body = generate_body_create_group(\n",
    "        group_name=\"test group4\", group_type=\"open\", description=\"\")\n",
    "\n",
    "url = f'https://{token_auth.domo_instance}.domo.com/api/content/v2/groups/'\n",
    "\n",
    "import httpx\n",
    "\n",
    "session = httpx.AsyncClient()\n",
    "\n",
    "\n",
    "await session.request(method = 'POST', url = url, headers =headers , json=body )"
   ]
  },
  {
   "cell_type": "code",
   "execution_count": 10,
   "metadata": {},
   "outputs": [
    {
     "ename": "NameError",
     "evalue": "name 'DomoFullAuth' is not defined",
     "output_type": "error",
     "traceback": [
      "\u001b[0;31m---------------------------------------------------------------------------\u001b[0m",
      "\u001b[0;31mNameError\u001b[0m                                 Traceback (most recent call last)",
      "Cell \u001b[0;32mIn[10], line 2\u001b[0m\n\u001b[1;32m      1\u001b[0m \u001b[39m#| export\u001b[39;00m\n\u001b[0;32m----> 2\u001b[0m \u001b[39masync\u001b[39;00m \u001b[39mdef\u001b[39;00m \u001b[39mget_all_groups\u001b[39m(full_auth: DomoFullAuth,\n\u001b[1;32m      3\u001b[0m                          log_results: \u001b[39mbool\u001b[39m \u001b[39m=\u001b[39m \u001b[39mFalse\u001b[39;00m,\n\u001b[1;32m      4\u001b[0m                          debug: \u001b[39mbool\u001b[39m \u001b[39m=\u001b[39m \u001b[39mFalse\u001b[39;00m,\n\u001b[1;32m      5\u001b[0m                          session: httpx\u001b[39m.\u001b[39mAsyncClient \u001b[39m=\u001b[39m \u001b[39mNone\u001b[39;00m) \u001b[39m-\u001b[39m\u001b[39m>\u001b[39m rgd:\n\u001b[1;32m      6\u001b[0m     \u001b[39mif\u001b[39;00m debug:\n\u001b[1;32m      7\u001b[0m         \u001b[39mprint\u001b[39m(full_auth)\n",
      "\u001b[0;31mNameError\u001b[0m: name 'DomoFullAuth' is not defined"
     ]
    }
   ],
   "source": [
    "#| export\n",
    "async def get_all_groups(full_auth: DomoFullAuth,\n",
    "                         log_results: bool = False,\n",
    "                         debug: bool = False,\n",
    "                         session: httpx.AsyncClient = None) -> rgd:\n",
    "    if debug:\n",
    "        print(full_auth)\n",
    "\n",
    "    url = f'https://{full_auth.domo_instance}.domo.com/api/content/v2/groups/grouplist'\n",
    "\n",
    "    if debug:\n",
    "        print(full_auth, url)\n",
    "\n",
    "    if log_results:\n",
    "        print(f'Getting groups from - {url}')\n",
    "\n",
    "    res = await gd(url=url, method='GET', auth=full_auth, session=session)\n",
    "\n",
    "    return res"
   ]
  },
  {
   "cell_type": "code",
   "execution_count": null,
   "metadata": {},
   "outputs": [],
   "source": [
    "#| export\n",
    "async def search_groups_by_name(full_auth: DomoFullAuth,\n",
    "                                search_name: str,\n",
    "                                debug: bool = False, log_results: bool = False) -> rgd:\n",
    "    url = f'https://{full_auth.domo_instance}.domo.com/api/content/v2/groups/grouplist?ascending=true&search={search_name}&sort=name '\n",
    "\n",
    "    res = await gd(\n",
    "        auth=full_auth,\n",
    "        url=url,\n",
    "        method='GET',\n",
    "        debug=debug,\n",
    "        log_results=log_results\n",
    "    )\n",
    "    return res"
   ]
  },
  {
   "cell_type": "code",
   "execution_count": null,
   "metadata": {},
   "outputs": [],
   "source": [
    "#| export\n",
    "def generate_body_update_group_membership(group_id: str,\n",
    "                                          add_user_arr: list[str] = None,\n",
    "                                          remove_user_arr: list[str] = None,\n",
    "                                          add_owner_user_arr: list[str] = None,\n",
    "                                          remove_owner_user_arr: list[str] = None) -> list[dict]:\n",
    "    body = {\"groupId\": int(group_id)}\n",
    "    if add_owner_user_arr:\n",
    "        body.update({\"addOwners\": [{\"type\": \"USER\", \"id\": str(\n",
    "            userId)} for userId in add_owner_user_arr]})\n",
    "\n",
    "    if remove_owner_user_arr:\n",
    "        body.update({\"removeOwners\": [{\"type\": \"USER\", \"id\": str(\n",
    "            userId)} for userId in remove_owner_user_arr]})\n",
    "\n",
    "    if remove_user_arr:\n",
    "        body.update({\"removeMembers\": [\n",
    "                    {\"type\": \"USER\", \"id\": str(userId)} for userId in remove_user_arr]})\n",
    "    if add_user_arr:\n",
    "        body.update(\n",
    "            {\"addMembers\": [{\"type\": \"USER\", \"id\": str(userId)} for userId in add_user_arr]})\n",
    "\n",
    "    return [body]"
   ]
  },
  {
   "cell_type": "code",
   "execution_count": null,
   "metadata": {},
   "outputs": [],
   "source": [
    "#| export\n",
    "async def update_group_membership(full_auth: DomoFullAuth,\n",
    "                                  body: dict,\n",
    "                                  log_results: bool = False, debug: bool = False) -> ResponseGetData:\n",
    "    # body = [{\n",
    "    #     \"groupId\":\"GROUP_ID\",\n",
    "    #     \"removeMembers\": [{\"type\":\"USER\",\"id\":\"USER_ID\"}],\n",
    "    #     \"addMembers\"   : [{\"type\":\"USER\",\"id\":\"USER_ID\"}]\n",
    "    # }]\n",
    "\n",
    "    url = f'https://{full_auth.domo_instance}.domo.com/api/content/v2/groups/access'\n",
    "\n",
    "    if debug:\n",
    "        print(url, body)\n",
    "\n",
    "    res = await gd(\n",
    "        auth=full_auth,\n",
    "        url=url,\n",
    "        method='PUT',\n",
    "        body=body,\n",
    "        debug=debug\n",
    "    )\n",
    "\n",
    "    return res"
   ]
  },
  {
   "cell_type": "code",
   "execution_count": null,
   "metadata": {},
   "outputs": [],
   "source": [
    "#| export\n",
    "async def get_group_by_id(full_auth:DomoFullAuth, group_id:id, debug:bool = False) -> ResponseGetData:\n",
    "    url = f'https://{full_auth.domo_instance}.domo.com/api/content/v2/groups/{group_id}'\n",
    "\n",
    "    if debug:\n",
    "        print(url)\n",
    "\n",
    "    res = await gd(\n",
    "        auth=full_auth,\n",
    "        url=url,\n",
    "        method='GET',\n",
    "        debug=debug\n",
    "    )\n",
    "\n",
    "    return res"
   ]
  }
 ],
 "metadata": {
  "jupytext": {
   "split_at_heading": true
  },
  "kernelspec": {
   "display_name": "Python 3",
   "language": "python",
   "name": "python3"
  },
  "language_info": {
   "codemirror_mode": {
    "name": "ipython",
    "version": 3
   },
   "file_extension": ".py",
   "mimetype": "text/x-python",
   "name": "python",
   "nbconvert_exporter": "python",
   "pygments_lexer": "ipython3",
   "version": "3.10.4"
  },
  "vscode": {
   "interpreter": {
    "hash": "3ad933181bd8a04b432d3370b9dc3b0662ad032c4dfaa4e4f1596c548f763858"
   }
  }
 },
 "nbformat": 4,
 "nbformat_minor": 4
}
